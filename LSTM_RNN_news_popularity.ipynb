{
 "cells": [
  {
   "cell_type": "code",
   "execution_count": 8,
   "metadata": {},
   "outputs": [],
   "source": [
    "import numpy as np\n",
    "import pandas as pd"
   ]
  },
  {
   "cell_type": "code",
   "execution_count": 9,
   "metadata": {},
   "outputs": [],
   "source": [
    "df = pd.read_csv('article_titles_urls.csv', sep='\\n', header = None)"
   ]
  },
  {
   "cell_type": "code",
   "execution_count": 10,
   "metadata": {},
   "outputs": [],
   "source": [
    "titles = df[0].str.split('/,', expand=True)"
   ]
  },
  {
   "cell_type": "code",
   "execution_count": 11,
   "metadata": {
    "scrolled": false
   },
   "outputs": [
    {
     "data": {
      "text/html": [
       "<div>\n",
       "<style scoped>\n",
       "    .dataframe tbody tr th:only-of-type {\n",
       "        vertical-align: middle;\n",
       "    }\n",
       "\n",
       "    .dataframe tbody tr th {\n",
       "        vertical-align: top;\n",
       "    }\n",
       "\n",
       "    .dataframe thead th {\n",
       "        text-align: right;\n",
       "    }\n",
       "</style>\n",
       "<table border=\"1\" class=\"dataframe\">\n",
       "  <thead>\n",
       "    <tr style=\"text-align: right;\">\n",
       "      <th></th>\n",
       "      <th>0</th>\n",
       "      <th>1</th>\n",
       "    </tr>\n",
       "  </thead>\n",
       "  <tbody>\n",
       "    <tr>\n",
       "      <td>0</td>\n",
       "      <td>https://mashable.com/2013/01/07/amazon-instant...</td>\n",
       "      <td>Amazon's Streaming Video Library Now a Little ...</td>\n",
       "    </tr>\n",
       "    <tr>\n",
       "      <td>1</td>\n",
       "      <td>https://mashable.com/2013/01/07/ap-samsung-spo...</td>\n",
       "      <td>AP's Twitter to Begin Displaying Sponsored Twe...</td>\n",
       "    </tr>\n",
       "    <tr>\n",
       "      <td>2</td>\n",
       "      <td>https://mashable.com/2013/01/07/apple-40-billi...</td>\n",
       "      <td>Apple's App Store Passes 40 Billion Downloads,</td>\n",
       "    </tr>\n",
       "    <tr>\n",
       "      <td>3</td>\n",
       "      <td>https://mashable.com/2013/01/07/astronaut-notr...</td>\n",
       "      <td>This Astronaut Is Rooting for Notre Dame Tonight,</td>\n",
       "    </tr>\n",
       "    <tr>\n",
       "      <td>4</td>\n",
       "      <td>https://mashable.com/2013/01/07/att-u-verse-apps</td>\n",
       "      <td>New U-Verse Apps Simplify Sharing Photos and V...</td>\n",
       "    </tr>\n",
       "  </tbody>\n",
       "</table>\n",
       "</div>"
      ],
      "text/plain": [
       "                                                   0  \\\n",
       "0  https://mashable.com/2013/01/07/amazon-instant...   \n",
       "1  https://mashable.com/2013/01/07/ap-samsung-spo...   \n",
       "2  https://mashable.com/2013/01/07/apple-40-billi...   \n",
       "3  https://mashable.com/2013/01/07/astronaut-notr...   \n",
       "4   https://mashable.com/2013/01/07/att-u-verse-apps   \n",
       "\n",
       "                                                   1  \n",
       "0  Amazon's Streaming Video Library Now a Little ...  \n",
       "1  AP's Twitter to Begin Displaying Sponsored Twe...  \n",
       "2     Apple's App Store Passes 40 Billion Downloads,  \n",
       "3  This Astronaut Is Rooting for Notre Dame Tonight,  \n",
       "4  New U-Verse Apps Simplify Sharing Photos and V...  "
      ]
     },
     "execution_count": 11,
     "metadata": {},
     "output_type": "execute_result"
    }
   ],
   "source": [
    "titles.head()"
   ]
  },
  {
   "cell_type": "code",
   "execution_count": 12,
   "metadata": {},
   "outputs": [],
   "source": [
    "titles['url']= titles[0].str.replace('https','http')"
   ]
  },
  {
   "cell_type": "code",
   "execution_count": 13,
   "metadata": {},
   "outputs": [],
   "source": [
    "titles.drop(columns = 0, axis = 1, inplace =True)"
   ]
  },
  {
   "cell_type": "code",
   "execution_count": 14,
   "metadata": {},
   "outputs": [],
   "source": [
    "titles = titles[['url',1]]"
   ]
  },
  {
   "cell_type": "code",
   "execution_count": 15,
   "metadata": {},
   "outputs": [],
   "source": [
    "df_total = pd.read_csv('OnlineNewsPopularity.csv')"
   ]
  },
  {
   "cell_type": "code",
   "execution_count": 16,
   "metadata": {},
   "outputs": [],
   "source": [
    "df_total = df_total[['url',' shares']]"
   ]
  },
  {
   "cell_type": "code",
   "execution_count": 17,
   "metadata": {},
   "outputs": [
    {
     "data": {
      "text/html": [
       "<div>\n",
       "<style scoped>\n",
       "    .dataframe tbody tr th:only-of-type {\n",
       "        vertical-align: middle;\n",
       "    }\n",
       "\n",
       "    .dataframe tbody tr th {\n",
       "        vertical-align: top;\n",
       "    }\n",
       "\n",
       "    .dataframe thead th {\n",
       "        text-align: right;\n",
       "    }\n",
       "</style>\n",
       "<table border=\"1\" class=\"dataframe\">\n",
       "  <thead>\n",
       "    <tr style=\"text-align: right;\">\n",
       "      <th></th>\n",
       "      <th>url</th>\n",
       "      <th>shares</th>\n",
       "    </tr>\n",
       "  </thead>\n",
       "  <tbody>\n",
       "    <tr>\n",
       "      <td>0</td>\n",
       "      <td>http://mashable.com/2013/01/07/amazon-instant-...</td>\n",
       "      <td>593</td>\n",
       "    </tr>\n",
       "    <tr>\n",
       "      <td>1</td>\n",
       "      <td>http://mashable.com/2013/01/07/ap-samsung-spon...</td>\n",
       "      <td>711</td>\n",
       "    </tr>\n",
       "    <tr>\n",
       "      <td>2</td>\n",
       "      <td>http://mashable.com/2013/01/07/apple-40-billio...</td>\n",
       "      <td>1500</td>\n",
       "    </tr>\n",
       "    <tr>\n",
       "      <td>3</td>\n",
       "      <td>http://mashable.com/2013/01/07/astronaut-notre...</td>\n",
       "      <td>1200</td>\n",
       "    </tr>\n",
       "    <tr>\n",
       "      <td>4</td>\n",
       "      <td>http://mashable.com/2013/01/07/att-u-verse-apps/</td>\n",
       "      <td>505</td>\n",
       "    </tr>\n",
       "    <tr>\n",
       "      <td>...</td>\n",
       "      <td>...</td>\n",
       "      <td>...</td>\n",
       "    </tr>\n",
       "    <tr>\n",
       "      <td>39639</td>\n",
       "      <td>http://mashable.com/2014/12/27/samsung-app-aut...</td>\n",
       "      <td>1800</td>\n",
       "    </tr>\n",
       "    <tr>\n",
       "      <td>39640</td>\n",
       "      <td>http://mashable.com/2014/12/27/seth-rogen-jame...</td>\n",
       "      <td>1900</td>\n",
       "    </tr>\n",
       "    <tr>\n",
       "      <td>39641</td>\n",
       "      <td>http://mashable.com/2014/12/27/son-pays-off-mo...</td>\n",
       "      <td>1900</td>\n",
       "    </tr>\n",
       "    <tr>\n",
       "      <td>39642</td>\n",
       "      <td>http://mashable.com/2014/12/27/ukraine-blasts/</td>\n",
       "      <td>1100</td>\n",
       "    </tr>\n",
       "    <tr>\n",
       "      <td>39643</td>\n",
       "      <td>http://mashable.com/2014/12/27/youtube-channel...</td>\n",
       "      <td>1300</td>\n",
       "    </tr>\n",
       "  </tbody>\n",
       "</table>\n",
       "<p>39644 rows × 2 columns</p>\n",
       "</div>"
      ],
      "text/plain": [
       "                                                     url   shares\n",
       "0      http://mashable.com/2013/01/07/amazon-instant-...      593\n",
       "1      http://mashable.com/2013/01/07/ap-samsung-spon...      711\n",
       "2      http://mashable.com/2013/01/07/apple-40-billio...     1500\n",
       "3      http://mashable.com/2013/01/07/astronaut-notre...     1200\n",
       "4       http://mashable.com/2013/01/07/att-u-verse-apps/      505\n",
       "...                                                  ...      ...\n",
       "39639  http://mashable.com/2014/12/27/samsung-app-aut...     1800\n",
       "39640  http://mashable.com/2014/12/27/seth-rogen-jame...     1900\n",
       "39641  http://mashable.com/2014/12/27/son-pays-off-mo...     1900\n",
       "39642     http://mashable.com/2014/12/27/ukraine-blasts/     1100\n",
       "39643  http://mashable.com/2014/12/27/youtube-channel...     1300\n",
       "\n",
       "[39644 rows x 2 columns]"
      ]
     },
     "execution_count": 17,
     "metadata": {},
     "output_type": "execute_result"
    }
   ],
   "source": [
    "df_total"
   ]
  },
  {
   "cell_type": "code",
   "execution_count": 18,
   "metadata": {},
   "outputs": [],
   "source": [
    "df_total['url'] = df_total['url'].map(lambda x: str(x)[:-1])"
   ]
  },
  {
   "cell_type": "code",
   "execution_count": 19,
   "metadata": {},
   "outputs": [],
   "source": [
    "titles_numberofshares_df = pd.merge(df_total,titles, how='inner', on=['url'])"
   ]
  },
  {
   "cell_type": "code",
   "execution_count": 20,
   "metadata": {},
   "outputs": [],
   "source": [
    "titles_numberofshares_df.drop(['url'], inplace=True, axis=1)"
   ]
  },
  {
   "cell_type": "code",
   "execution_count": 21,
   "metadata": {},
   "outputs": [],
   "source": [
    "final_df=titles_numberofshares_df.drop(titles_numberofshares_df.index[0])"
   ]
  },
  {
   "cell_type": "code",
   "execution_count": 22,
   "metadata": {},
   "outputs": [
    {
     "data": {
      "text/html": [
       "<div>\n",
       "<style scoped>\n",
       "    .dataframe tbody tr th:only-of-type {\n",
       "        vertical-align: middle;\n",
       "    }\n",
       "\n",
       "    .dataframe tbody tr th {\n",
       "        vertical-align: top;\n",
       "    }\n",
       "\n",
       "    .dataframe thead th {\n",
       "        text-align: right;\n",
       "    }\n",
       "</style>\n",
       "<table border=\"1\" class=\"dataframe\">\n",
       "  <thead>\n",
       "    <tr style=\"text-align: right;\">\n",
       "      <th></th>\n",
       "      <th>shares</th>\n",
       "      <th>1</th>\n",
       "    </tr>\n",
       "  </thead>\n",
       "  <tbody>\n",
       "    <tr>\n",
       "      <td>1</td>\n",
       "      <td>593</td>\n",
       "      <td>Amazon's Streaming Video Library Now a Little ...</td>\n",
       "    </tr>\n",
       "    <tr>\n",
       "      <td>2</td>\n",
       "      <td>711</td>\n",
       "      <td>AP's Twitter to Begin Displaying Sponsored Twe...</td>\n",
       "    </tr>\n",
       "    <tr>\n",
       "      <td>3</td>\n",
       "      <td>1500</td>\n",
       "      <td>Apple's App Store Passes 40 Billion Downloads,</td>\n",
       "    </tr>\n",
       "    <tr>\n",
       "      <td>4</td>\n",
       "      <td>1200</td>\n",
       "      <td>This Astronaut Is Rooting for Notre Dame Tonight,</td>\n",
       "    </tr>\n",
       "    <tr>\n",
       "      <td>5</td>\n",
       "      <td>505</td>\n",
       "      <td>New U-Verse Apps Simplify Sharing Photos and V...</td>\n",
       "    </tr>\n",
       "    <tr>\n",
       "      <td>...</td>\n",
       "      <td>...</td>\n",
       "      <td>...</td>\n",
       "    </tr>\n",
       "    <tr>\n",
       "      <td>39446</td>\n",
       "      <td>1800</td>\n",
       "      <td>Samsung app aims to improve autistic children'...</td>\n",
       "    </tr>\n",
       "    <tr>\n",
       "      <td>39447</td>\n",
       "      <td>1900</td>\n",
       "      <td>Seth Rogen, James Franco are planning to live-...</td>\n",
       "    </tr>\n",
       "    <tr>\n",
       "      <td>39448</td>\n",
       "      <td>1900</td>\n",
       "      <td>App developer says 'Merry Christmas' by paying...</td>\n",
       "    </tr>\n",
       "    <tr>\n",
       "      <td>39449</td>\n",
       "      <td>1100</td>\n",
       "      <td>Two dead after Ukraine rocked by series of bla...</td>\n",
       "    </tr>\n",
       "    <tr>\n",
       "      <td>39450</td>\n",
       "      <td>1300</td>\n",
       "      <td>8 YouTube channels to watch in 2015,</td>\n",
       "    </tr>\n",
       "  </tbody>\n",
       "</table>\n",
       "<p>39450 rows × 2 columns</p>\n",
       "</div>"
      ],
      "text/plain": [
       "        shares                                                  1\n",
       "1          593  Amazon's Streaming Video Library Now a Little ...\n",
       "2          711  AP's Twitter to Begin Displaying Sponsored Twe...\n",
       "3         1500     Apple's App Store Passes 40 Billion Downloads,\n",
       "4         1200  This Astronaut Is Rooting for Notre Dame Tonight,\n",
       "5          505  New U-Verse Apps Simplify Sharing Photos and V...\n",
       "...        ...                                                ...\n",
       "39446     1800  Samsung app aims to improve autistic children'...\n",
       "39447     1900  Seth Rogen, James Franco are planning to live-...\n",
       "39448     1900  App developer says 'Merry Christmas' by paying...\n",
       "39449     1100  Two dead after Ukraine rocked by series of bla...\n",
       "39450     1300               8 YouTube channels to watch in 2015,\n",
       "\n",
       "[39450 rows x 2 columns]"
      ]
     },
     "execution_count": 22,
     "metadata": {},
     "output_type": "execute_result"
    }
   ],
   "source": [
    "final_df"
   ]
  },
  {
   "cell_type": "code",
   "execution_count": 23,
   "metadata": {},
   "outputs": [],
   "source": [
    "final_df['popular'] = final_df[' shares'].apply(lambda x: 1 if (x >= 1400) else 0)"
   ]
  },
  {
   "cell_type": "code",
   "execution_count": 24,
   "metadata": {},
   "outputs": [
    {
     "data": {
      "text/html": [
       "<div>\n",
       "<style scoped>\n",
       "    .dataframe tbody tr th:only-of-type {\n",
       "        vertical-align: middle;\n",
       "    }\n",
       "\n",
       "    .dataframe tbody tr th {\n",
       "        vertical-align: top;\n",
       "    }\n",
       "\n",
       "    .dataframe thead th {\n",
       "        text-align: right;\n",
       "    }\n",
       "</style>\n",
       "<table border=\"1\" class=\"dataframe\">\n",
       "  <thead>\n",
       "    <tr style=\"text-align: right;\">\n",
       "      <th></th>\n",
       "      <th>shares</th>\n",
       "      <th>1</th>\n",
       "      <th>popular</th>\n",
       "    </tr>\n",
       "  </thead>\n",
       "  <tbody>\n",
       "    <tr>\n",
       "      <td>1</td>\n",
       "      <td>593</td>\n",
       "      <td>Amazon's Streaming Video Library Now a Little ...</td>\n",
       "      <td>0</td>\n",
       "    </tr>\n",
       "    <tr>\n",
       "      <td>2</td>\n",
       "      <td>711</td>\n",
       "      <td>AP's Twitter to Begin Displaying Sponsored Twe...</td>\n",
       "      <td>0</td>\n",
       "    </tr>\n",
       "    <tr>\n",
       "      <td>3</td>\n",
       "      <td>1500</td>\n",
       "      <td>Apple's App Store Passes 40 Billion Downloads,</td>\n",
       "      <td>1</td>\n",
       "    </tr>\n",
       "    <tr>\n",
       "      <td>4</td>\n",
       "      <td>1200</td>\n",
       "      <td>This Astronaut Is Rooting for Notre Dame Tonight,</td>\n",
       "      <td>0</td>\n",
       "    </tr>\n",
       "    <tr>\n",
       "      <td>5</td>\n",
       "      <td>505</td>\n",
       "      <td>New U-Verse Apps Simplify Sharing Photos and V...</td>\n",
       "      <td>0</td>\n",
       "    </tr>\n",
       "    <tr>\n",
       "      <td>...</td>\n",
       "      <td>...</td>\n",
       "      <td>...</td>\n",
       "      <td>...</td>\n",
       "    </tr>\n",
       "    <tr>\n",
       "      <td>39446</td>\n",
       "      <td>1800</td>\n",
       "      <td>Samsung app aims to improve autistic children'...</td>\n",
       "      <td>1</td>\n",
       "    </tr>\n",
       "    <tr>\n",
       "      <td>39447</td>\n",
       "      <td>1900</td>\n",
       "      <td>Seth Rogen, James Franco are planning to live-...</td>\n",
       "      <td>1</td>\n",
       "    </tr>\n",
       "    <tr>\n",
       "      <td>39448</td>\n",
       "      <td>1900</td>\n",
       "      <td>App developer says 'Merry Christmas' by paying...</td>\n",
       "      <td>1</td>\n",
       "    </tr>\n",
       "    <tr>\n",
       "      <td>39449</td>\n",
       "      <td>1100</td>\n",
       "      <td>Two dead after Ukraine rocked by series of bla...</td>\n",
       "      <td>0</td>\n",
       "    </tr>\n",
       "    <tr>\n",
       "      <td>39450</td>\n",
       "      <td>1300</td>\n",
       "      <td>8 YouTube channels to watch in 2015,</td>\n",
       "      <td>0</td>\n",
       "    </tr>\n",
       "  </tbody>\n",
       "</table>\n",
       "<p>39450 rows × 3 columns</p>\n",
       "</div>"
      ],
      "text/plain": [
       "        shares                                                  1  popular\n",
       "1          593  Amazon's Streaming Video Library Now a Little ...        0\n",
       "2          711  AP's Twitter to Begin Displaying Sponsored Twe...        0\n",
       "3         1500     Apple's App Store Passes 40 Billion Downloads,        1\n",
       "4         1200  This Astronaut Is Rooting for Notre Dame Tonight,        0\n",
       "5          505  New U-Verse Apps Simplify Sharing Photos and V...        0\n",
       "...        ...                                                ...      ...\n",
       "39446     1800  Samsung app aims to improve autistic children'...        1\n",
       "39447     1900  Seth Rogen, James Franco are planning to live-...        1\n",
       "39448     1900  App developer says 'Merry Christmas' by paying...        1\n",
       "39449     1100  Two dead after Ukraine rocked by series of bla...        0\n",
       "39450     1300               8 YouTube channels to watch in 2015,        0\n",
       "\n",
       "[39450 rows x 3 columns]"
      ]
     },
     "execution_count": 24,
     "metadata": {},
     "output_type": "execute_result"
    }
   ],
   "source": [
    "final_df"
   ]
  },
  {
   "cell_type": "code",
   "execution_count": 26,
   "metadata": {},
   "outputs": [],
   "source": [
    "import tensorflow as tf\n",
    "import numpy as np\n",
    "from tensorflow.keras.preprocessing.text import Tokenizer\n",
    "from tensorflow.keras.preprocessing.sequence import pad_sequences\n",
    "from sklearn.model_selection import train_test_split"
   ]
  },
  {
   "cell_type": "code",
   "execution_count": 31,
   "metadata": {},
   "outputs": [],
   "source": [
    "X = final_df[1].values\n",
    "y = final_df['popular'].values"
   ]
  },
  {
   "cell_type": "code",
   "execution_count": 32,
   "metadata": {},
   "outputs": [],
   "source": [
    "list_of_length = [len(a.split()) for a in X]"
   ]
  },
  {
   "cell_type": "code",
   "execution_count": 33,
   "metadata": {},
   "outputs": [
    {
     "data": {
      "text/plain": [
       "12.959579240278043"
      ]
     },
     "execution_count": 33,
     "metadata": {},
     "output_type": "execute_result"
    }
   ],
   "source": [
    "b = np.array(list_of_length)\n",
    "b.mean() + 2*b.std()"
   ]
  },
  {
   "cell_type": "code",
   "execution_count": 34,
   "metadata": {},
   "outputs": [
    {
     "data": {
      "text/plain": [
       "(39450,)"
      ]
     },
     "execution_count": 34,
     "metadata": {},
     "output_type": "execute_result"
    }
   ],
   "source": [
    "X.shape\n",
    "y.shape"
   ]
  },
  {
   "cell_type": "code",
   "execution_count": 35,
   "metadata": {},
   "outputs": [],
   "source": [
    "X_train, X_test, y_train, y_test = train_test_split(X, y, test_size=0.2, random_state=42)"
   ]
  },
  {
   "cell_type": "code",
   "execution_count": 256,
   "metadata": {},
   "outputs": [],
   "source": [
    "vocab_size = 5000\n",
    "max_length = 14\n",
    "embedding_dim = 128\n",
    "trunc_type = 'post'\n",
    "padding_type = 'post'\n",
    "oov_tok = '<OOV>'"
   ]
  },
  {
   "cell_type": "code",
   "execution_count": 257,
   "metadata": {},
   "outputs": [],
   "source": [
    "tokenizer = Tokenizer(num_words = vocab_size)\n",
    "tokenizer.fit_on_texts(X_train)\n",
    "word_index = tokenizer.word_index"
   ]
  },
  {
   "cell_type": "code",
   "execution_count": 258,
   "metadata": {},
   "outputs": [
    {
     "data": {
      "text/plain": [
       "31560"
      ]
     },
     "execution_count": 258,
     "metadata": {},
     "output_type": "execute_result"
    }
   ],
   "source": [
    "len(word_index)\n",
    "len(y_train)"
   ]
  },
  {
   "cell_type": "code",
   "execution_count": 259,
   "metadata": {},
   "outputs": [],
   "source": [
    "X_train_article_titles_sequences = tokenizer.texts_to_sequences(X_train)"
   ]
  },
  {
   "cell_type": "code",
   "execution_count": 260,
   "metadata": {},
   "outputs": [],
   "source": [
    "X_train_article_titles_padded = pad_sequences(X_train_article_titles_sequences, maxlen=max_length, padding=padding_type, truncating=trunc_type)"
   ]
  },
  {
   "cell_type": "code",
   "execution_count": 261,
   "metadata": {},
   "outputs": [
    {
     "data": {
      "text/plain": [
       "(31560, 14)"
      ]
     },
     "execution_count": 261,
     "metadata": {},
     "output_type": "execute_result"
    }
   ],
   "source": [
    "X_train_article_titles_padded.shape"
   ]
  },
  {
   "cell_type": "code",
   "execution_count": 262,
   "metadata": {},
   "outputs": [],
   "source": [
    "X_test_article_titles_sequences = tokenizer.texts_to_sequences(X_test)"
   ]
  },
  {
   "cell_type": "code",
   "execution_count": 263,
   "metadata": {},
   "outputs": [],
   "source": [
    "X_test_article_titles_padded = pad_sequences(X_test_article_titles_sequences, maxlen=max_length, padding=padding_type, truncating=trunc_type)"
   ]
  },
  {
   "cell_type": "code",
   "execution_count": 264,
   "metadata": {},
   "outputs": [
    {
     "data": {
      "text/plain": [
       "(7890, 14)"
      ]
     },
     "execution_count": 264,
     "metadata": {},
     "output_type": "execute_result"
    }
   ],
   "source": [
    "X_test_article_titles_padded.shape"
   ]
  },
  {
   "cell_type": "code",
   "execution_count": 265,
   "metadata": {},
   "outputs": [],
   "source": [
    "# model = tf.keras.Sequential([\n",
    "#     # Add an Embedding layer expecting input vocab of size 5000, and output embedding dimension of size 64 we set at the top\n",
    "#     tf.keras.layers.Embedding(vocab_size, embedding_dim),\n",
    "# #     tf.keras.layers.Bidirectional(tf.keras.layers.LSTM(embedding_dim)),\n",
    "#     # tf.keras.layers.Bidirectional(tf.keras.layers.LSTM(32)),\n",
    "#     # use ReLU in place of tanh function since they are very good alternatives of each other.\n",
    "#     tf.keras.layers.Dense(embedding_dim, activation='relu'),\n",
    "#     # Add a Dense layer with 6 units and softmax activation.\n",
    "#     # When we have multiple outputs, softmax convert outputs layers into a probability distribution.\n",
    "#     tf.keras.layers.Dense(1, activation='sigmoid')\n",
    "# ])\n",
    "# model.summary()"
   ]
  },
  {
   "cell_type": "code",
   "execution_count": 266,
   "metadata": {},
   "outputs": [],
   "source": [
    "# model.compile(loss='binary_crossentropy', optimizer='adam', metrics=['accuracy'])\n",
    "# num_epochs = 10\n",
    "# history = model.fit(X_train_article_titles_padded, y_train, epochs=num_epochs, validation_data=(X_test_article_titles_padded, y_test), verbose=2)"
   ]
  },
  {
   "cell_type": "code",
   "execution_count": 282,
   "metadata": {},
   "outputs": [],
   "source": [
    "model1 = tf.keras.Sequential()"
   ]
  },
  {
   "cell_type": "code",
   "execution_count": 283,
   "metadata": {},
   "outputs": [],
   "source": [
    "model1.add(tf.keras.layers.Embedding(input_dim = vocab_size, output_dim = embedding_dim, input_length = max_length))"
   ]
  },
  {
   "cell_type": "code",
   "execution_count": 284,
   "metadata": {},
   "outputs": [],
   "source": [
    "model1.add(tf.keras.layers.LSTM(units = embedding_dim))"
   ]
  },
  {
   "cell_type": "code",
   "execution_count": 285,
   "metadata": {},
   "outputs": [],
   "source": [
    "model1.add(tf.keras.layers.Dropout(0.2))"
   ]
  },
  {
   "cell_type": "code",
   "execution_count": 286,
   "metadata": {},
   "outputs": [],
   "source": [
    "model1.add(tf.keras.layers.Dense(1, activation = 'relu'))"
   ]
  },
  {
   "cell_type": "code",
   "execution_count": 287,
   "metadata": {},
   "outputs": [],
   "source": [
    "model1.compile(loss='binary_crossentropy', optimizer='adam', metrics=['accuracy'])"
   ]
  },
  {
   "cell_type": "code",
   "execution_count": 288,
   "metadata": {},
   "outputs": [
    {
     "name": "stdout",
     "output_type": "stream",
     "text": [
      "Model: \"sequential_13\"\n",
      "_________________________________________________________________\n",
      "Layer (type)                 Output Shape              Param #   \n",
      "=================================================================\n",
      "embedding_13 (Embedding)     (None, 14, 128)           640000    \n",
      "_________________________________________________________________\n",
      "lstm_16 (LSTM)               (None, 128)               131584    \n",
      "_________________________________________________________________\n",
      "dropout (Dropout)            (None, 128)               0         \n",
      "_________________________________________________________________\n",
      "dense_13 (Dense)             (None, 1)                 129       \n",
      "=================================================================\n",
      "Total params: 771,713\n",
      "Trainable params: 771,713\n",
      "Non-trainable params: 0\n",
      "_________________________________________________________________\n"
     ]
    }
   ],
   "source": [
    "model1.summary()"
   ]
  },
  {
   "cell_type": "code",
   "execution_count": 289,
   "metadata": {},
   "outputs": [
    {
     "name": "stdout",
     "output_type": "stream",
     "text": [
      "Train on 31560 samples, validate on 7890 samples\n",
      "Epoch 1/15\n",
      "31560/31560 - 21s - loss: 0.7019 - accuracy: 0.5108 - val_loss: 0.6927 - val_accuracy: 0.5385\n",
      "Epoch 2/15\n",
      "31560/31560 - 19s - loss: 0.6745 - accuracy: 0.5779 - val_loss: 0.7025 - val_accuracy: 0.5257\n",
      "Epoch 3/15\n",
      "31560/31560 - 19s - loss: 0.6516 - accuracy: 0.6202 - val_loss: 0.7373 - val_accuracy: 0.5181\n",
      "Epoch 4/15\n",
      "31560/31560 - 19s - loss: 0.6369 - accuracy: 0.6368 - val_loss: 0.8766 - val_accuracy: 0.5048\n",
      "Epoch 5/15\n",
      "31560/31560 - 19s - loss: 0.6108 - accuracy: 0.6616 - val_loss: 0.7169 - val_accuracy: 0.5122\n",
      "Epoch 6/15\n",
      "31560/31560 - 19s - loss: 0.5966 - accuracy: 0.6783 - val_loss: 0.7534 - val_accuracy: 0.4646\n",
      "Epoch 7/15\n",
      "31560/31560 - 19s - loss: 0.5820 - accuracy: 0.6903 - val_loss: 0.8056 - val_accuracy: 0.5077\n",
      "Epoch 8/15\n",
      "31560/31560 - 19s - loss: 0.5634 - accuracy: 0.7058 - val_loss: 1.3744 - val_accuracy: 0.5100\n",
      "Epoch 9/15\n",
      "31560/31560 - 19s - loss: 0.5197 - accuracy: 0.7380 - val_loss: 1.8304 - val_accuracy: 0.5090\n",
      "Epoch 10/15\n",
      "31560/31560 - 19s - loss: 0.5262 - accuracy: 0.7327 - val_loss: 1.6961 - val_accuracy: 0.5053\n",
      "Epoch 11/15\n",
      "31560/31560 - 19s - loss: 0.5162 - accuracy: 0.7431 - val_loss: 1.3746 - val_accuracy: 0.5138\n",
      "Epoch 12/15\n",
      "31560/31560 - 19s - loss: 0.4919 - accuracy: 0.7616 - val_loss: 1.6266 - val_accuracy: 0.5138\n",
      "Epoch 13/15\n",
      "31560/31560 - 19s - loss: 0.4544 - accuracy: 0.7847 - val_loss: 1.9049 - val_accuracy: 0.5108\n",
      "Epoch 14/15\n",
      "31560/31560 - 20s - loss: 0.4309 - accuracy: 0.8084 - val_loss: 2.6776 - val_accuracy: 0.5103\n",
      "Epoch 15/15\n",
      "31560/31560 - 21s - loss: 0.4330 - accuracy: 0.8152 - val_loss: 1.4796 - val_accuracy: 0.4982\n"
     ]
    }
   ],
   "source": [
    "num_epochs = 15\n",
    "history = model1.fit(X_train_article_titles_padded, y_train, epochs=num_epochs, validation_data=(X_test_article_titles_padded, y_test), verbose=2)"
   ]
  },
  {
   "cell_type": "code",
   "execution_count": null,
   "metadata": {},
   "outputs": [],
   "source": []
  },
  {
   "cell_type": "code",
   "execution_count": null,
   "metadata": {},
   "outputs": [],
   "source": []
  },
  {
   "cell_type": "code",
   "execution_count": null,
   "metadata": {},
   "outputs": [],
   "source": []
  },
  {
   "cell_type": "code",
   "execution_count": null,
   "metadata": {},
   "outputs": [],
   "source": []
  }
 ],
 "metadata": {
  "kernelspec": {
   "display_name": "Python 3",
   "language": "python",
   "name": "python3"
  },
  "language_info": {
   "codemirror_mode": {
    "name": "ipython",
    "version": 3
   },
   "file_extension": ".py",
   "mimetype": "text/x-python",
   "name": "python",
   "nbconvert_exporter": "python",
   "pygments_lexer": "ipython3",
   "version": "3.7.4"
  }
 },
 "nbformat": 4,
 "nbformat_minor": 2
}
