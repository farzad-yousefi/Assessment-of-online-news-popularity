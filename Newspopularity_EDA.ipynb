{
 "cells": [
  {
   "cell_type": "code",
   "execution_count": 49,
   "metadata": {},
   "outputs": [],
   "source": [
    "import numpy as np\n",
    "import pandas as pd\n",
    "import matplotlib.pyplot as plt\n",
    "import seaborn as sns\n",
    "%matplotlib inline\n",
    "from sklearn.tree import DecisionTreeRegressor\n",
    "from sklearn.ensemble import RandomForestRegressor, RandomForestClassifier\n",
    "from sklearn.metrics import log_loss, make_scorer\n",
    "from sklearn.model_selection import cross_val_score, train_test_split, GridSearchCV\n",
    "from sklearn.preprocessing import StandardScaler\n",
    "from sklearn.metrics import mean_squared_error"
   ]
  },
  {
   "cell_type": "code",
   "execution_count": 2,
   "metadata": {},
   "outputs": [
    {
     "name": "stdout",
     "output_type": "stream",
     "text": [
      "Newspopularity.ipynb  OnlineNewsPopularity.csv\tOnlineNewsPopularity.zip\r\n"
     ]
    }
   ],
   "source": [
    "!ls"
   ]
  },
  {
   "cell_type": "code",
   "execution_count": 3,
   "metadata": {},
   "outputs": [],
   "source": [
    "df = pd.read_csv('OnlineNewsPopularity.csv')"
   ]
  },
  {
   "cell_type": "code",
   "execution_count": 4,
   "metadata": {},
   "outputs": [
    {
     "data": {
      "text/html": [
       "<div>\n",
       "<style scoped>\n",
       "    .dataframe tbody tr th:only-of-type {\n",
       "        vertical-align: middle;\n",
       "    }\n",
       "\n",
       "    .dataframe tbody tr th {\n",
       "        vertical-align: top;\n",
       "    }\n",
       "\n",
       "    .dataframe thead th {\n",
       "        text-align: right;\n",
       "    }\n",
       "</style>\n",
       "<table border=\"1\" class=\"dataframe\">\n",
       "  <thead>\n",
       "    <tr style=\"text-align: right;\">\n",
       "      <th></th>\n",
       "      <th>url</th>\n",
       "      <th>timedelta</th>\n",
       "      <th>n_tokens_title</th>\n",
       "      <th>n_tokens_content</th>\n",
       "      <th>n_unique_tokens</th>\n",
       "      <th>n_non_stop_words</th>\n",
       "      <th>n_non_stop_unique_tokens</th>\n",
       "      <th>num_hrefs</th>\n",
       "      <th>num_self_hrefs</th>\n",
       "      <th>num_imgs</th>\n",
       "      <th>...</th>\n",
       "      <th>min_positive_polarity</th>\n",
       "      <th>max_positive_polarity</th>\n",
       "      <th>avg_negative_polarity</th>\n",
       "      <th>min_negative_polarity</th>\n",
       "      <th>max_negative_polarity</th>\n",
       "      <th>title_subjectivity</th>\n",
       "      <th>title_sentiment_polarity</th>\n",
       "      <th>abs_title_subjectivity</th>\n",
       "      <th>abs_title_sentiment_polarity</th>\n",
       "      <th>shares</th>\n",
       "    </tr>\n",
       "  </thead>\n",
       "  <tbody>\n",
       "    <tr>\n",
       "      <td>0</td>\n",
       "      <td>http://mashable.com/2013/01/07/amazon-instant-...</td>\n",
       "      <td>731.0</td>\n",
       "      <td>12.0</td>\n",
       "      <td>219.0</td>\n",
       "      <td>0.663594</td>\n",
       "      <td>1.0</td>\n",
       "      <td>0.815385</td>\n",
       "      <td>4.0</td>\n",
       "      <td>2.0</td>\n",
       "      <td>1.0</td>\n",
       "      <td>...</td>\n",
       "      <td>0.100000</td>\n",
       "      <td>0.7</td>\n",
       "      <td>-0.350000</td>\n",
       "      <td>-0.600</td>\n",
       "      <td>-0.200000</td>\n",
       "      <td>0.500000</td>\n",
       "      <td>-0.187500</td>\n",
       "      <td>0.000000</td>\n",
       "      <td>0.187500</td>\n",
       "      <td>593</td>\n",
       "    </tr>\n",
       "    <tr>\n",
       "      <td>1</td>\n",
       "      <td>http://mashable.com/2013/01/07/ap-samsung-spon...</td>\n",
       "      <td>731.0</td>\n",
       "      <td>9.0</td>\n",
       "      <td>255.0</td>\n",
       "      <td>0.604743</td>\n",
       "      <td>1.0</td>\n",
       "      <td>0.791946</td>\n",
       "      <td>3.0</td>\n",
       "      <td>1.0</td>\n",
       "      <td>1.0</td>\n",
       "      <td>...</td>\n",
       "      <td>0.033333</td>\n",
       "      <td>0.7</td>\n",
       "      <td>-0.118750</td>\n",
       "      <td>-0.125</td>\n",
       "      <td>-0.100000</td>\n",
       "      <td>0.000000</td>\n",
       "      <td>0.000000</td>\n",
       "      <td>0.500000</td>\n",
       "      <td>0.000000</td>\n",
       "      <td>711</td>\n",
       "    </tr>\n",
       "    <tr>\n",
       "      <td>2</td>\n",
       "      <td>http://mashable.com/2013/01/07/apple-40-billio...</td>\n",
       "      <td>731.0</td>\n",
       "      <td>9.0</td>\n",
       "      <td>211.0</td>\n",
       "      <td>0.575130</td>\n",
       "      <td>1.0</td>\n",
       "      <td>0.663866</td>\n",
       "      <td>3.0</td>\n",
       "      <td>1.0</td>\n",
       "      <td>1.0</td>\n",
       "      <td>...</td>\n",
       "      <td>0.100000</td>\n",
       "      <td>1.0</td>\n",
       "      <td>-0.466667</td>\n",
       "      <td>-0.800</td>\n",
       "      <td>-0.133333</td>\n",
       "      <td>0.000000</td>\n",
       "      <td>0.000000</td>\n",
       "      <td>0.500000</td>\n",
       "      <td>0.000000</td>\n",
       "      <td>1500</td>\n",
       "    </tr>\n",
       "    <tr>\n",
       "      <td>3</td>\n",
       "      <td>http://mashable.com/2013/01/07/astronaut-notre...</td>\n",
       "      <td>731.0</td>\n",
       "      <td>9.0</td>\n",
       "      <td>531.0</td>\n",
       "      <td>0.503788</td>\n",
       "      <td>1.0</td>\n",
       "      <td>0.665635</td>\n",
       "      <td>9.0</td>\n",
       "      <td>0.0</td>\n",
       "      <td>1.0</td>\n",
       "      <td>...</td>\n",
       "      <td>0.136364</td>\n",
       "      <td>0.8</td>\n",
       "      <td>-0.369697</td>\n",
       "      <td>-0.600</td>\n",
       "      <td>-0.166667</td>\n",
       "      <td>0.000000</td>\n",
       "      <td>0.000000</td>\n",
       "      <td>0.500000</td>\n",
       "      <td>0.000000</td>\n",
       "      <td>1200</td>\n",
       "    </tr>\n",
       "    <tr>\n",
       "      <td>4</td>\n",
       "      <td>http://mashable.com/2013/01/07/att-u-verse-apps/</td>\n",
       "      <td>731.0</td>\n",
       "      <td>13.0</td>\n",
       "      <td>1072.0</td>\n",
       "      <td>0.415646</td>\n",
       "      <td>1.0</td>\n",
       "      <td>0.540890</td>\n",
       "      <td>19.0</td>\n",
       "      <td>19.0</td>\n",
       "      <td>20.0</td>\n",
       "      <td>...</td>\n",
       "      <td>0.033333</td>\n",
       "      <td>1.0</td>\n",
       "      <td>-0.220192</td>\n",
       "      <td>-0.500</td>\n",
       "      <td>-0.050000</td>\n",
       "      <td>0.454545</td>\n",
       "      <td>0.136364</td>\n",
       "      <td>0.045455</td>\n",
       "      <td>0.136364</td>\n",
       "      <td>505</td>\n",
       "    </tr>\n",
       "  </tbody>\n",
       "</table>\n",
       "<p>5 rows × 61 columns</p>\n",
       "</div>"
      ],
      "text/plain": [
       "                                                 url   timedelta  \\\n",
       "0  http://mashable.com/2013/01/07/amazon-instant-...       731.0   \n",
       "1  http://mashable.com/2013/01/07/ap-samsung-spon...       731.0   \n",
       "2  http://mashable.com/2013/01/07/apple-40-billio...       731.0   \n",
       "3  http://mashable.com/2013/01/07/astronaut-notre...       731.0   \n",
       "4   http://mashable.com/2013/01/07/att-u-verse-apps/       731.0   \n",
       "\n",
       "    n_tokens_title   n_tokens_content   n_unique_tokens   n_non_stop_words  \\\n",
       "0             12.0              219.0          0.663594                1.0   \n",
       "1              9.0              255.0          0.604743                1.0   \n",
       "2              9.0              211.0          0.575130                1.0   \n",
       "3              9.0              531.0          0.503788                1.0   \n",
       "4             13.0             1072.0          0.415646                1.0   \n",
       "\n",
       "    n_non_stop_unique_tokens   num_hrefs   num_self_hrefs   num_imgs  ...  \\\n",
       "0                   0.815385         4.0              2.0        1.0  ...   \n",
       "1                   0.791946         3.0              1.0        1.0  ...   \n",
       "2                   0.663866         3.0              1.0        1.0  ...   \n",
       "3                   0.665635         9.0              0.0        1.0  ...   \n",
       "4                   0.540890        19.0             19.0       20.0  ...   \n",
       "\n",
       "    min_positive_polarity   max_positive_polarity   avg_negative_polarity  \\\n",
       "0                0.100000                     0.7               -0.350000   \n",
       "1                0.033333                     0.7               -0.118750   \n",
       "2                0.100000                     1.0               -0.466667   \n",
       "3                0.136364                     0.8               -0.369697   \n",
       "4                0.033333                     1.0               -0.220192   \n",
       "\n",
       "    min_negative_polarity   max_negative_polarity   title_subjectivity  \\\n",
       "0                  -0.600               -0.200000             0.500000   \n",
       "1                  -0.125               -0.100000             0.000000   \n",
       "2                  -0.800               -0.133333             0.000000   \n",
       "3                  -0.600               -0.166667             0.000000   \n",
       "4                  -0.500               -0.050000             0.454545   \n",
       "\n",
       "    title_sentiment_polarity   abs_title_subjectivity  \\\n",
       "0                  -0.187500                 0.000000   \n",
       "1                   0.000000                 0.500000   \n",
       "2                   0.000000                 0.500000   \n",
       "3                   0.000000                 0.500000   \n",
       "4                   0.136364                 0.045455   \n",
       "\n",
       "    abs_title_sentiment_polarity   shares  \n",
       "0                       0.187500      593  \n",
       "1                       0.000000      711  \n",
       "2                       0.000000     1500  \n",
       "3                       0.000000     1200  \n",
       "4                       0.136364      505  \n",
       "\n",
       "[5 rows x 61 columns]"
      ]
     },
     "execution_count": 4,
     "metadata": {},
     "output_type": "execute_result"
    }
   ],
   "source": [
    "df.head()"
   ]
  },
  {
   "cell_type": "code",
   "execution_count": 5,
   "metadata": {},
   "outputs": [
    {
     "data": {
      "text/html": [
       "<div>\n",
       "<style scoped>\n",
       "    .dataframe tbody tr th:only-of-type {\n",
       "        vertical-align: middle;\n",
       "    }\n",
       "\n",
       "    .dataframe tbody tr th {\n",
       "        vertical-align: top;\n",
       "    }\n",
       "\n",
       "    .dataframe thead th {\n",
       "        text-align: right;\n",
       "    }\n",
       "</style>\n",
       "<table border=\"1\" class=\"dataframe\">\n",
       "  <thead>\n",
       "    <tr style=\"text-align: right;\">\n",
       "      <th></th>\n",
       "      <th>timedelta</th>\n",
       "      <th>n_tokens_title</th>\n",
       "      <th>n_tokens_content</th>\n",
       "      <th>n_unique_tokens</th>\n",
       "      <th>n_non_stop_words</th>\n",
       "      <th>n_non_stop_unique_tokens</th>\n",
       "      <th>num_hrefs</th>\n",
       "      <th>num_self_hrefs</th>\n",
       "      <th>num_imgs</th>\n",
       "      <th>num_videos</th>\n",
       "      <th>...</th>\n",
       "      <th>min_positive_polarity</th>\n",
       "      <th>max_positive_polarity</th>\n",
       "      <th>avg_negative_polarity</th>\n",
       "      <th>min_negative_polarity</th>\n",
       "      <th>max_negative_polarity</th>\n",
       "      <th>title_subjectivity</th>\n",
       "      <th>title_sentiment_polarity</th>\n",
       "      <th>abs_title_subjectivity</th>\n",
       "      <th>abs_title_sentiment_polarity</th>\n",
       "      <th>shares</th>\n",
       "    </tr>\n",
       "  </thead>\n",
       "  <tbody>\n",
       "    <tr>\n",
       "      <td>count</td>\n",
       "      <td>39644.000000</td>\n",
       "      <td>39644.000000</td>\n",
       "      <td>39644.000000</td>\n",
       "      <td>39644.000000</td>\n",
       "      <td>39644.000000</td>\n",
       "      <td>39644.000000</td>\n",
       "      <td>39644.000000</td>\n",
       "      <td>39644.000000</td>\n",
       "      <td>39644.000000</td>\n",
       "      <td>39644.000000</td>\n",
       "      <td>...</td>\n",
       "      <td>39644.000000</td>\n",
       "      <td>39644.000000</td>\n",
       "      <td>39644.000000</td>\n",
       "      <td>39644.000000</td>\n",
       "      <td>39644.000000</td>\n",
       "      <td>39644.000000</td>\n",
       "      <td>39644.000000</td>\n",
       "      <td>39644.000000</td>\n",
       "      <td>39644.000000</td>\n",
       "      <td>39644.000000</td>\n",
       "    </tr>\n",
       "    <tr>\n",
       "      <td>mean</td>\n",
       "      <td>354.530471</td>\n",
       "      <td>10.398749</td>\n",
       "      <td>546.514731</td>\n",
       "      <td>0.548216</td>\n",
       "      <td>0.996469</td>\n",
       "      <td>0.689175</td>\n",
       "      <td>10.883690</td>\n",
       "      <td>3.293638</td>\n",
       "      <td>4.544143</td>\n",
       "      <td>1.249874</td>\n",
       "      <td>...</td>\n",
       "      <td>0.095446</td>\n",
       "      <td>0.756728</td>\n",
       "      <td>-0.259524</td>\n",
       "      <td>-0.521944</td>\n",
       "      <td>-0.107500</td>\n",
       "      <td>0.282353</td>\n",
       "      <td>0.071425</td>\n",
       "      <td>0.341843</td>\n",
       "      <td>0.156064</td>\n",
       "      <td>3395.380184</td>\n",
       "    </tr>\n",
       "    <tr>\n",
       "      <td>std</td>\n",
       "      <td>214.163767</td>\n",
       "      <td>2.114037</td>\n",
       "      <td>471.107508</td>\n",
       "      <td>3.520708</td>\n",
       "      <td>5.231231</td>\n",
       "      <td>3.264816</td>\n",
       "      <td>11.332017</td>\n",
       "      <td>3.855141</td>\n",
       "      <td>8.309434</td>\n",
       "      <td>4.107855</td>\n",
       "      <td>...</td>\n",
       "      <td>0.071315</td>\n",
       "      <td>0.247786</td>\n",
       "      <td>0.127726</td>\n",
       "      <td>0.290290</td>\n",
       "      <td>0.095373</td>\n",
       "      <td>0.324247</td>\n",
       "      <td>0.265450</td>\n",
       "      <td>0.188791</td>\n",
       "      <td>0.226294</td>\n",
       "      <td>11626.950749</td>\n",
       "    </tr>\n",
       "    <tr>\n",
       "      <td>min</td>\n",
       "      <td>8.000000</td>\n",
       "      <td>2.000000</td>\n",
       "      <td>0.000000</td>\n",
       "      <td>0.000000</td>\n",
       "      <td>0.000000</td>\n",
       "      <td>0.000000</td>\n",
       "      <td>0.000000</td>\n",
       "      <td>0.000000</td>\n",
       "      <td>0.000000</td>\n",
       "      <td>0.000000</td>\n",
       "      <td>...</td>\n",
       "      <td>0.000000</td>\n",
       "      <td>0.000000</td>\n",
       "      <td>-1.000000</td>\n",
       "      <td>-1.000000</td>\n",
       "      <td>-1.000000</td>\n",
       "      <td>0.000000</td>\n",
       "      <td>-1.000000</td>\n",
       "      <td>0.000000</td>\n",
       "      <td>0.000000</td>\n",
       "      <td>1.000000</td>\n",
       "    </tr>\n",
       "    <tr>\n",
       "      <td>25%</td>\n",
       "      <td>164.000000</td>\n",
       "      <td>9.000000</td>\n",
       "      <td>246.000000</td>\n",
       "      <td>0.470870</td>\n",
       "      <td>1.000000</td>\n",
       "      <td>0.625739</td>\n",
       "      <td>4.000000</td>\n",
       "      <td>1.000000</td>\n",
       "      <td>1.000000</td>\n",
       "      <td>0.000000</td>\n",
       "      <td>...</td>\n",
       "      <td>0.050000</td>\n",
       "      <td>0.600000</td>\n",
       "      <td>-0.328383</td>\n",
       "      <td>-0.700000</td>\n",
       "      <td>-0.125000</td>\n",
       "      <td>0.000000</td>\n",
       "      <td>0.000000</td>\n",
       "      <td>0.166667</td>\n",
       "      <td>0.000000</td>\n",
       "      <td>946.000000</td>\n",
       "    </tr>\n",
       "    <tr>\n",
       "      <td>50%</td>\n",
       "      <td>339.000000</td>\n",
       "      <td>10.000000</td>\n",
       "      <td>409.000000</td>\n",
       "      <td>0.539226</td>\n",
       "      <td>1.000000</td>\n",
       "      <td>0.690476</td>\n",
       "      <td>8.000000</td>\n",
       "      <td>3.000000</td>\n",
       "      <td>1.000000</td>\n",
       "      <td>0.000000</td>\n",
       "      <td>...</td>\n",
       "      <td>0.100000</td>\n",
       "      <td>0.800000</td>\n",
       "      <td>-0.253333</td>\n",
       "      <td>-0.500000</td>\n",
       "      <td>-0.100000</td>\n",
       "      <td>0.150000</td>\n",
       "      <td>0.000000</td>\n",
       "      <td>0.500000</td>\n",
       "      <td>0.000000</td>\n",
       "      <td>1400.000000</td>\n",
       "    </tr>\n",
       "    <tr>\n",
       "      <td>75%</td>\n",
       "      <td>542.000000</td>\n",
       "      <td>12.000000</td>\n",
       "      <td>716.000000</td>\n",
       "      <td>0.608696</td>\n",
       "      <td>1.000000</td>\n",
       "      <td>0.754630</td>\n",
       "      <td>14.000000</td>\n",
       "      <td>4.000000</td>\n",
       "      <td>4.000000</td>\n",
       "      <td>1.000000</td>\n",
       "      <td>...</td>\n",
       "      <td>0.100000</td>\n",
       "      <td>1.000000</td>\n",
       "      <td>-0.186905</td>\n",
       "      <td>-0.300000</td>\n",
       "      <td>-0.050000</td>\n",
       "      <td>0.500000</td>\n",
       "      <td>0.150000</td>\n",
       "      <td>0.500000</td>\n",
       "      <td>0.250000</td>\n",
       "      <td>2800.000000</td>\n",
       "    </tr>\n",
       "    <tr>\n",
       "      <td>max</td>\n",
       "      <td>731.000000</td>\n",
       "      <td>23.000000</td>\n",
       "      <td>8474.000000</td>\n",
       "      <td>701.000000</td>\n",
       "      <td>1042.000000</td>\n",
       "      <td>650.000000</td>\n",
       "      <td>304.000000</td>\n",
       "      <td>116.000000</td>\n",
       "      <td>128.000000</td>\n",
       "      <td>91.000000</td>\n",
       "      <td>...</td>\n",
       "      <td>1.000000</td>\n",
       "      <td>1.000000</td>\n",
       "      <td>0.000000</td>\n",
       "      <td>0.000000</td>\n",
       "      <td>0.000000</td>\n",
       "      <td>1.000000</td>\n",
       "      <td>1.000000</td>\n",
       "      <td>0.500000</td>\n",
       "      <td>1.000000</td>\n",
       "      <td>843300.000000</td>\n",
       "    </tr>\n",
       "  </tbody>\n",
       "</table>\n",
       "<p>8 rows × 60 columns</p>\n",
       "</div>"
      ],
      "text/plain": [
       "          timedelta   n_tokens_title   n_tokens_content   n_unique_tokens  \\\n",
       "count  39644.000000     39644.000000       39644.000000      39644.000000   \n",
       "mean     354.530471        10.398749         546.514731          0.548216   \n",
       "std      214.163767         2.114037         471.107508          3.520708   \n",
       "min        8.000000         2.000000           0.000000          0.000000   \n",
       "25%      164.000000         9.000000         246.000000          0.470870   \n",
       "50%      339.000000        10.000000         409.000000          0.539226   \n",
       "75%      542.000000        12.000000         716.000000          0.608696   \n",
       "max      731.000000        23.000000        8474.000000        701.000000   \n",
       "\n",
       "        n_non_stop_words   n_non_stop_unique_tokens     num_hrefs  \\\n",
       "count       39644.000000               39644.000000  39644.000000   \n",
       "mean            0.996469                   0.689175     10.883690   \n",
       "std             5.231231                   3.264816     11.332017   \n",
       "min             0.000000                   0.000000      0.000000   \n",
       "25%             1.000000                   0.625739      4.000000   \n",
       "50%             1.000000                   0.690476      8.000000   \n",
       "75%             1.000000                   0.754630     14.000000   \n",
       "max          1042.000000                 650.000000    304.000000   \n",
       "\n",
       "        num_self_hrefs      num_imgs    num_videos  ...  \\\n",
       "count     39644.000000  39644.000000  39644.000000  ...   \n",
       "mean          3.293638      4.544143      1.249874  ...   \n",
       "std           3.855141      8.309434      4.107855  ...   \n",
       "min           0.000000      0.000000      0.000000  ...   \n",
       "25%           1.000000      1.000000      0.000000  ...   \n",
       "50%           3.000000      1.000000      0.000000  ...   \n",
       "75%           4.000000      4.000000      1.000000  ...   \n",
       "max         116.000000    128.000000     91.000000  ...   \n",
       "\n",
       "        min_positive_polarity   max_positive_polarity   avg_negative_polarity  \\\n",
       "count            39644.000000            39644.000000            39644.000000   \n",
       "mean                 0.095446                0.756728               -0.259524   \n",
       "std                  0.071315                0.247786                0.127726   \n",
       "min                  0.000000                0.000000               -1.000000   \n",
       "25%                  0.050000                0.600000               -0.328383   \n",
       "50%                  0.100000                0.800000               -0.253333   \n",
       "75%                  0.100000                1.000000               -0.186905   \n",
       "max                  1.000000                1.000000                0.000000   \n",
       "\n",
       "        min_negative_polarity   max_negative_polarity   title_subjectivity  \\\n",
       "count            39644.000000            39644.000000         39644.000000   \n",
       "mean                -0.521944               -0.107500             0.282353   \n",
       "std                  0.290290                0.095373             0.324247   \n",
       "min                 -1.000000               -1.000000             0.000000   \n",
       "25%                 -0.700000               -0.125000             0.000000   \n",
       "50%                 -0.500000               -0.100000             0.150000   \n",
       "75%                 -0.300000               -0.050000             0.500000   \n",
       "max                  0.000000                0.000000             1.000000   \n",
       "\n",
       "        title_sentiment_polarity   abs_title_subjectivity  \\\n",
       "count               39644.000000             39644.000000   \n",
       "mean                    0.071425                 0.341843   \n",
       "std                     0.265450                 0.188791   \n",
       "min                    -1.000000                 0.000000   \n",
       "25%                     0.000000                 0.166667   \n",
       "50%                     0.000000                 0.500000   \n",
       "75%                     0.150000                 0.500000   \n",
       "max                     1.000000                 0.500000   \n",
       "\n",
       "        abs_title_sentiment_polarity         shares  \n",
       "count                   39644.000000   39644.000000  \n",
       "mean                        0.156064    3395.380184  \n",
       "std                         0.226294   11626.950749  \n",
       "min                         0.000000       1.000000  \n",
       "25%                         0.000000     946.000000  \n",
       "50%                         0.000000    1400.000000  \n",
       "75%                         0.250000    2800.000000  \n",
       "max                         1.000000  843300.000000  \n",
       "\n",
       "[8 rows x 60 columns]"
      ]
     },
     "execution_count": 5,
     "metadata": {},
     "output_type": "execute_result"
    }
   ],
   "source": [
    "df.describe()"
   ]
  },
  {
   "cell_type": "code",
   "execution_count": 149,
   "metadata": {},
   "outputs": [
    {
     "data": {
      "text/plain": [
       "Index(['url', ' timedelta', ' n_tokens_title', ' n_tokens_content',\n",
       "       ' n_unique_tokens', ' n_non_stop_words', ' n_non_stop_unique_tokens',\n",
       "       ' num_hrefs', ' num_self_hrefs', ' num_imgs', ' num_videos',\n",
       "       ' average_token_length', ' num_keywords', ' data_channel_is_lifestyle',\n",
       "       ' data_channel_is_entertainment', ' data_channel_is_bus',\n",
       "       ' data_channel_is_socmed', ' data_channel_is_tech',\n",
       "       ' data_channel_is_world', ' kw_min_min', ' kw_max_min', ' kw_avg_min',\n",
       "       ' kw_min_max', ' kw_max_max', ' kw_avg_max', ' kw_min_avg',\n",
       "       ' kw_max_avg', ' kw_avg_avg', ' self_reference_min_shares',\n",
       "       ' self_reference_max_shares', ' self_reference_avg_sharess',\n",
       "       ' weekday_is_monday', ' weekday_is_tuesday', ' weekday_is_wednesday',\n",
       "       ' weekday_is_thursday', ' weekday_is_friday', ' weekday_is_saturday',\n",
       "       ' weekday_is_sunday', ' is_weekend', ' LDA_00', ' LDA_01', ' LDA_02',\n",
       "       ' LDA_03', ' LDA_04', ' global_subjectivity',\n",
       "       ' global_sentiment_polarity', ' global_rate_positive_words',\n",
       "       ' global_rate_negative_words', ' rate_positive_words',\n",
       "       ' rate_negative_words', ' avg_positive_polarity',\n",
       "       ' min_positive_polarity', ' max_positive_polarity',\n",
       "       ' avg_negative_polarity', ' min_negative_polarity',\n",
       "       ' max_negative_polarity', ' title_subjectivity',\n",
       "       ' title_sentiment_polarity', ' abs_title_subjectivity',\n",
       "       ' abs_title_sentiment_polarity', ' shares'],\n",
       "      dtype='object')"
      ]
     },
     "execution_count": 149,
     "metadata": {},
     "output_type": "execute_result"
    }
   ],
   "source": [
    "df.columns"
   ]
  },
  {
   "cell_type": "code",
   "execution_count": 158,
   "metadata": {},
   "outputs": [],
   "source": [
    "shares_by_days = np.array(df.groupby([' weekday_is_monday', ' weekday_is_tuesday', ' weekday_is_wednesday',\n",
    "       ' weekday_is_thursday', ' weekday_is_friday', ' weekday_is_saturday',\n",
    "       ' weekday_is_sunday'])[' shares'].sum())"
   ]
  },
  {
   "cell_type": "code",
   "execution_count": 163,
   "metadata": {},
   "outputs": [
    {
     "data": {
      "text/plain": [
       "134606452"
      ]
     },
     "execution_count": 163,
     "metadata": {},
     "output_type": "execute_result"
    }
   ],
   "source": [
    "shares_by_days.sum()"
   ]
  },
  {
   "cell_type": "code",
   "execution_count": 161,
   "metadata": {},
   "outputs": [],
   "source": [
    "shares_by_days_df = pd.DataFrame(shares_by_days.reshape(1,7), columns=['monday','tuesday','wednesday','thursday','friday','saturday','sunday'])"
   ]
  },
  {
   "cell_type": "code",
   "execution_count": 226,
   "metadata": {},
   "outputs": [
    {
     "data": {
      "text/html": [
       "<div>\n",
       "<style scoped>\n",
       "    .dataframe tbody tr th:only-of-type {\n",
       "        vertical-align: middle;\n",
       "    }\n",
       "\n",
       "    .dataframe tbody tr th {\n",
       "        vertical-align: top;\n",
       "    }\n",
       "\n",
       "    .dataframe thead th {\n",
       "        text-align: right;\n",
       "    }\n",
       "</style>\n",
       "<table border=\"1\" class=\"dataframe\">\n",
       "  <thead>\n",
       "    <tr style=\"text-align: right;\">\n",
       "      <th></th>\n",
       "      <th>monday</th>\n",
       "      <th>tuesday</th>\n",
       "      <th>wednesday</th>\n",
       "      <th>thursday</th>\n",
       "      <th>friday</th>\n",
       "      <th>saturday</th>\n",
       "      <th>sunday</th>\n",
       "    </tr>\n",
       "  </thead>\n",
       "  <tbody>\n",
       "    <tr>\n",
       "      <td>0</td>\n",
       "      <td>10254829</td>\n",
       "      <td>10003788</td>\n",
       "      <td>18728817</td>\n",
       "      <td>23098880</td>\n",
       "      <td>24560819</td>\n",
       "      <td>23666480</td>\n",
       "      <td>24292839</td>\n",
       "    </tr>\n",
       "  </tbody>\n",
       "</table>\n",
       "</div>"
      ],
      "text/plain": [
       "     monday   tuesday  wednesday  thursday    friday  saturday    sunday\n",
       "0  10254829  10003788   18728817  23098880  24560819  23666480  24292839"
      ]
     },
     "execution_count": 226,
     "metadata": {},
     "output_type": "execute_result"
    }
   ],
   "source": [
    "shares_by_days_df"
   ]
  },
  {
   "cell_type": "code",
   "execution_count": 170,
   "metadata": {},
   "outputs": [
    {
     "data": {
      "image/png": "[encoded data removed]",
      "text/plain": [
       "<Figure size 432x288 with 1 Axes>"
      ]
     },
     "metadata": {
      "needs_background": "light"
     },
     "output_type": "display_data"
    }
   ],
   "source": [
    "plt.bar(shares_by_days_df.columns, height = shares_by_days_df.iloc[0,:]);"
   ]
  },
  {
   "cell_type": "code",
   "execution_count": 172,
   "metadata": {},
   "outputs": [],
   "source": [
    "shares_by_channels = np.array(df.groupby([' data_channel_is_lifestyle',\n",
    "       ' data_channel_is_entertainment', ' data_channel_is_bus',\n",
    "       ' data_channel_is_socmed', ' data_channel_is_tech',\n",
    "       ' data_channel_is_world'])[' shares'].sum())"
   ]
  },
  {
   "cell_type": "code",
   "execution_count": 174,
   "metadata": {},
   "outputs": [
    {
     "data": {
      "text/plain": [
       "array([36467793, 19278735, 22568993,  8431057, 19168370, 20962727,\n",
       "        7728777])"
      ]
     },
     "execution_count": 174,
     "metadata": {},
     "output_type": "execute_result"
    }
   ],
   "source": [
    "shares_by_channels"
   ]
  },
  {
   "cell_type": "code",
   "execution_count": 203,
   "metadata": {},
   "outputs": [],
   "source": [
    "cols = ['lifestyle','entertainment','bus','socmed','tech','world','other'][::-1]\n",
    "shares_by_channels_df = pd.DataFrame(shares_by_channels.reshape(1,7), columns= cols)"
   ]
  },
  {
   "cell_type": "code",
   "execution_count": 206,
   "metadata": {},
   "outputs": [
    {
     "data": {
      "text/html": [
       "<div>\n",
       "<style scoped>\n",
       "    .dataframe tbody tr th:only-of-type {\n",
       "        vertical-align: middle;\n",
       "    }\n",
       "\n",
       "    .dataframe tbody tr th {\n",
       "        vertical-align: top;\n",
       "    }\n",
       "\n",
       "    .dataframe thead th {\n",
       "        text-align: right;\n",
       "    }\n",
       "</style>\n",
       "<table border=\"1\" class=\"dataframe\">\n",
       "  <thead>\n",
       "    <tr style=\"text-align: right;\">\n",
       "      <th></th>\n",
       "      <th>other</th>\n",
       "      <th>world</th>\n",
       "      <th>tech</th>\n",
       "      <th>socmed</th>\n",
       "      <th>bus</th>\n",
       "      <th>entertainment</th>\n",
       "      <th>lifestyle</th>\n",
       "    </tr>\n",
       "  </thead>\n",
       "  <tbody>\n",
       "    <tr>\n",
       "      <td>0</td>\n",
       "      <td>36467793</td>\n",
       "      <td>19278735</td>\n",
       "      <td>22568993</td>\n",
       "      <td>8431057</td>\n",
       "      <td>19168370</td>\n",
       "      <td>20962727</td>\n",
       "      <td>7728777</td>\n",
       "    </tr>\n",
       "  </tbody>\n",
       "</table>\n",
       "</div>"
      ],
      "text/plain": [
       "      other     world      tech   socmed       bus  entertainment  lifestyle\n",
       "0  36467793  19278735  22568993  8431057  19168370       20962727    7728777"
      ]
     },
     "execution_count": 206,
     "metadata": {},
     "output_type": "execute_result"
    }
   ],
   "source": [
    "shares_by_channels_df"
   ]
  },
  {
   "cell_type": "code",
   "execution_count": 210,
   "metadata": {},
   "outputs": [
    {
     "data": {
      "image/png": "[encoded data removed]",
      "text/plain": [
       "<Figure size 432x288 with 1 Axes>"
      ]
     },
     "metadata": {
      "needs_background": "light"
     },
     "output_type": "display_data"
    }
   ],
   "source": [
    "plt.bar(shares_by_channels_df.columns, height = shares_by_channels_df.iloc[0,:]);"
   ]
  },
  {
   "cell_type": "code",
   "execution_count": 182,
   "metadata": {},
   "outputs": [
    {
     "data": {
      "text/html": [
       "<div>\n",
       "<style scoped>\n",
       "    .dataframe tbody tr th:only-of-type {\n",
       "        vertical-align: middle;\n",
       "    }\n",
       "\n",
       "    .dataframe tbody tr th {\n",
       "        vertical-align: top;\n",
       "    }\n",
       "\n",
       "    .dataframe thead th {\n",
       "        text-align: right;\n",
       "    }\n",
       "</style>\n",
       "<table border=\"1\" class=\"dataframe\">\n",
       "  <thead>\n",
       "    <tr style=\"text-align: right;\">\n",
       "      <th></th>\n",
       "      <th></th>\n",
       "      <th></th>\n",
       "      <th></th>\n",
       "      <th></th>\n",
       "      <th></th>\n",
       "      <th>timedelta</th>\n",
       "      <th>n_tokens_title</th>\n",
       "      <th>n_tokens_content</th>\n",
       "      <th>n_unique_tokens</th>\n",
       "      <th>n_non_stop_words</th>\n",
       "      <th>n_non_stop_unique_tokens</th>\n",
       "      <th>num_hrefs</th>\n",
       "      <th>num_self_hrefs</th>\n",
       "      <th>num_imgs</th>\n",
       "      <th>num_videos</th>\n",
       "      <th>...</th>\n",
       "      <th>min_positive_polarity</th>\n",
       "      <th>max_positive_polarity</th>\n",
       "      <th>avg_negative_polarity</th>\n",
       "      <th>min_negative_polarity</th>\n",
       "      <th>max_negative_polarity</th>\n",
       "      <th>title_subjectivity</th>\n",
       "      <th>title_sentiment_polarity</th>\n",
       "      <th>abs_title_subjectivity</th>\n",
       "      <th>abs_title_sentiment_polarity</th>\n",
       "      <th>shares</th>\n",
       "    </tr>\n",
       "    <tr>\n",
       "      <th>data_channel_is_lifestyle</th>\n",
       "      <th>data_channel_is_entertainment</th>\n",
       "      <th>data_channel_is_bus</th>\n",
       "      <th>data_channel_is_socmed</th>\n",
       "      <th>data_channel_is_tech</th>\n",
       "      <th>data_channel_is_world</th>\n",
       "      <th></th>\n",
       "      <th></th>\n",
       "      <th></th>\n",
       "      <th></th>\n",
       "      <th></th>\n",
       "      <th></th>\n",
       "      <th></th>\n",
       "      <th></th>\n",
       "      <th></th>\n",
       "      <th></th>\n",
       "      <th></th>\n",
       "      <th></th>\n",
       "      <th></th>\n",
       "      <th></th>\n",
       "      <th></th>\n",
       "      <th></th>\n",
       "      <th></th>\n",
       "      <th></th>\n",
       "      <th></th>\n",
       "      <th></th>\n",
       "      <th></th>\n",
       "    </tr>\n",
       "  </thead>\n",
       "  <tbody>\n",
       "    <tr>\n",
       "      <td rowspan=\"6\" valign=\"top\">0.0</td>\n",
       "      <td rowspan=\"5\" valign=\"top\">0.0</td>\n",
       "      <td rowspan=\"4\" valign=\"top\">0.0</td>\n",
       "      <td rowspan=\"3\" valign=\"top\">0.0</td>\n",
       "      <td rowspan=\"2\" valign=\"top\">0.0</td>\n",
       "      <td>0.0</td>\n",
       "      <td>2222422.0</td>\n",
       "      <td>63201.0</td>\n",
       "      <td>2047992.0</td>\n",
       "      <td>3312.965160</td>\n",
       "      <td>5490.999962</td>\n",
       "      <td>3893.674857</td>\n",
       "      <td>83619.0</td>\n",
       "      <td>17694.0</td>\n",
       "      <td>47467.0</td>\n",
       "      <td>16092.0</td>\n",
       "      <td>...</td>\n",
       "      <td>727.039816</td>\n",
       "      <td>4446.289264</td>\n",
       "      <td>-1736.741157</td>\n",
       "      <td>-3131.344295</td>\n",
       "      <td>-775.311163</td>\n",
       "      <td>2288.646058</td>\n",
       "      <td>530.767501</td>\n",
       "      <td>2034.879128</td>\n",
       "      <td>1308.942167</td>\n",
       "      <td>36467793</td>\n",
       "    </tr>\n",
       "    <tr>\n",
       "      <td>1.0</td>\n",
       "      <td>2396259.0</td>\n",
       "      <td>89318.0</td>\n",
       "      <td>5033290.0</td>\n",
       "      <td>4303.747206</td>\n",
       "      <td>8167.999968</td>\n",
       "      <td>5606.427696</td>\n",
       "      <td>85915.0</td>\n",
       "      <td>20325.0</td>\n",
       "      <td>23943.0</td>\n",
       "      <td>4631.0</td>\n",
       "      <td>...</td>\n",
       "      <td>745.691147</td>\n",
       "      <td>5890.222489</td>\n",
       "      <td>-2126.006774</td>\n",
       "      <td>-4725.091960</td>\n",
       "      <td>-791.336661</td>\n",
       "      <td>2052.730030</td>\n",
       "      <td>253.324606</td>\n",
       "      <td>3043.439688</td>\n",
       "      <td>1076.331479</td>\n",
       "      <td>19278735</td>\n",
       "    </tr>\n",
       "    <tr>\n",
       "      <td>1.0</td>\n",
       "      <td>0.0</td>\n",
       "      <td>2879092.0</td>\n",
       "      <td>74868.0</td>\n",
       "      <td>4199074.0</td>\n",
       "      <td>3900.962126</td>\n",
       "      <td>7324.999963</td>\n",
       "      <td>5016.376924</td>\n",
       "      <td>69176.0</td>\n",
       "      <td>34092.0</td>\n",
       "      <td>32576.0</td>\n",
       "      <td>3285.0</td>\n",
       "      <td>...</td>\n",
       "      <td>728.471623</td>\n",
       "      <td>5670.463193</td>\n",
       "      <td>-1680.543983</td>\n",
       "      <td>-3314.973825</td>\n",
       "      <td>-754.394093</td>\n",
       "      <td>1859.253729</td>\n",
       "      <td>634.394684</td>\n",
       "      <td>2532.078272</td>\n",
       "      <td>999.326968</td>\n",
       "      <td>22568993</td>\n",
       "    </tr>\n",
       "    <tr>\n",
       "      <td>1.0</td>\n",
       "      <td>0.0</td>\n",
       "      <td>0.0</td>\n",
       "      <td>975696.0</td>\n",
       "      <td>22377.0</td>\n",
       "      <td>1416166.0</td>\n",
       "      <td>1242.537572</td>\n",
       "      <td>2310.999988</td>\n",
       "      <td>1584.967930</td>\n",
       "      <td>30608.0</td>\n",
       "      <td>10958.0</td>\n",
       "      <td>9966.0</td>\n",
       "      <td>2596.0</td>\n",
       "      <td>...</td>\n",
       "      <td>181.593214</td>\n",
       "      <td>1820.099026</td>\n",
       "      <td>-597.838662</td>\n",
       "      <td>-1210.970849</td>\n",
       "      <td>-259.785379</td>\n",
       "      <td>605.206028</td>\n",
       "      <td>226.318255</td>\n",
       "      <td>814.612894</td>\n",
       "      <td>355.833837</td>\n",
       "      <td>8431057</td>\n",
       "    </tr>\n",
       "    <tr>\n",
       "      <td>1.0</td>\n",
       "      <td>0.0</td>\n",
       "      <td>0.0</td>\n",
       "      <td>0.0</td>\n",
       "      <td>2391348.0</td>\n",
       "      <td>64345.0</td>\n",
       "      <td>3378515.0</td>\n",
       "      <td>3417.298034</td>\n",
       "      <td>6234.999968</td>\n",
       "      <td>4399.705681</td>\n",
       "      <td>58551.0</td>\n",
       "      <td>17541.0</td>\n",
       "      <td>11317.0</td>\n",
       "      <td>3983.0</td>\n",
       "      <td>...</td>\n",
       "      <td>542.135292</td>\n",
       "      <td>4806.145823</td>\n",
       "      <td>-1519.569550</td>\n",
       "      <td>-3004.991029</td>\n",
       "      <td>-683.363111</td>\n",
       "      <td>1558.664909</td>\n",
       "      <td>501.830520</td>\n",
       "      <td>2132.461961</td>\n",
       "      <td>870.374876</td>\n",
       "      <td>19168370</td>\n",
       "    </tr>\n",
       "    <tr>\n",
       "      <td>1.0</td>\n",
       "      <td>0.0</td>\n",
       "      <td>0.0</td>\n",
       "      <td>0.0</td>\n",
       "      <td>0.0</td>\n",
       "      <td>2342431.0</td>\n",
       "      <td>77641.0</td>\n",
       "      <td>4286827.0</td>\n",
       "      <td>4456.908023</td>\n",
       "      <td>7896.999969</td>\n",
       "      <td>5386.014038</td>\n",
       "      <td>75437.0</td>\n",
       "      <td>24681.0</td>\n",
       "      <td>44584.0</td>\n",
       "      <td>17966.0</td>\n",
       "      <td>...</td>\n",
       "      <td>659.882500</td>\n",
       "      <td>5629.328615</td>\n",
       "      <td>-2075.731115</td>\n",
       "      <td>-4147.441010</td>\n",
       "      <td>-780.664393</td>\n",
       "      <td>2228.574099</td>\n",
       "      <td>456.005125</td>\n",
       "      <td>2265.515804</td>\n",
       "      <td>1212.510579</td>\n",
       "      <td>20962727</td>\n",
       "    </tr>\n",
       "    <tr>\n",
       "      <td>1.0</td>\n",
       "      <td>0.0</td>\n",
       "      <td>0.0</td>\n",
       "      <td>0.0</td>\n",
       "      <td>0.0</td>\n",
       "      <td>0.0</td>\n",
       "      <td>847758.0</td>\n",
       "      <td>20498.0</td>\n",
       "      <td>1304166.0</td>\n",
       "      <td>1099.045759</td>\n",
       "      <td>2076.999991</td>\n",
       "      <td>1434.502194</td>\n",
       "      <td>28167.0</td>\n",
       "      <td>5282.0</td>\n",
       "      <td>10295.0</td>\n",
       "      <td>997.0</td>\n",
       "      <td>...</td>\n",
       "      <td>199.029318</td>\n",
       "      <td>1737.158333</td>\n",
       "      <td>-552.143809</td>\n",
       "      <td>-1157.124176</td>\n",
       "      <td>-216.884722</td>\n",
       "      <td>600.534778</td>\n",
       "      <td>228.949133</td>\n",
       "      <td>729.026470</td>\n",
       "      <td>363.667945</td>\n",
       "      <td>7728777</td>\n",
       "    </tr>\n",
       "  </tbody>\n",
       "</table>\n",
       "<p>7 rows × 54 columns</p>\n",
       "</div>"
      ],
      "text/plain": [
       "                                                                                                                                                      timedelta  \\\n",
       " data_channel_is_lifestyle  data_channel_is_entertainment  data_channel_is_bus  data_channel_is_socmed  data_channel_is_tech  data_channel_is_world               \n",
       "0.0                        0.0                            0.0                  0.0                     0.0                   0.0                      2222422.0   \n",
       "                                                                                                                             1.0                      2396259.0   \n",
       "                                                                                                       1.0                   0.0                      2879092.0   \n",
       "                                                                               1.0                     0.0                   0.0                       975696.0   \n",
       "                                                          1.0                  0.0                     0.0                   0.0                      2391348.0   \n",
       "                           1.0                            0.0                  0.0                     0.0                   0.0                      2342431.0   \n",
       "1.0                        0.0                            0.0                  0.0                     0.0                   0.0                       847758.0   \n",
       "\n",
       "                                                                                                                                                      n_tokens_title  \\\n",
       " data_channel_is_lifestyle  data_channel_is_entertainment  data_channel_is_bus  data_channel_is_socmed  data_channel_is_tech  data_channel_is_world                    \n",
       "0.0                        0.0                            0.0                  0.0                     0.0                   0.0                             63201.0   \n",
       "                                                                                                                             1.0                             89318.0   \n",
       "                                                                                                       1.0                   0.0                             74868.0   \n",
       "                                                                               1.0                     0.0                   0.0                             22377.0   \n",
       "                                                          1.0                  0.0                     0.0                   0.0                             64345.0   \n",
       "                           1.0                            0.0                  0.0                     0.0                   0.0                             77641.0   \n",
       "1.0                        0.0                            0.0                  0.0                     0.0                   0.0                             20498.0   \n",
       "\n",
       "                                                                                                                                                      n_tokens_content  \\\n",
       " data_channel_is_lifestyle  data_channel_is_entertainment  data_channel_is_bus  data_channel_is_socmed  data_channel_is_tech  data_channel_is_world                      \n",
       "0.0                        0.0                            0.0                  0.0                     0.0                   0.0                             2047992.0   \n",
       "                                                                                                                             1.0                             5033290.0   \n",
       "                                                                                                       1.0                   0.0                             4199074.0   \n",
       "                                                                               1.0                     0.0                   0.0                             1416166.0   \n",
       "                                                          1.0                  0.0                     0.0                   0.0                             3378515.0   \n",
       "                           1.0                            0.0                  0.0                     0.0                   0.0                             4286827.0   \n",
       "1.0                        0.0                            0.0                  0.0                     0.0                   0.0                             1304166.0   \n",
       "\n",
       "                                                                                                                                                      n_unique_tokens  \\\n",
       " data_channel_is_lifestyle  data_channel_is_entertainment  data_channel_is_bus  data_channel_is_socmed  data_channel_is_tech  data_channel_is_world                     \n",
       "0.0                        0.0                            0.0                  0.0                     0.0                   0.0                          3312.965160   \n",
       "                                                                                                                             1.0                          4303.747206   \n",
       "                                                                                                       1.0                   0.0                          3900.962126   \n",
       "                                                                               1.0                     0.0                   0.0                          1242.537572   \n",
       "                                                          1.0                  0.0                     0.0                   0.0                          3417.298034   \n",
       "                           1.0                            0.0                  0.0                     0.0                   0.0                          4456.908023   \n",
       "1.0                        0.0                            0.0                  0.0                     0.0                   0.0                          1099.045759   \n",
       "\n",
       "                                                                                                                                                      n_non_stop_words  \\\n",
       " data_channel_is_lifestyle  data_channel_is_entertainment  data_channel_is_bus  data_channel_is_socmed  data_channel_is_tech  data_channel_is_world                      \n",
       "0.0                        0.0                            0.0                  0.0                     0.0                   0.0                           5490.999962   \n",
       "                                                                                                                             1.0                           8167.999968   \n",
       "                                                                                                       1.0                   0.0                           7324.999963   \n",
       "                                                                               1.0                     0.0                   0.0                           2310.999988   \n",
       "                                                          1.0                  0.0                     0.0                   0.0                           6234.999968   \n",
       "                           1.0                            0.0                  0.0                     0.0                   0.0                           7896.999969   \n",
       "1.0                        0.0                            0.0                  0.0                     0.0                   0.0                           2076.999991   \n",
       "\n",
       "                                                                                                                                                      n_non_stop_unique_tokens  \\\n",
       " data_channel_is_lifestyle  data_channel_is_entertainment  data_channel_is_bus  data_channel_is_socmed  data_channel_is_tech  data_channel_is_world                              \n",
       "0.0                        0.0                            0.0                  0.0                     0.0                   0.0                                   3893.674857   \n",
       "                                                                                                                             1.0                                   5606.427696   \n",
       "                                                                                                       1.0                   0.0                                   5016.376924   \n",
       "                                                                               1.0                     0.0                   0.0                                   1584.967930   \n",
       "                                                          1.0                  0.0                     0.0                   0.0                                   4399.705681   \n",
       "                           1.0                            0.0                  0.0                     0.0                   0.0                                   5386.014038   \n",
       "1.0                        0.0                            0.0                  0.0                     0.0                   0.0                                   1434.502194   \n",
       "\n",
       "                                                                                                                                                      num_hrefs  \\\n",
       " data_channel_is_lifestyle  data_channel_is_entertainment  data_channel_is_bus  data_channel_is_socmed  data_channel_is_tech  data_channel_is_world               \n",
       "0.0                        0.0                            0.0                  0.0                     0.0                   0.0                        83619.0   \n",
       "                                                                                                                             1.0                        85915.0   \n",
       "                                                                                                       1.0                   0.0                        69176.0   \n",
       "                                                                               1.0                     0.0                   0.0                        30608.0   \n",
       "                                                          1.0                  0.0                     0.0                   0.0                        58551.0   \n",
       "                           1.0                            0.0                  0.0                     0.0                   0.0                        75437.0   \n",
       "1.0                        0.0                            0.0                  0.0                     0.0                   0.0                        28167.0   \n",
       "\n",
       "                                                                                                                                                      num_self_hrefs  \\\n",
       " data_channel_is_lifestyle  data_channel_is_entertainment  data_channel_is_bus  data_channel_is_socmed  data_channel_is_tech  data_channel_is_world                    \n",
       "0.0                        0.0                            0.0                  0.0                     0.0                   0.0                             17694.0   \n",
       "                                                                                                                             1.0                             20325.0   \n",
       "                                                                                                       1.0                   0.0                             34092.0   \n",
       "                                                                               1.0                     0.0                   0.0                             10958.0   \n",
       "                                                          1.0                  0.0                     0.0                   0.0                             17541.0   \n",
       "                           1.0                            0.0                  0.0                     0.0                   0.0                             24681.0   \n",
       "1.0                        0.0                            0.0                  0.0                     0.0                   0.0                              5282.0   \n",
       "\n",
       "                                                                                                                                                      num_imgs  \\\n",
       " data_channel_is_lifestyle  data_channel_is_entertainment  data_channel_is_bus  data_channel_is_socmed  data_channel_is_tech  data_channel_is_world              \n",
       "0.0                        0.0                            0.0                  0.0                     0.0                   0.0                       47467.0   \n",
       "                                                                                                                             1.0                       23943.0   \n",
       "                                                                                                       1.0                   0.0                       32576.0   \n",
       "                                                                               1.0                     0.0                   0.0                        9966.0   \n",
       "                                                          1.0                  0.0                     0.0                   0.0                       11317.0   \n",
       "                           1.0                            0.0                  0.0                     0.0                   0.0                       44584.0   \n",
       "1.0                        0.0                            0.0                  0.0                     0.0                   0.0                       10295.0   \n",
       "\n",
       "                                                                                                                                                      num_videos  \\\n",
       " data_channel_is_lifestyle  data_channel_is_entertainment  data_channel_is_bus  data_channel_is_socmed  data_channel_is_tech  data_channel_is_world                \n",
       "0.0                        0.0                            0.0                  0.0                     0.0                   0.0                         16092.0   \n",
       "                                                                                                                             1.0                          4631.0   \n",
       "                                                                                                       1.0                   0.0                          3285.0   \n",
       "                                                                               1.0                     0.0                   0.0                          2596.0   \n",
       "                                                          1.0                  0.0                     0.0                   0.0                          3983.0   \n",
       "                           1.0                            0.0                  0.0                     0.0                   0.0                         17966.0   \n",
       "1.0                        0.0                            0.0                  0.0                     0.0                   0.0                           997.0   \n",
       "\n",
       "                                                                                                                                                     ...  \\\n",
       " data_channel_is_lifestyle  data_channel_is_entertainment  data_channel_is_bus  data_channel_is_socmed  data_channel_is_tech  data_channel_is_world  ...   \n",
       "0.0                        0.0                            0.0                  0.0                     0.0                   0.0                     ...   \n",
       "                                                                                                                             1.0                     ...   \n",
       "                                                                                                       1.0                   0.0                     ...   \n",
       "                                                                               1.0                     0.0                   0.0                     ...   \n",
       "                                                          1.0                  0.0                     0.0                   0.0                     ...   \n",
       "                           1.0                            0.0                  0.0                     0.0                   0.0                     ...   \n",
       "1.0                        0.0                            0.0                  0.0                     0.0                   0.0                     ...   \n",
       "\n",
       "                                                                                                                                                      min_positive_polarity  \\\n",
       " data_channel_is_lifestyle  data_channel_is_entertainment  data_channel_is_bus  data_channel_is_socmed  data_channel_is_tech  data_channel_is_world                           \n",
       "0.0                        0.0                            0.0                  0.0                     0.0                   0.0                                 727.039816   \n",
       "                                                                                                                             1.0                                 745.691147   \n",
       "                                                                                                       1.0                   0.0                                 728.471623   \n",
       "                                                                               1.0                     0.0                   0.0                                 181.593214   \n",
       "                                                          1.0                  0.0                     0.0                   0.0                                 542.135292   \n",
       "                           1.0                            0.0                  0.0                     0.0                   0.0                                 659.882500   \n",
       "1.0                        0.0                            0.0                  0.0                     0.0                   0.0                                 199.029318   \n",
       "\n",
       "                                                                                                                                                      max_positive_polarity  \\\n",
       " data_channel_is_lifestyle  data_channel_is_entertainment  data_channel_is_bus  data_channel_is_socmed  data_channel_is_tech  data_channel_is_world                           \n",
       "0.0                        0.0                            0.0                  0.0                     0.0                   0.0                                4446.289264   \n",
       "                                                                                                                             1.0                                5890.222489   \n",
       "                                                                                                       1.0                   0.0                                5670.463193   \n",
       "                                                                               1.0                     0.0                   0.0                                1820.099026   \n",
       "                                                          1.0                  0.0                     0.0                   0.0                                4806.145823   \n",
       "                           1.0                            0.0                  0.0                     0.0                   0.0                                5629.328615   \n",
       "1.0                        0.0                            0.0                  0.0                     0.0                   0.0                                1737.158333   \n",
       "\n",
       "                                                                                                                                                      avg_negative_polarity  \\\n",
       " data_channel_is_lifestyle  data_channel_is_entertainment  data_channel_is_bus  data_channel_is_socmed  data_channel_is_tech  data_channel_is_world                           \n",
       "0.0                        0.0                            0.0                  0.0                     0.0                   0.0                               -1736.741157   \n",
       "                                                                                                                             1.0                               -2126.006774   \n",
       "                                                                                                       1.0                   0.0                               -1680.543983   \n",
       "                                                                               1.0                     0.0                   0.0                                -597.838662   \n",
       "                                                          1.0                  0.0                     0.0                   0.0                               -1519.569550   \n",
       "                           1.0                            0.0                  0.0                     0.0                   0.0                               -2075.731115   \n",
       "1.0                        0.0                            0.0                  0.0                     0.0                   0.0                                -552.143809   \n",
       "\n",
       "                                                                                                                                                      min_negative_polarity  \\\n",
       " data_channel_is_lifestyle  data_channel_is_entertainment  data_channel_is_bus  data_channel_is_socmed  data_channel_is_tech  data_channel_is_world                           \n",
       "0.0                        0.0                            0.0                  0.0                     0.0                   0.0                               -3131.344295   \n",
       "                                                                                                                             1.0                               -4725.091960   \n",
       "                                                                                                       1.0                   0.0                               -3314.973825   \n",
       "                                                                               1.0                     0.0                   0.0                               -1210.970849   \n",
       "                                                          1.0                  0.0                     0.0                   0.0                               -3004.991029   \n",
       "                           1.0                            0.0                  0.0                     0.0                   0.0                               -4147.441010   \n",
       "1.0                        0.0                            0.0                  0.0                     0.0                   0.0                               -1157.124176   \n",
       "\n",
       "                                                                                                                                                      max_negative_polarity  \\\n",
       " data_channel_is_lifestyle  data_channel_is_entertainment  data_channel_is_bus  data_channel_is_socmed  data_channel_is_tech  data_channel_is_world                           \n",
       "0.0                        0.0                            0.0                  0.0                     0.0                   0.0                                -775.311163   \n",
       "                                                                                                                             1.0                                -791.336661   \n",
       "                                                                                                       1.0                   0.0                                -754.394093   \n",
       "                                                                               1.0                     0.0                   0.0                                -259.785379   \n",
       "                                                          1.0                  0.0                     0.0                   0.0                                -683.363111   \n",
       "                           1.0                            0.0                  0.0                     0.0                   0.0                                -780.664393   \n",
       "1.0                        0.0                            0.0                  0.0                     0.0                   0.0                                -216.884722   \n",
       "\n",
       "                                                                                                                                                      title_subjectivity  \\\n",
       " data_channel_is_lifestyle  data_channel_is_entertainment  data_channel_is_bus  data_channel_is_socmed  data_channel_is_tech  data_channel_is_world                        \n",
       "0.0                        0.0                            0.0                  0.0                     0.0                   0.0                             2288.646058   \n",
       "                                                                                                                             1.0                             2052.730030   \n",
       "                                                                                                       1.0                   0.0                             1859.253729   \n",
       "                                                                               1.0                     0.0                   0.0                              605.206028   \n",
       "                                                          1.0                  0.0                     0.0                   0.0                             1558.664909   \n",
       "                           1.0                            0.0                  0.0                     0.0                   0.0                             2228.574099   \n",
       "1.0                        0.0                            0.0                  0.0                     0.0                   0.0                              600.534778   \n",
       "\n",
       "                                                                                                                                                      title_sentiment_polarity  \\\n",
       " data_channel_is_lifestyle  data_channel_is_entertainment  data_channel_is_bus  data_channel_is_socmed  data_channel_is_tech  data_channel_is_world                              \n",
       "0.0                        0.0                            0.0                  0.0                     0.0                   0.0                                    530.767501   \n",
       "                                                                                                                             1.0                                    253.324606   \n",
       "                                                                                                       1.0                   0.0                                    634.394684   \n",
       "                                                                               1.0                     0.0                   0.0                                    226.318255   \n",
       "                                                          1.0                  0.0                     0.0                   0.0                                    501.830520   \n",
       "                           1.0                            0.0                  0.0                     0.0                   0.0                                    456.005125   \n",
       "1.0                        0.0                            0.0                  0.0                     0.0                   0.0                                    228.949133   \n",
       "\n",
       "                                                                                                                                                      abs_title_subjectivity  \\\n",
       " data_channel_is_lifestyle  data_channel_is_entertainment  data_channel_is_bus  data_channel_is_socmed  data_channel_is_tech  data_channel_is_world                            \n",
       "0.0                        0.0                            0.0                  0.0                     0.0                   0.0                                 2034.879128   \n",
       "                                                                                                                             1.0                                 3043.439688   \n",
       "                                                                                                       1.0                   0.0                                 2532.078272   \n",
       "                                                                               1.0                     0.0                   0.0                                  814.612894   \n",
       "                                                          1.0                  0.0                     0.0                   0.0                                 2132.461961   \n",
       "                           1.0                            0.0                  0.0                     0.0                   0.0                                 2265.515804   \n",
       "1.0                        0.0                            0.0                  0.0                     0.0                   0.0                                  729.026470   \n",
       "\n",
       "                                                                                                                                                      abs_title_sentiment_polarity  \\\n",
       " data_channel_is_lifestyle  data_channel_is_entertainment  data_channel_is_bus  data_channel_is_socmed  data_channel_is_tech  data_channel_is_world                                  \n",
       "0.0                        0.0                            0.0                  0.0                     0.0                   0.0                                       1308.942167   \n",
       "                                                                                                                             1.0                                       1076.331479   \n",
       "                                                                                                       1.0                   0.0                                        999.326968   \n",
       "                                                                               1.0                     0.0                   0.0                                        355.833837   \n",
       "                                                          1.0                  0.0                     0.0                   0.0                                        870.374876   \n",
       "                           1.0                            0.0                  0.0                     0.0                   0.0                                       1212.510579   \n",
       "1.0                        0.0                            0.0                  0.0                     0.0                   0.0                                        363.667945   \n",
       "\n",
       "                                                                                                                                                       shares  \n",
       " data_channel_is_lifestyle  data_channel_is_entertainment  data_channel_is_bus  data_channel_is_socmed  data_channel_is_tech  data_channel_is_world            \n",
       "0.0                        0.0                            0.0                  0.0                     0.0                   0.0                     36467793  \n",
       "                                                                                                                             1.0                     19278735  \n",
       "                                                                                                       1.0                   0.0                     22568993  \n",
       "                                                                               1.0                     0.0                   0.0                      8431057  \n",
       "                                                          1.0                  0.0                     0.0                   0.0                     19168370  \n",
       "                           1.0                            0.0                  0.0                     0.0                   0.0                     20962727  \n",
       "1.0                        0.0                            0.0                  0.0                     0.0                   0.0                      7728777  \n",
       "\n",
       "[7 rows x 54 columns]"
      ]
     },
     "execution_count": 182,
     "metadata": {},
     "output_type": "execute_result"
    }
   ],
   "source": [
    "df.groupby([' data_channel_is_lifestyle',\n",
    "       ' data_channel_is_entertainment', ' data_channel_is_bus',\n",
    "       ' data_channel_is_socmed', ' data_channel_is_tech',\n",
    "       ' data_channel_is_world']).sum()"
   ]
  },
  {
   "cell_type": "code",
   "execution_count": 220,
   "metadata": {},
   "outputs": [
    {
     "data": {
      "text/plain": [
       "36467793"
      ]
     },
     "execution_count": 220,
     "metadata": {},
     "output_type": "execute_result"
    }
   ],
   "source": [
    "df[(df[' data_channel_is_lifestyle']==0)&(df[' data_channel_is_entertainment']==0)&\n",
    "  (df[' data_channel_is_bus']==0)&(df[' data_channel_is_socmed']==0)&\n",
    "  (df[' data_channel_is_tech']==0)&(df[' data_channel_is_world']==0)][' shares'].sum()"
   ]
  },
  {
   "cell_type": "code",
   "execution_count": 224,
   "metadata": {},
   "outputs": [
    {
     "data": {
      "text/plain": [
       "134606452"
      ]
     },
     "execution_count": 224,
     "metadata": {},
     "output_type": "execute_result"
    }
   ],
   "source": [
    "df[(df[' is_weekend'] == 0)|(df[' is_weekend'] == 1)][' shares'].sum()"
   ]
  },
  {
   "cell_type": "code",
   "execution_count": 214,
   "metadata": {},
   "outputs": [],
   "source": [
    "shares_by_ifweekdays = np.array(df.groupby([' is_weekend'])[' shares'].sum())"
   ]
  },
  {
   "cell_type": "code",
   "execution_count": 215,
   "metadata": {},
   "outputs": [
    {
     "data": {
      "text/plain": [
       "array([114347835,  20258617])"
      ]
     },
     "execution_count": 215,
     "metadata": {},
     "output_type": "execute_result"
    }
   ],
   "source": [
    "shares_by_ifweekdays"
   ]
  },
  {
   "cell_type": "code",
   "execution_count": 218,
   "metadata": {},
   "outputs": [],
   "source": [
    "shares_by_ifweekdays_df = pd.DataFrame(shares_by_ifweekdays.reshape(1,2), columns=['Weekday','Weekend'])"
   ]
  },
  {
   "cell_type": "code",
   "execution_count": 227,
   "metadata": {},
   "outputs": [
    {
     "data": {
      "text/html": [
       "<div>\n",
       "<style scoped>\n",
       "    .dataframe tbody tr th:only-of-type {\n",
       "        vertical-align: middle;\n",
       "    }\n",
       "\n",
       "    .dataframe tbody tr th {\n",
       "        vertical-align: top;\n",
       "    }\n",
       "\n",
       "    .dataframe thead th {\n",
       "        text-align: right;\n",
       "    }\n",
       "</style>\n",
       "<table border=\"1\" class=\"dataframe\">\n",
       "  <thead>\n",
       "    <tr style=\"text-align: right;\">\n",
       "      <th></th>\n",
       "      <th>Weekday</th>\n",
       "      <th>Weekend</th>\n",
       "    </tr>\n",
       "  </thead>\n",
       "  <tbody>\n",
       "    <tr>\n",
       "      <td>0</td>\n",
       "      <td>114347835</td>\n",
       "      <td>20258617</td>\n",
       "    </tr>\n",
       "  </tbody>\n",
       "</table>\n",
       "</div>"
      ],
      "text/plain": [
       "     Weekday   Weekend\n",
       "0  114347835  20258617"
      ]
     },
     "execution_count": 227,
     "metadata": {},
     "output_type": "execute_result"
    }
   ],
   "source": [
    "shares_by_ifweekdays_df"
   ]
  },
  {
   "cell_type": "code",
   "execution_count": 230,
   "metadata": {},
   "outputs": [
    {
     "data": {
      "image/png": "[encoded data removed]",
      "text/plain": [
       "<Figure size 432x288 with 1 Axes>"
      ]
     },
     "metadata": {
      "needs_background": "light"
     },
     "output_type": "display_data"
    }
   ],
   "source": [
    "plt.bar(shares_by_ifweekdays_df.columns, height = shares_by_ifweekdays_df.iloc[0,:]);"
   ]
  },
  {
   "cell_type": "code",
   "execution_count": 238,
   "metadata": {},
   "outputs": [
    {
     "data": {
      "text/plain": [
       "0.4934416305115528"
      ]
     },
     "execution_count": 238,
     "metadata": {},
     "output_type": "execute_result"
    }
   ],
   "source": [
    "len(df[df[' shares']>1400])/len(df)"
   ]
  },
  {
   "cell_type": "code",
   "execution_count": 7,
   "metadata": {},
   "outputs": [],
   "source": [
    "df_1 = df[(df[' shares'] <10000)]\n",
    "df_2 = df[(df[' shares'] >10000)]"
   ]
  },
  {
   "cell_type": "code",
   "execution_count": 99,
   "metadata": {},
   "outputs": [
    {
     "data": {
      "image/png": "[encoded data removed]",
      "text/plain": [
       "<Figure size 1080x288 with 2 Axes>"
      ]
     },
     "metadata": {
      "needs_background": "light"
     },
     "output_type": "display_data"
    }
   ],
   "source": [
    "fig, (ax1,ax2) = plt.subplots(1,2,figsize=(15,4))\n",
    "ax1.hist(df_1[' shares'], bins =100)\n",
    "ax2.hist(df_2[' shares'], bins =400);"
   ]
  },
  {
   "cell_type": "code",
   "execution_count": 9,
   "metadata": {
    "scrolled": true
   },
   "outputs": [
    {
     "data": {
      "image/png": "[encoded data removed]",
      "text/plain": [
       "<Figure size 432x288 with 1 Axes>"
      ]
     },
     "metadata": {
      "needs_background": "light"
     },
     "output_type": "display_data"
    }
   ],
   "source": [
    "plt.hist(df[' average_token_length'], bins=200);"
   ]
  },
  {
   "cell_type": "code",
   "execution_count": 10,
   "metadata": {},
   "outputs": [
    {
     "data": {
      "image/png": "[encoded data removed]",
      "text/plain": [
       "<Figure size 432x288 with 1 Axes>"
      ]
     },
     "metadata": {
      "needs_background": "light"
     },
     "output_type": "display_data"
    }
   ],
   "source": [
    "plt.hist(df[' timedelta'], bins=100);"
   ]
  },
  {
   "cell_type": "code",
   "execution_count": 11,
   "metadata": {},
   "outputs": [
    {
     "data": {
      "image/png": "[encoded data removed]",
      "text/plain": [
       "<Figure size 432x288 with 1 Axes>"
      ]
     },
     "metadata": {
      "needs_background": "light"
     },
     "output_type": "display_data"
    }
   ],
   "source": [
    " plt.hist(df[' n_tokens_title'], bins=20);"
   ]
  },
  {
   "cell_type": "code",
   "execution_count": 12,
   "metadata": {},
   "outputs": [
    {
     "data": {
      "image/png": "[encoded data removed]",
      "text/plain": [
       "<Figure size 432x288 with 1 Axes>"
      ]
     },
     "metadata": {
      "needs_background": "light"
     },
     "output_type": "display_data"
    }
   ],
   "source": [
    " plt.hist(df[' n_tokens_content'], bins=200);"
   ]
  },
  {
   "cell_type": "code",
   "execution_count": 13,
   "metadata": {},
   "outputs": [
    {
     "data": {
      "image/png": "[encoded data removed]",
      "text/plain": [
       "<Figure size 432x288 with 1 Axes>"
      ]
     },
     "metadata": {
      "needs_background": "light"
     },
     "output_type": "display_data"
    }
   ],
   "source": [
    " plt.hist(df[' n_unique_tokens'], bins=100);"
   ]
  },
  {
   "cell_type": "code",
   "execution_count": 14,
   "metadata": {},
   "outputs": [
    {
     "data": {
      "image/png": "[encoded data removed]",
      "text/plain": [
       "<Figure size 432x288 with 1 Axes>"
      ]
     },
     "metadata": {
      "needs_background": "light"
     },
     "output_type": "display_data"
    }
   ],
   "source": [
    "  plt.hist(df[' n_non_stop_words'], bins=100);"
   ]
  },
  {
   "cell_type": "code",
   "execution_count": 15,
   "metadata": {},
   "outputs": [
    {
     "data": {
      "image/png": "[encoded data removed]",
      "text/plain": [
       "<Figure size 432x288 with 1 Axes>"
      ]
     },
     "metadata": {
      "needs_background": "light"
     },
     "output_type": "display_data"
    }
   ],
   "source": [
    "  plt.hist(df[' n_non_stop_unique_tokens'], bins=50);"
   ]
  },
  {
   "cell_type": "code",
   "execution_count": 16,
   "metadata": {},
   "outputs": [
    {
     "data": {
      "image/png": "[encoded data removed]",
      "text/plain": [
       "<Figure size 432x288 with 1 Axes>"
      ]
     },
     "metadata": {
      "needs_background": "light"
     },
     "output_type": "display_data"
    }
   ],
   "source": [
    "plt.hist(df[' num_hrefs'], bins=100);"
   ]
  },
  {
   "cell_type": "code",
   "execution_count": 17,
   "metadata": {},
   "outputs": [
    {
     "data": {
      "image/png": "[encoded data removed]",
      "text/plain": [
       "<Figure size 432x288 with 1 Axes>"
      ]
     },
     "metadata": {
      "needs_background": "light"
     },
     "output_type": "display_data"
    }
   ],
   "source": [
    " plt.hist(df[' num_self_hrefs'], bins=100);"
   ]
  },
  {
   "cell_type": "code",
   "execution_count": 18,
   "metadata": {},
   "outputs": [
    {
     "data": {
      "image/png": "[encoded data removed]",
      "text/plain": [
       "<Figure size 432x288 with 1 Axes>"
      ]
     },
     "metadata": {
      "needs_background": "light"
     },
     "output_type": "display_data"
    }
   ],
   "source": [
    "plt.hist(df[' num_imgs'], bins=20);"
   ]
  },
  {
   "cell_type": "code",
   "execution_count": 19,
   "metadata": {},
   "outputs": [
    {
     "data": {
      "image/png": "[encoded data removed]",
      "text/plain": [
       "<Figure size 432x288 with 1 Axes>"
      ]
     },
     "metadata": {
      "needs_background": "light"
     },
     "output_type": "display_data"
    }
   ],
   "source": [
    "plt.hist(df[' num_videos'], bins=20);"
   ]
  },
  {
   "cell_type": "code",
   "execution_count": 20,
   "metadata": {},
   "outputs": [
    {
     "data": {
      "text/plain": [
       "<matplotlib.collections.PathCollection at 0x7fec68563050>"
      ]
     },
     "execution_count": 20,
     "metadata": {},
     "output_type": "execute_result"
    },
    {
     "data": {
      "image/png": "[encoded data removed]",
      "text/plain": [
       "<Figure size 432x288 with 1 Axes>"
      ]
     },
     "metadata": {
      "needs_background": "light"
     },
     "output_type": "display_data"
    }
   ],
   "source": [
    "plt.scatter(df[' num_imgs'], df[' num_videos'])"
   ]
  },
  {
   "cell_type": "code",
   "execution_count": 21,
   "metadata": {},
   "outputs": [
    {
     "data": {
      "image/png": "[encoded data removed]",
      "text/plain": [
       "<Figure size 432x288 with 1 Axes>"
      ]
     },
     "metadata": {
      "needs_background": "light"
     },
     "output_type": "display_data"
    }
   ],
   "source": [
    "plt.hist(df[' average_token_length'], bins=100);"
   ]
  },
  {
   "cell_type": "code",
   "execution_count": 22,
   "metadata": {},
   "outputs": [
    {
     "data": {
      "image/png": "[encoded data removed]",
      "text/plain": [
       "<Figure size 432x288 with 1 Axes>"
      ]
     },
     "metadata": {
      "needs_background": "light"
     },
     "output_type": "display_data"
    }
   ],
   "source": [
    "plt.hist(df[' num_keywords'], bins=100);"
   ]
  },
  {
   "cell_type": "code",
   "execution_count": 23,
   "metadata": {},
   "outputs": [
    {
     "data": {
      "image/png": "[encoded data removed]",
      "text/plain": [
       "<Figure size 432x288 with 1 Axes>"
      ]
     },
     "metadata": {
      "needs_background": "light"
     },
     "output_type": "display_data"
    }
   ],
   "source": [
    "plt.hist(df[' data_channel_is_lifestyle'], bins=3);"
   ]
  },
  {
   "cell_type": "code",
   "execution_count": 24,
   "metadata": {},
   "outputs": [
    {
     "data": {
      "image/png": "[encoded data removed]",
      "text/plain": [
       "<Figure size 432x288 with 1 Axes>"
      ]
     },
     "metadata": {
      "needs_background": "light"
     },
     "output_type": "display_data"
    }
   ],
   "source": [
    "plt.hist(df[' data_channel_is_entertainment'], bins=3);"
   ]
  },
  {
   "cell_type": "code",
   "execution_count": 25,
   "metadata": {},
   "outputs": [
    {
     "data": {
      "image/png": "[encoded data removed]",
      "text/plain": [
       "<Figure size 432x288 with 1 Axes>"
      ]
     },
     "metadata": {
      "needs_background": "light"
     },
     "output_type": "display_data"
    }
   ],
   "source": [
    "plt.hist(df[' data_channel_is_bus'], bins=3);"
   ]
  },
  {
   "cell_type": "code",
   "execution_count": 26,
   "metadata": {},
   "outputs": [
    {
     "data": {
      "image/png": "[encoded data removed]",
      "text/plain": [
       "<Figure size 432x288 with 1 Axes>"
      ]
     },
     "metadata": {
      "needs_background": "light"
     },
     "output_type": "display_data"
    }
   ],
   "source": [
    "plt.hist(df[' data_channel_is_socmed'], bins=3);"
   ]
  },
  {
   "cell_type": "code",
   "execution_count": 27,
   "metadata": {},
   "outputs": [
    {
     "data": {
      "image/png": "[encoded data removed]",
      "text/plain": [
       "<Figure size 432x288 with 1 Axes>"
      ]
     },
     "metadata": {
      "needs_background": "light"
     },
     "output_type": "display_data"
    }
   ],
   "source": [
    "plt.hist(df[' data_channel_is_tech'], bins=3);"
   ]
  },
  {
   "cell_type": "code",
   "execution_count": 28,
   "metadata": {},
   "outputs": [
    {
     "data": {
      "image/png": "[encoded data removed]",
      "text/plain": [
       "<Figure size 432x288 with 1 Axes>"
      ]
     },
     "metadata": {
      "needs_background": "light"
     },
     "output_type": "display_data"
    }
   ],
   "source": [
    "plt.hist(df[' data_channel_is_world'], bins=3);"
   ]
  },
  {
   "cell_type": "code",
   "execution_count": 29,
   "metadata": {},
   "outputs": [
    {
     "name": "stdout",
     "output_type": "stream",
     "text": [
      "Lifestle 2099\n",
      "Entertainment 7057\n",
      "Bus 6258\n",
      "SocialMedia 2323\n",
      "Tech 7346\n",
      "Worls 8427\n"
     ]
    }
   ],
   "source": [
    "print('Lifestle {}'.format(df[df[' data_channel_is_lifestyle']==1]['url'].count()))\n",
    "print('Entertainment {}'.format(df[df[' data_channel_is_entertainment']==1]['url'].count()))\n",
    "print('Bus {}'.format(df[df[' data_channel_is_bus']==1]['url'].count()))\n",
    "print('SocialMedia {}'.format(df[df[' data_channel_is_socmed']==1]['url'].count()))\n",
    "print('Tech {}'.format(df[df[' data_channel_is_tech']==1]['url'].count()))\n",
    "print('Worls {}'.format(df[df[' data_channel_is_world']==1]['url'].count()))\n",
    "\n"
   ]
  },
  {
   "cell_type": "code",
   "execution_count": 179,
   "metadata": {},
   "outputs": [
    {
     "data": {
      "text/html": [
       "<div>\n",
       "<style scoped>\n",
       "    .dataframe tbody tr th:only-of-type {\n",
       "        vertical-align: middle;\n",
       "    }\n",
       "\n",
       "    .dataframe tbody tr th {\n",
       "        vertical-align: top;\n",
       "    }\n",
       "\n",
       "    .dataframe thead th {\n",
       "        text-align: right;\n",
       "    }\n",
       "</style>\n",
       "<table border=\"1\" class=\"dataframe\">\n",
       "  <thead>\n",
       "    <tr style=\"text-align: right;\">\n",
       "      <th></th>\n",
       "      <th></th>\n",
       "      <th></th>\n",
       "      <th></th>\n",
       "      <th></th>\n",
       "      <th></th>\n",
       "      <th>timedelta</th>\n",
       "      <th>n_tokens_title</th>\n",
       "      <th>n_tokens_content</th>\n",
       "      <th>n_unique_tokens</th>\n",
       "      <th>n_non_stop_words</th>\n",
       "      <th>n_non_stop_unique_tokens</th>\n",
       "      <th>num_hrefs</th>\n",
       "      <th>num_self_hrefs</th>\n",
       "      <th>num_imgs</th>\n",
       "      <th>num_videos</th>\n",
       "      <th>...</th>\n",
       "      <th>min_positive_polarity</th>\n",
       "      <th>max_positive_polarity</th>\n",
       "      <th>avg_negative_polarity</th>\n",
       "      <th>min_negative_polarity</th>\n",
       "      <th>max_negative_polarity</th>\n",
       "      <th>title_subjectivity</th>\n",
       "      <th>title_sentiment_polarity</th>\n",
       "      <th>abs_title_subjectivity</th>\n",
       "      <th>abs_title_sentiment_polarity</th>\n",
       "      <th>shares</th>\n",
       "    </tr>\n",
       "    <tr>\n",
       "      <th>data_channel_is_lifestyle</th>\n",
       "      <th>data_channel_is_entertainment</th>\n",
       "      <th>data_channel_is_bus</th>\n",
       "      <th>data_channel_is_socmed</th>\n",
       "      <th>data_channel_is_tech</th>\n",
       "      <th>data_channel_is_world</th>\n",
       "      <th></th>\n",
       "      <th></th>\n",
       "      <th></th>\n",
       "      <th></th>\n",
       "      <th></th>\n",
       "      <th></th>\n",
       "      <th></th>\n",
       "      <th></th>\n",
       "      <th></th>\n",
       "      <th></th>\n",
       "      <th></th>\n",
       "      <th></th>\n",
       "      <th></th>\n",
       "      <th></th>\n",
       "      <th></th>\n",
       "      <th></th>\n",
       "      <th></th>\n",
       "      <th></th>\n",
       "      <th></th>\n",
       "      <th></th>\n",
       "      <th></th>\n",
       "    </tr>\n",
       "  </thead>\n",
       "  <tbody>\n",
       "    <tr>\n",
       "      <td rowspan=\"6\" valign=\"top\">0.0</td>\n",
       "      <td rowspan=\"5\" valign=\"top\">0.0</td>\n",
       "      <td rowspan=\"4\" valign=\"top\">0.0</td>\n",
       "      <td rowspan=\"3\" valign=\"top\">0.0</td>\n",
       "      <td rowspan=\"2\" valign=\"top\">0.0</td>\n",
       "      <td>0.0</td>\n",
       "      <td>2222422.0</td>\n",
       "      <td>63201.0</td>\n",
       "      <td>2047992.0</td>\n",
       "      <td>3312.965160</td>\n",
       "      <td>5490.999962</td>\n",
       "      <td>3893.674857</td>\n",
       "      <td>83619.0</td>\n",
       "      <td>17694.0</td>\n",
       "      <td>47467.0</td>\n",
       "      <td>16092.0</td>\n",
       "      <td>...</td>\n",
       "      <td>727.039816</td>\n",
       "      <td>4446.289264</td>\n",
       "      <td>-1736.741157</td>\n",
       "      <td>-3131.344295</td>\n",
       "      <td>-775.311163</td>\n",
       "      <td>2288.646058</td>\n",
       "      <td>530.767501</td>\n",
       "      <td>2034.879128</td>\n",
       "      <td>1308.942167</td>\n",
       "      <td>36467793</td>\n",
       "    </tr>\n",
       "    <tr>\n",
       "      <td>1.0</td>\n",
       "      <td>2396259.0</td>\n",
       "      <td>89318.0</td>\n",
       "      <td>5033290.0</td>\n",
       "      <td>4303.747206</td>\n",
       "      <td>8167.999968</td>\n",
       "      <td>5606.427696</td>\n",
       "      <td>85915.0</td>\n",
       "      <td>20325.0</td>\n",
       "      <td>23943.0</td>\n",
       "      <td>4631.0</td>\n",
       "      <td>...</td>\n",
       "      <td>745.691147</td>\n",
       "      <td>5890.222489</td>\n",
       "      <td>-2126.006774</td>\n",
       "      <td>-4725.091960</td>\n",
       "      <td>-791.336661</td>\n",
       "      <td>2052.730030</td>\n",
       "      <td>253.324606</td>\n",
       "      <td>3043.439688</td>\n",
       "      <td>1076.331479</td>\n",
       "      <td>19278735</td>\n",
       "    </tr>\n",
       "    <tr>\n",
       "      <td>1.0</td>\n",
       "      <td>0.0</td>\n",
       "      <td>2879092.0</td>\n",
       "      <td>74868.0</td>\n",
       "      <td>4199074.0</td>\n",
       "      <td>3900.962126</td>\n",
       "      <td>7324.999963</td>\n",
       "      <td>5016.376924</td>\n",
       "      <td>69176.0</td>\n",
       "      <td>34092.0</td>\n",
       "      <td>32576.0</td>\n",
       "      <td>3285.0</td>\n",
       "      <td>...</td>\n",
       "      <td>728.471623</td>\n",
       "      <td>5670.463193</td>\n",
       "      <td>-1680.543983</td>\n",
       "      <td>-3314.973825</td>\n",
       "      <td>-754.394093</td>\n",
       "      <td>1859.253729</td>\n",
       "      <td>634.394684</td>\n",
       "      <td>2532.078272</td>\n",
       "      <td>999.326968</td>\n",
       "      <td>22568993</td>\n",
       "    </tr>\n",
       "    <tr>\n",
       "      <td>1.0</td>\n",
       "      <td>0.0</td>\n",
       "      <td>0.0</td>\n",
       "      <td>975696.0</td>\n",
       "      <td>22377.0</td>\n",
       "      <td>1416166.0</td>\n",
       "      <td>1242.537572</td>\n",
       "      <td>2310.999988</td>\n",
       "      <td>1584.967930</td>\n",
       "      <td>30608.0</td>\n",
       "      <td>10958.0</td>\n",
       "      <td>9966.0</td>\n",
       "      <td>2596.0</td>\n",
       "      <td>...</td>\n",
       "      <td>181.593214</td>\n",
       "      <td>1820.099026</td>\n",
       "      <td>-597.838662</td>\n",
       "      <td>-1210.970849</td>\n",
       "      <td>-259.785379</td>\n",
       "      <td>605.206028</td>\n",
       "      <td>226.318255</td>\n",
       "      <td>814.612894</td>\n",
       "      <td>355.833837</td>\n",
       "      <td>8431057</td>\n",
       "    </tr>\n",
       "    <tr>\n",
       "      <td>1.0</td>\n",
       "      <td>0.0</td>\n",
       "      <td>0.0</td>\n",
       "      <td>0.0</td>\n",
       "      <td>2391348.0</td>\n",
       "      <td>64345.0</td>\n",
       "      <td>3378515.0</td>\n",
       "      <td>3417.298034</td>\n",
       "      <td>6234.999968</td>\n",
       "      <td>4399.705681</td>\n",
       "      <td>58551.0</td>\n",
       "      <td>17541.0</td>\n",
       "      <td>11317.0</td>\n",
       "      <td>3983.0</td>\n",
       "      <td>...</td>\n",
       "      <td>542.135292</td>\n",
       "      <td>4806.145823</td>\n",
       "      <td>-1519.569550</td>\n",
       "      <td>-3004.991029</td>\n",
       "      <td>-683.363111</td>\n",
       "      <td>1558.664909</td>\n",
       "      <td>501.830520</td>\n",
       "      <td>2132.461961</td>\n",
       "      <td>870.374876</td>\n",
       "      <td>19168370</td>\n",
       "    </tr>\n",
       "    <tr>\n",
       "      <td>1.0</td>\n",
       "      <td>0.0</td>\n",
       "      <td>0.0</td>\n",
       "      <td>0.0</td>\n",
       "      <td>0.0</td>\n",
       "      <td>2342431.0</td>\n",
       "      <td>77641.0</td>\n",
       "      <td>4286827.0</td>\n",
       "      <td>4456.908023</td>\n",
       "      <td>7896.999969</td>\n",
       "      <td>5386.014038</td>\n",
       "      <td>75437.0</td>\n",
       "      <td>24681.0</td>\n",
       "      <td>44584.0</td>\n",
       "      <td>17966.0</td>\n",
       "      <td>...</td>\n",
       "      <td>659.882500</td>\n",
       "      <td>5629.328615</td>\n",
       "      <td>-2075.731115</td>\n",
       "      <td>-4147.441010</td>\n",
       "      <td>-780.664393</td>\n",
       "      <td>2228.574099</td>\n",
       "      <td>456.005125</td>\n",
       "      <td>2265.515804</td>\n",
       "      <td>1212.510579</td>\n",
       "      <td>20962727</td>\n",
       "    </tr>\n",
       "    <tr>\n",
       "      <td>1.0</td>\n",
       "      <td>0.0</td>\n",
       "      <td>0.0</td>\n",
       "      <td>0.0</td>\n",
       "      <td>0.0</td>\n",
       "      <td>0.0</td>\n",
       "      <td>847758.0</td>\n",
       "      <td>20498.0</td>\n",
       "      <td>1304166.0</td>\n",
       "      <td>1099.045759</td>\n",
       "      <td>2076.999991</td>\n",
       "      <td>1434.502194</td>\n",
       "      <td>28167.0</td>\n",
       "      <td>5282.0</td>\n",
       "      <td>10295.0</td>\n",
       "      <td>997.0</td>\n",
       "      <td>...</td>\n",
       "      <td>199.029318</td>\n",
       "      <td>1737.158333</td>\n",
       "      <td>-552.143809</td>\n",
       "      <td>-1157.124176</td>\n",
       "      <td>-216.884722</td>\n",
       "      <td>600.534778</td>\n",
       "      <td>228.949133</td>\n",
       "      <td>729.026470</td>\n",
       "      <td>363.667945</td>\n",
       "      <td>7728777</td>\n",
       "    </tr>\n",
       "  </tbody>\n",
       "</table>\n",
       "<p>7 rows × 54 columns</p>\n",
       "</div>"
      ],
      "text/plain": [
       "                                                                                                                                                      timedelta  \\\n",
       " data_channel_is_lifestyle  data_channel_is_entertainment  data_channel_is_bus  data_channel_is_socmed  data_channel_is_tech  data_channel_is_world               \n",
       "0.0                        0.0                            0.0                  0.0                     0.0                   0.0                      2222422.0   \n",
       "                                                                                                                             1.0                      2396259.0   \n",
       "                                                                                                       1.0                   0.0                      2879092.0   \n",
       "                                                                               1.0                     0.0                   0.0                       975696.0   \n",
       "                                                          1.0                  0.0                     0.0                   0.0                      2391348.0   \n",
       "                           1.0                            0.0                  0.0                     0.0                   0.0                      2342431.0   \n",
       "1.0                        0.0                            0.0                  0.0                     0.0                   0.0                       847758.0   \n",
       "\n",
       "                                                                                                                                                      n_tokens_title  \\\n",
       " data_channel_is_lifestyle  data_channel_is_entertainment  data_channel_is_bus  data_channel_is_socmed  data_channel_is_tech  data_channel_is_world                    \n",
       "0.0                        0.0                            0.0                  0.0                     0.0                   0.0                             63201.0   \n",
       "                                                                                                                             1.0                             89318.0   \n",
       "                                                                                                       1.0                   0.0                             74868.0   \n",
       "                                                                               1.0                     0.0                   0.0                             22377.0   \n",
       "                                                          1.0                  0.0                     0.0                   0.0                             64345.0   \n",
       "                           1.0                            0.0                  0.0                     0.0                   0.0                             77641.0   \n",
       "1.0                        0.0                            0.0                  0.0                     0.0                   0.0                             20498.0   \n",
       "\n",
       "                                                                                                                                                      n_tokens_content  \\\n",
       " data_channel_is_lifestyle  data_channel_is_entertainment  data_channel_is_bus  data_channel_is_socmed  data_channel_is_tech  data_channel_is_world                      \n",
       "0.0                        0.0                            0.0                  0.0                     0.0                   0.0                             2047992.0   \n",
       "                                                                                                                             1.0                             5033290.0   \n",
       "                                                                                                       1.0                   0.0                             4199074.0   \n",
       "                                                                               1.0                     0.0                   0.0                             1416166.0   \n",
       "                                                          1.0                  0.0                     0.0                   0.0                             3378515.0   \n",
       "                           1.0                            0.0                  0.0                     0.0                   0.0                             4286827.0   \n",
       "1.0                        0.0                            0.0                  0.0                     0.0                   0.0                             1304166.0   \n",
       "\n",
       "                                                                                                                                                      n_unique_tokens  \\\n",
       " data_channel_is_lifestyle  data_channel_is_entertainment  data_channel_is_bus  data_channel_is_socmed  data_channel_is_tech  data_channel_is_world                     \n",
       "0.0                        0.0                            0.0                  0.0                     0.0                   0.0                          3312.965160   \n",
       "                                                                                                                             1.0                          4303.747206   \n",
       "                                                                                                       1.0                   0.0                          3900.962126   \n",
       "                                                                               1.0                     0.0                   0.0                          1242.537572   \n",
       "                                                          1.0                  0.0                     0.0                   0.0                          3417.298034   \n",
       "                           1.0                            0.0                  0.0                     0.0                   0.0                          4456.908023   \n",
       "1.0                        0.0                            0.0                  0.0                     0.0                   0.0                          1099.045759   \n",
       "\n",
       "                                                                                                                                                      n_non_stop_words  \\\n",
       " data_channel_is_lifestyle  data_channel_is_entertainment  data_channel_is_bus  data_channel_is_socmed  data_channel_is_tech  data_channel_is_world                      \n",
       "0.0                        0.0                            0.0                  0.0                     0.0                   0.0                           5490.999962   \n",
       "                                                                                                                             1.0                           8167.999968   \n",
       "                                                                                                       1.0                   0.0                           7324.999963   \n",
       "                                                                               1.0                     0.0                   0.0                           2310.999988   \n",
       "                                                          1.0                  0.0                     0.0                   0.0                           6234.999968   \n",
       "                           1.0                            0.0                  0.0                     0.0                   0.0                           7896.999969   \n",
       "1.0                        0.0                            0.0                  0.0                     0.0                   0.0                           2076.999991   \n",
       "\n",
       "                                                                                                                                                      n_non_stop_unique_tokens  \\\n",
       " data_channel_is_lifestyle  data_channel_is_entertainment  data_channel_is_bus  data_channel_is_socmed  data_channel_is_tech  data_channel_is_world                              \n",
       "0.0                        0.0                            0.0                  0.0                     0.0                   0.0                                   3893.674857   \n",
       "                                                                                                                             1.0                                   5606.427696   \n",
       "                                                                                                       1.0                   0.0                                   5016.376924   \n",
       "                                                                               1.0                     0.0                   0.0                                   1584.967930   \n",
       "                                                          1.0                  0.0                     0.0                   0.0                                   4399.705681   \n",
       "                           1.0                            0.0                  0.0                     0.0                   0.0                                   5386.014038   \n",
       "1.0                        0.0                            0.0                  0.0                     0.0                   0.0                                   1434.502194   \n",
       "\n",
       "                                                                                                                                                      num_hrefs  \\\n",
       " data_channel_is_lifestyle  data_channel_is_entertainment  data_channel_is_bus  data_channel_is_socmed  data_channel_is_tech  data_channel_is_world               \n",
       "0.0                        0.0                            0.0                  0.0                     0.0                   0.0                        83619.0   \n",
       "                                                                                                                             1.0                        85915.0   \n",
       "                                                                                                       1.0                   0.0                        69176.0   \n",
       "                                                                               1.0                     0.0                   0.0                        30608.0   \n",
       "                                                          1.0                  0.0                     0.0                   0.0                        58551.0   \n",
       "                           1.0                            0.0                  0.0                     0.0                   0.0                        75437.0   \n",
       "1.0                        0.0                            0.0                  0.0                     0.0                   0.0                        28167.0   \n",
       "\n",
       "                                                                                                                                                      num_self_hrefs  \\\n",
       " data_channel_is_lifestyle  data_channel_is_entertainment  data_channel_is_bus  data_channel_is_socmed  data_channel_is_tech  data_channel_is_world                    \n",
       "0.0                        0.0                            0.0                  0.0                     0.0                   0.0                             17694.0   \n",
       "                                                                                                                             1.0                             20325.0   \n",
       "                                                                                                       1.0                   0.0                             34092.0   \n",
       "                                                                               1.0                     0.0                   0.0                             10958.0   \n",
       "                                                          1.0                  0.0                     0.0                   0.0                             17541.0   \n",
       "                           1.0                            0.0                  0.0                     0.0                   0.0                             24681.0   \n",
       "1.0                        0.0                            0.0                  0.0                     0.0                   0.0                              5282.0   \n",
       "\n",
       "                                                                                                                                                      num_imgs  \\\n",
       " data_channel_is_lifestyle  data_channel_is_entertainment  data_channel_is_bus  data_channel_is_socmed  data_channel_is_tech  data_channel_is_world              \n",
       "0.0                        0.0                            0.0                  0.0                     0.0                   0.0                       47467.0   \n",
       "                                                                                                                             1.0                       23943.0   \n",
       "                                                                                                       1.0                   0.0                       32576.0   \n",
       "                                                                               1.0                     0.0                   0.0                        9966.0   \n",
       "                                                          1.0                  0.0                     0.0                   0.0                       11317.0   \n",
       "                           1.0                            0.0                  0.0                     0.0                   0.0                       44584.0   \n",
       "1.0                        0.0                            0.0                  0.0                     0.0                   0.0                       10295.0   \n",
       "\n",
       "                                                                                                                                                      num_videos  \\\n",
       " data_channel_is_lifestyle  data_channel_is_entertainment  data_channel_is_bus  data_channel_is_socmed  data_channel_is_tech  data_channel_is_world                \n",
       "0.0                        0.0                            0.0                  0.0                     0.0                   0.0                         16092.0   \n",
       "                                                                                                                             1.0                          4631.0   \n",
       "                                                                                                       1.0                   0.0                          3285.0   \n",
       "                                                                               1.0                     0.0                   0.0                          2596.0   \n",
       "                                                          1.0                  0.0                     0.0                   0.0                          3983.0   \n",
       "                           1.0                            0.0                  0.0                     0.0                   0.0                         17966.0   \n",
       "1.0                        0.0                            0.0                  0.0                     0.0                   0.0                           997.0   \n",
       "\n",
       "                                                                                                                                                     ...  \\\n",
       " data_channel_is_lifestyle  data_channel_is_entertainment  data_channel_is_bus  data_channel_is_socmed  data_channel_is_tech  data_channel_is_world  ...   \n",
       "0.0                        0.0                            0.0                  0.0                     0.0                   0.0                     ...   \n",
       "                                                                                                                             1.0                     ...   \n",
       "                                                                                                       1.0                   0.0                     ...   \n",
       "                                                                               1.0                     0.0                   0.0                     ...   \n",
       "                                                          1.0                  0.0                     0.0                   0.0                     ...   \n",
       "                           1.0                            0.0                  0.0                     0.0                   0.0                     ...   \n",
       "1.0                        0.0                            0.0                  0.0                     0.0                   0.0                     ...   \n",
       "\n",
       "                                                                                                                                                      min_positive_polarity  \\\n",
       " data_channel_is_lifestyle  data_channel_is_entertainment  data_channel_is_bus  data_channel_is_socmed  data_channel_is_tech  data_channel_is_world                           \n",
       "0.0                        0.0                            0.0                  0.0                     0.0                   0.0                                 727.039816   \n",
       "                                                                                                                             1.0                                 745.691147   \n",
       "                                                                                                       1.0                   0.0                                 728.471623   \n",
       "                                                                               1.0                     0.0                   0.0                                 181.593214   \n",
       "                                                          1.0                  0.0                     0.0                   0.0                                 542.135292   \n",
       "                           1.0                            0.0                  0.0                     0.0                   0.0                                 659.882500   \n",
       "1.0                        0.0                            0.0                  0.0                     0.0                   0.0                                 199.029318   \n",
       "\n",
       "                                                                                                                                                      max_positive_polarity  \\\n",
       " data_channel_is_lifestyle  data_channel_is_entertainment  data_channel_is_bus  data_channel_is_socmed  data_channel_is_tech  data_channel_is_world                           \n",
       "0.0                        0.0                            0.0                  0.0                     0.0                   0.0                                4446.289264   \n",
       "                                                                                                                             1.0                                5890.222489   \n",
       "                                                                                                       1.0                   0.0                                5670.463193   \n",
       "                                                                               1.0                     0.0                   0.0                                1820.099026   \n",
       "                                                          1.0                  0.0                     0.0                   0.0                                4806.145823   \n",
       "                           1.0                            0.0                  0.0                     0.0                   0.0                                5629.328615   \n",
       "1.0                        0.0                            0.0                  0.0                     0.0                   0.0                                1737.158333   \n",
       "\n",
       "                                                                                                                                                      avg_negative_polarity  \\\n",
       " data_channel_is_lifestyle  data_channel_is_entertainment  data_channel_is_bus  data_channel_is_socmed  data_channel_is_tech  data_channel_is_world                           \n",
       "0.0                        0.0                            0.0                  0.0                     0.0                   0.0                               -1736.741157   \n",
       "                                                                                                                             1.0                               -2126.006774   \n",
       "                                                                                                       1.0                   0.0                               -1680.543983   \n",
       "                                                                               1.0                     0.0                   0.0                                -597.838662   \n",
       "                                                          1.0                  0.0                     0.0                   0.0                               -1519.569550   \n",
       "                           1.0                            0.0                  0.0                     0.0                   0.0                               -2075.731115   \n",
       "1.0                        0.0                            0.0                  0.0                     0.0                   0.0                                -552.143809   \n",
       "\n",
       "                                                                                                                                                      min_negative_polarity  \\\n",
       " data_channel_is_lifestyle  data_channel_is_entertainment  data_channel_is_bus  data_channel_is_socmed  data_channel_is_tech  data_channel_is_world                           \n",
       "0.0                        0.0                            0.0                  0.0                     0.0                   0.0                               -3131.344295   \n",
       "                                                                                                                             1.0                               -4725.091960   \n",
       "                                                                                                       1.0                   0.0                               -3314.973825   \n",
       "                                                                               1.0                     0.0                   0.0                               -1210.970849   \n",
       "                                                          1.0                  0.0                     0.0                   0.0                               -3004.991029   \n",
       "                           1.0                            0.0                  0.0                     0.0                   0.0                               -4147.441010   \n",
       "1.0                        0.0                            0.0                  0.0                     0.0                   0.0                               -1157.124176   \n",
       "\n",
       "                                                                                                                                                      max_negative_polarity  \\\n",
       " data_channel_is_lifestyle  data_channel_is_entertainment  data_channel_is_bus  data_channel_is_socmed  data_channel_is_tech  data_channel_is_world                           \n",
       "0.0                        0.0                            0.0                  0.0                     0.0                   0.0                                -775.311163   \n",
       "                                                                                                                             1.0                                -791.336661   \n",
       "                                                                                                       1.0                   0.0                                -754.394093   \n",
       "                                                                               1.0                     0.0                   0.0                                -259.785379   \n",
       "                                                          1.0                  0.0                     0.0                   0.0                                -683.363111   \n",
       "                           1.0                            0.0                  0.0                     0.0                   0.0                                -780.664393   \n",
       "1.0                        0.0                            0.0                  0.0                     0.0                   0.0                                -216.884722   \n",
       "\n",
       "                                                                                                                                                      title_subjectivity  \\\n",
       " data_channel_is_lifestyle  data_channel_is_entertainment  data_channel_is_bus  data_channel_is_socmed  data_channel_is_tech  data_channel_is_world                        \n",
       "0.0                        0.0                            0.0                  0.0                     0.0                   0.0                             2288.646058   \n",
       "                                                                                                                             1.0                             2052.730030   \n",
       "                                                                                                       1.0                   0.0                             1859.253729   \n",
       "                                                                               1.0                     0.0                   0.0                              605.206028   \n",
       "                                                          1.0                  0.0                     0.0                   0.0                             1558.664909   \n",
       "                           1.0                            0.0                  0.0                     0.0                   0.0                             2228.574099   \n",
       "1.0                        0.0                            0.0                  0.0                     0.0                   0.0                              600.534778   \n",
       "\n",
       "                                                                                                                                                      title_sentiment_polarity  \\\n",
       " data_channel_is_lifestyle  data_channel_is_entertainment  data_channel_is_bus  data_channel_is_socmed  data_channel_is_tech  data_channel_is_world                              \n",
       "0.0                        0.0                            0.0                  0.0                     0.0                   0.0                                    530.767501   \n",
       "                                                                                                                             1.0                                    253.324606   \n",
       "                                                                                                       1.0                   0.0                                    634.394684   \n",
       "                                                                               1.0                     0.0                   0.0                                    226.318255   \n",
       "                                                          1.0                  0.0                     0.0                   0.0                                    501.830520   \n",
       "                           1.0                            0.0                  0.0                     0.0                   0.0                                    456.005125   \n",
       "1.0                        0.0                            0.0                  0.0                     0.0                   0.0                                    228.949133   \n",
       "\n",
       "                                                                                                                                                      abs_title_subjectivity  \\\n",
       " data_channel_is_lifestyle  data_channel_is_entertainment  data_channel_is_bus  data_channel_is_socmed  data_channel_is_tech  data_channel_is_world                            \n",
       "0.0                        0.0                            0.0                  0.0                     0.0                   0.0                                 2034.879128   \n",
       "                                                                                                                             1.0                                 3043.439688   \n",
       "                                                                                                       1.0                   0.0                                 2532.078272   \n",
       "                                                                               1.0                     0.0                   0.0                                  814.612894   \n",
       "                                                          1.0                  0.0                     0.0                   0.0                                 2132.461961   \n",
       "                           1.0                            0.0                  0.0                     0.0                   0.0                                 2265.515804   \n",
       "1.0                        0.0                            0.0                  0.0                     0.0                   0.0                                  729.026470   \n",
       "\n",
       "                                                                                                                                                      abs_title_sentiment_polarity  \\\n",
       " data_channel_is_lifestyle  data_channel_is_entertainment  data_channel_is_bus  data_channel_is_socmed  data_channel_is_tech  data_channel_is_world                                  \n",
       "0.0                        0.0                            0.0                  0.0                     0.0                   0.0                                       1308.942167   \n",
       "                                                                                                                             1.0                                       1076.331479   \n",
       "                                                                                                       1.0                   0.0                                        999.326968   \n",
       "                                                                               1.0                     0.0                   0.0                                        355.833837   \n",
       "                                                          1.0                  0.0                     0.0                   0.0                                        870.374876   \n",
       "                           1.0                            0.0                  0.0                     0.0                   0.0                                       1212.510579   \n",
       "1.0                        0.0                            0.0                  0.0                     0.0                   0.0                                        363.667945   \n",
       "\n",
       "                                                                                                                                                       shares  \n",
       " data_channel_is_lifestyle  data_channel_is_entertainment  data_channel_is_bus  data_channel_is_socmed  data_channel_is_tech  data_channel_is_world            \n",
       "0.0                        0.0                            0.0                  0.0                     0.0                   0.0                     36467793  \n",
       "                                                                                                                             1.0                     19278735  \n",
       "                                                                                                       1.0                   0.0                     22568993  \n",
       "                                                                               1.0                     0.0                   0.0                      8431057  \n",
       "                                                          1.0                  0.0                     0.0                   0.0                     19168370  \n",
       "                           1.0                            0.0                  0.0                     0.0                   0.0                     20962727  \n",
       "1.0                        0.0                            0.0                  0.0                     0.0                   0.0                      7728777  \n",
       "\n",
       "[7 rows x 54 columns]"
      ]
     },
     "execution_count": 179,
     "metadata": {},
     "output_type": "execute_result"
    }
   ],
   "source": []
  },
  {
   "cell_type": "code",
   "execution_count": null,
   "metadata": {},
   "outputs": [],
   "source": []
  },
  {
   "cell_type": "code",
   "execution_count": 31,
   "metadata": {},
   "outputs": [],
   "source": [
    "df_3 = df.iloc[:100,19:28]"
   ]
  },
  {
   "cell_type": "code",
   "execution_count": 32,
   "metadata": {},
   "outputs": [
    {
     "data": {
      "text/html": [
       "<div>\n",
       "<style scoped>\n",
       "    .dataframe tbody tr th:only-of-type {\n",
       "        vertical-align: middle;\n",
       "    }\n",
       "\n",
       "    .dataframe tbody tr th {\n",
       "        vertical-align: top;\n",
       "    }\n",
       "\n",
       "    .dataframe thead th {\n",
       "        text-align: right;\n",
       "    }\n",
       "</style>\n",
       "<table border=\"1\" class=\"dataframe\">\n",
       "  <thead>\n",
       "    <tr style=\"text-align: right;\">\n",
       "      <th></th>\n",
       "      <th>kw_min_min</th>\n",
       "      <th>kw_max_min</th>\n",
       "      <th>kw_avg_min</th>\n",
       "      <th>kw_min_max</th>\n",
       "      <th>kw_max_max</th>\n",
       "      <th>kw_avg_max</th>\n",
       "      <th>kw_min_avg</th>\n",
       "      <th>kw_max_avg</th>\n",
       "      <th>kw_avg_avg</th>\n",
       "    </tr>\n",
       "  </thead>\n",
       "  <tbody>\n",
       "    <tr>\n",
       "      <td>0</td>\n",
       "      <td>0.0</td>\n",
       "      <td>0.0</td>\n",
       "      <td>0.000000</td>\n",
       "      <td>0.0</td>\n",
       "      <td>0.0</td>\n",
       "      <td>0.000000</td>\n",
       "      <td>0.0</td>\n",
       "      <td>0.000000</td>\n",
       "      <td>0.000000</td>\n",
       "    </tr>\n",
       "    <tr>\n",
       "      <td>1</td>\n",
       "      <td>0.0</td>\n",
       "      <td>0.0</td>\n",
       "      <td>0.000000</td>\n",
       "      <td>0.0</td>\n",
       "      <td>0.0</td>\n",
       "      <td>0.000000</td>\n",
       "      <td>0.0</td>\n",
       "      <td>0.000000</td>\n",
       "      <td>0.000000</td>\n",
       "    </tr>\n",
       "    <tr>\n",
       "      <td>2</td>\n",
       "      <td>0.0</td>\n",
       "      <td>0.0</td>\n",
       "      <td>0.000000</td>\n",
       "      <td>0.0</td>\n",
       "      <td>0.0</td>\n",
       "      <td>0.000000</td>\n",
       "      <td>0.0</td>\n",
       "      <td>0.000000</td>\n",
       "      <td>0.000000</td>\n",
       "    </tr>\n",
       "    <tr>\n",
       "      <td>3</td>\n",
       "      <td>0.0</td>\n",
       "      <td>0.0</td>\n",
       "      <td>0.000000</td>\n",
       "      <td>0.0</td>\n",
       "      <td>0.0</td>\n",
       "      <td>0.000000</td>\n",
       "      <td>0.0</td>\n",
       "      <td>0.000000</td>\n",
       "      <td>0.000000</td>\n",
       "    </tr>\n",
       "    <tr>\n",
       "      <td>4</td>\n",
       "      <td>0.0</td>\n",
       "      <td>0.0</td>\n",
       "      <td>0.000000</td>\n",
       "      <td>0.0</td>\n",
       "      <td>0.0</td>\n",
       "      <td>0.000000</td>\n",
       "      <td>0.0</td>\n",
       "      <td>0.000000</td>\n",
       "      <td>0.000000</td>\n",
       "    </tr>\n",
       "    <tr>\n",
       "      <td>...</td>\n",
       "      <td>...</td>\n",
       "      <td>...</td>\n",
       "      <td>...</td>\n",
       "      <td>...</td>\n",
       "      <td>...</td>\n",
       "      <td>...</td>\n",
       "      <td>...</td>\n",
       "      <td>...</td>\n",
       "      <td>...</td>\n",
       "    </tr>\n",
       "    <tr>\n",
       "      <td>95</td>\n",
       "      <td>217.0</td>\n",
       "      <td>598.0</td>\n",
       "      <td>469.333333</td>\n",
       "      <td>0.0</td>\n",
       "      <td>17100.0</td>\n",
       "      <td>4600.000000</td>\n",
       "      <td>0.0</td>\n",
       "      <td>1953.144444</td>\n",
       "      <td>848.688889</td>\n",
       "    </tr>\n",
       "    <tr>\n",
       "      <td>96</td>\n",
       "      <td>217.0</td>\n",
       "      <td>690.0</td>\n",
       "      <td>572.000000</td>\n",
       "      <td>0.0</td>\n",
       "      <td>17100.0</td>\n",
       "      <td>3110.000000</td>\n",
       "      <td>0.0</td>\n",
       "      <td>2322.500000</td>\n",
       "      <td>831.510494</td>\n",
       "    </tr>\n",
       "    <tr>\n",
       "      <td>97</td>\n",
       "      <td>217.0</td>\n",
       "      <td>462.0</td>\n",
       "      <td>279.125000</td>\n",
       "      <td>1300.0</td>\n",
       "      <td>17100.0</td>\n",
       "      <td>13950.000000</td>\n",
       "      <td>726.6</td>\n",
       "      <td>2339.520000</td>\n",
       "      <td>1777.330599</td>\n",
       "    </tr>\n",
       "    <tr>\n",
       "      <td>98</td>\n",
       "      <td>217.0</td>\n",
       "      <td>761.0</td>\n",
       "      <td>517.000000</td>\n",
       "      <td>0.0</td>\n",
       "      <td>17100.0</td>\n",
       "      <td>3932.625000</td>\n",
       "      <td>0.0</td>\n",
       "      <td>4151.000000</td>\n",
       "      <td>858.143056</td>\n",
       "    </tr>\n",
       "    <tr>\n",
       "      <td>99</td>\n",
       "      <td>217.0</td>\n",
       "      <td>1200.0</td>\n",
       "      <td>675.000000</td>\n",
       "      <td>0.0</td>\n",
       "      <td>17100.0</td>\n",
       "      <td>4055.555556</td>\n",
       "      <td>0.0</td>\n",
       "      <td>5428.571429</td>\n",
       "      <td>1084.446208</td>\n",
       "    </tr>\n",
       "  </tbody>\n",
       "</table>\n",
       "<p>100 rows × 9 columns</p>\n",
       "</div>"
      ],
      "text/plain": [
       "     kw_min_min   kw_max_min   kw_avg_min   kw_min_max   kw_max_max  \\\n",
       "0           0.0          0.0     0.000000          0.0          0.0   \n",
       "1           0.0          0.0     0.000000          0.0          0.0   \n",
       "2           0.0          0.0     0.000000          0.0          0.0   \n",
       "3           0.0          0.0     0.000000          0.0          0.0   \n",
       "4           0.0          0.0     0.000000          0.0          0.0   \n",
       "..          ...          ...          ...          ...          ...   \n",
       "95        217.0        598.0   469.333333          0.0      17100.0   \n",
       "96        217.0        690.0   572.000000          0.0      17100.0   \n",
       "97        217.0        462.0   279.125000       1300.0      17100.0   \n",
       "98        217.0        761.0   517.000000          0.0      17100.0   \n",
       "99        217.0       1200.0   675.000000          0.0      17100.0   \n",
       "\n",
       "      kw_avg_max   kw_min_avg   kw_max_avg   kw_avg_avg  \n",
       "0       0.000000          0.0     0.000000     0.000000  \n",
       "1       0.000000          0.0     0.000000     0.000000  \n",
       "2       0.000000          0.0     0.000000     0.000000  \n",
       "3       0.000000          0.0     0.000000     0.000000  \n",
       "4       0.000000          0.0     0.000000     0.000000  \n",
       "..           ...          ...          ...          ...  \n",
       "95   4600.000000          0.0  1953.144444   848.688889  \n",
       "96   3110.000000          0.0  2322.500000   831.510494  \n",
       "97  13950.000000        726.6  2339.520000  1777.330599  \n",
       "98   3932.625000          0.0  4151.000000   858.143056  \n",
       "99   4055.555556          0.0  5428.571429  1084.446208  \n",
       "\n",
       "[100 rows x 9 columns]"
      ]
     },
     "execution_count": 32,
     "metadata": {},
     "output_type": "execute_result"
    }
   ],
   "source": [
    "df_3"
   ]
  },
  {
   "cell_type": "code",
   "execution_count": 33,
   "metadata": {},
   "outputs": [
    {
     "data": {
      "text/plain": [
       "Index([' kw_min_min', ' kw_max_min', ' kw_avg_min', ' kw_min_max',\n",
       "       ' kw_max_max', ' kw_avg_max', ' kw_min_avg', ' kw_max_avg',\n",
       "       ' kw_avg_avg'],\n",
       "      dtype='object')"
      ]
     },
     "execution_count": 33,
     "metadata": {},
     "output_type": "execute_result"
    }
   ],
   "source": [
    "df_3.columns"
   ]
  },
  {
   "cell_type": "code",
   "execution_count": null,
   "metadata": {},
   "outputs": [],
   "source": []
  },
  {
   "cell_type": "code",
   "execution_count": null,
   "metadata": {},
   "outputs": [],
   "source": []
  },
  {
   "cell_type": "code",
   "execution_count": 34,
   "metadata": {},
   "outputs": [
    {
     "data": {
      "text/html": [
       "<div>\n",
       "<style scoped>\n",
       "    .dataframe tbody tr th:only-of-type {\n",
       "        vertical-align: middle;\n",
       "    }\n",
       "\n",
       "    .dataframe tbody tr th {\n",
       "        vertical-align: top;\n",
       "    }\n",
       "\n",
       "    .dataframe thead th {\n",
       "        text-align: right;\n",
       "    }\n",
       "</style>\n",
       "<table border=\"1\" class=\"dataframe\">\n",
       "  <thead>\n",
       "    <tr style=\"text-align: right;\">\n",
       "      <th></th>\n",
       "      <th></th>\n",
       "      <th></th>\n",
       "      <th></th>\n",
       "      <th></th>\n",
       "      <th></th>\n",
       "      <th></th>\n",
       "      <th></th>\n",
       "      <th>url</th>\n",
       "      <th>timedelta</th>\n",
       "      <th>n_tokens_title</th>\n",
       "      <th>n_tokens_content</th>\n",
       "      <th>n_unique_tokens</th>\n",
       "      <th>n_non_stop_words</th>\n",
       "      <th>n_non_stop_unique_tokens</th>\n",
       "      <th>num_hrefs</th>\n",
       "      <th>num_self_hrefs</th>\n",
       "      <th>num_imgs</th>\n",
       "      <th>...</th>\n",
       "      <th>min_positive_polarity</th>\n",
       "      <th>max_positive_polarity</th>\n",
       "      <th>avg_negative_polarity</th>\n",
       "      <th>min_negative_polarity</th>\n",
       "      <th>max_negative_polarity</th>\n",
       "      <th>title_subjectivity</th>\n",
       "      <th>title_sentiment_polarity</th>\n",
       "      <th>abs_title_subjectivity</th>\n",
       "      <th>abs_title_sentiment_polarity</th>\n",
       "      <th>shares</th>\n",
       "    </tr>\n",
       "    <tr>\n",
       "      <th>weekday_is_monday</th>\n",
       "      <th>weekday_is_tuesday</th>\n",
       "      <th>weekday_is_wednesday</th>\n",
       "      <th>weekday_is_thursday</th>\n",
       "      <th>weekday_is_friday</th>\n",
       "      <th>weekday_is_saturday</th>\n",
       "      <th>weekday_is_sunday</th>\n",
       "      <th>is_weekend</th>\n",
       "      <th></th>\n",
       "      <th></th>\n",
       "      <th></th>\n",
       "      <th></th>\n",
       "      <th></th>\n",
       "      <th></th>\n",
       "      <th></th>\n",
       "      <th></th>\n",
       "      <th></th>\n",
       "      <th></th>\n",
       "      <th></th>\n",
       "      <th></th>\n",
       "      <th></th>\n",
       "      <th></th>\n",
       "      <th></th>\n",
       "      <th></th>\n",
       "      <th></th>\n",
       "      <th></th>\n",
       "      <th></th>\n",
       "      <th></th>\n",
       "      <th></th>\n",
       "    </tr>\n",
       "  </thead>\n",
       "  <tbody>\n",
       "    <tr>\n",
       "      <td rowspan=\"6\" valign=\"top\">0.0</td>\n",
       "      <td rowspan=\"5\" valign=\"top\">0.0</td>\n",
       "      <td rowspan=\"4\" valign=\"top\">0.0</td>\n",
       "      <td rowspan=\"3\" valign=\"top\">0.0</td>\n",
       "      <td rowspan=\"2\" valign=\"top\">0.0</td>\n",
       "      <td>0.0</td>\n",
       "      <td>1.0</td>\n",
       "      <td>1.0</td>\n",
       "      <td>2737</td>\n",
       "      <td>2737</td>\n",
       "      <td>2737</td>\n",
       "      <td>2737</td>\n",
       "      <td>2737</td>\n",
       "      <td>2737</td>\n",
       "      <td>2737</td>\n",
       "      <td>2737</td>\n",
       "      <td>2737</td>\n",
       "      <td>2737</td>\n",
       "      <td>...</td>\n",
       "      <td>2737</td>\n",
       "      <td>2737</td>\n",
       "      <td>2737</td>\n",
       "      <td>2737</td>\n",
       "      <td>2737</td>\n",
       "      <td>2737</td>\n",
       "      <td>2737</td>\n",
       "      <td>2737</td>\n",
       "      <td>2737</td>\n",
       "      <td>2737</td>\n",
       "    </tr>\n",
       "    <tr>\n",
       "      <td>1.0</td>\n",
       "      <td>0.0</td>\n",
       "      <td>1.0</td>\n",
       "      <td>2453</td>\n",
       "      <td>2453</td>\n",
       "      <td>2453</td>\n",
       "      <td>2453</td>\n",
       "      <td>2453</td>\n",
       "      <td>2453</td>\n",
       "      <td>2453</td>\n",
       "      <td>2453</td>\n",
       "      <td>2453</td>\n",
       "      <td>2453</td>\n",
       "      <td>...</td>\n",
       "      <td>2453</td>\n",
       "      <td>2453</td>\n",
       "      <td>2453</td>\n",
       "      <td>2453</td>\n",
       "      <td>2453</td>\n",
       "      <td>2453</td>\n",
       "      <td>2453</td>\n",
       "      <td>2453</td>\n",
       "      <td>2453</td>\n",
       "      <td>2453</td>\n",
       "    </tr>\n",
       "    <tr>\n",
       "      <td>1.0</td>\n",
       "      <td>0.0</td>\n",
       "      <td>0.0</td>\n",
       "      <td>0.0</td>\n",
       "      <td>5701</td>\n",
       "      <td>5701</td>\n",
       "      <td>5701</td>\n",
       "      <td>5701</td>\n",
       "      <td>5701</td>\n",
       "      <td>5701</td>\n",
       "      <td>5701</td>\n",
       "      <td>5701</td>\n",
       "      <td>5701</td>\n",
       "      <td>5701</td>\n",
       "      <td>...</td>\n",
       "      <td>5701</td>\n",
       "      <td>5701</td>\n",
       "      <td>5701</td>\n",
       "      <td>5701</td>\n",
       "      <td>5701</td>\n",
       "      <td>5701</td>\n",
       "      <td>5701</td>\n",
       "      <td>5701</td>\n",
       "      <td>5701</td>\n",
       "      <td>5701</td>\n",
       "    </tr>\n",
       "    <tr>\n",
       "      <td>1.0</td>\n",
       "      <td>0.0</td>\n",
       "      <td>0.0</td>\n",
       "      <td>0.0</td>\n",
       "      <td>0.0</td>\n",
       "      <td>7267</td>\n",
       "      <td>7267</td>\n",
       "      <td>7267</td>\n",
       "      <td>7267</td>\n",
       "      <td>7267</td>\n",
       "      <td>7267</td>\n",
       "      <td>7267</td>\n",
       "      <td>7267</td>\n",
       "      <td>7267</td>\n",
       "      <td>7267</td>\n",
       "      <td>...</td>\n",
       "      <td>7267</td>\n",
       "      <td>7267</td>\n",
       "      <td>7267</td>\n",
       "      <td>7267</td>\n",
       "      <td>7267</td>\n",
       "      <td>7267</td>\n",
       "      <td>7267</td>\n",
       "      <td>7267</td>\n",
       "      <td>7267</td>\n",
       "      <td>7267</td>\n",
       "    </tr>\n",
       "    <tr>\n",
       "      <td>1.0</td>\n",
       "      <td>0.0</td>\n",
       "      <td>0.0</td>\n",
       "      <td>0.0</td>\n",
       "      <td>0.0</td>\n",
       "      <td>0.0</td>\n",
       "      <td>7435</td>\n",
       "      <td>7435</td>\n",
       "      <td>7435</td>\n",
       "      <td>7435</td>\n",
       "      <td>7435</td>\n",
       "      <td>7435</td>\n",
       "      <td>7435</td>\n",
       "      <td>7435</td>\n",
       "      <td>7435</td>\n",
       "      <td>7435</td>\n",
       "      <td>...</td>\n",
       "      <td>7435</td>\n",
       "      <td>7435</td>\n",
       "      <td>7435</td>\n",
       "      <td>7435</td>\n",
       "      <td>7435</td>\n",
       "      <td>7435</td>\n",
       "      <td>7435</td>\n",
       "      <td>7435</td>\n",
       "      <td>7435</td>\n",
       "      <td>7435</td>\n",
       "    </tr>\n",
       "    <tr>\n",
       "      <td>1.0</td>\n",
       "      <td>0.0</td>\n",
       "      <td>0.0</td>\n",
       "      <td>0.0</td>\n",
       "      <td>0.0</td>\n",
       "      <td>0.0</td>\n",
       "      <td>0.0</td>\n",
       "      <td>7390</td>\n",
       "      <td>7390</td>\n",
       "      <td>7390</td>\n",
       "      <td>7390</td>\n",
       "      <td>7390</td>\n",
       "      <td>7390</td>\n",
       "      <td>7390</td>\n",
       "      <td>7390</td>\n",
       "      <td>7390</td>\n",
       "      <td>7390</td>\n",
       "      <td>...</td>\n",
       "      <td>7390</td>\n",
       "      <td>7390</td>\n",
       "      <td>7390</td>\n",
       "      <td>7390</td>\n",
       "      <td>7390</td>\n",
       "      <td>7390</td>\n",
       "      <td>7390</td>\n",
       "      <td>7390</td>\n",
       "      <td>7390</td>\n",
       "      <td>7390</td>\n",
       "    </tr>\n",
       "    <tr>\n",
       "      <td>1.0</td>\n",
       "      <td>0.0</td>\n",
       "      <td>0.0</td>\n",
       "      <td>0.0</td>\n",
       "      <td>0.0</td>\n",
       "      <td>0.0</td>\n",
       "      <td>0.0</td>\n",
       "      <td>0.0</td>\n",
       "      <td>6661</td>\n",
       "      <td>6661</td>\n",
       "      <td>6661</td>\n",
       "      <td>6661</td>\n",
       "      <td>6661</td>\n",
       "      <td>6661</td>\n",
       "      <td>6661</td>\n",
       "      <td>6661</td>\n",
       "      <td>6661</td>\n",
       "      <td>6661</td>\n",
       "      <td>...</td>\n",
       "      <td>6661</td>\n",
       "      <td>6661</td>\n",
       "      <td>6661</td>\n",
       "      <td>6661</td>\n",
       "      <td>6661</td>\n",
       "      <td>6661</td>\n",
       "      <td>6661</td>\n",
       "      <td>6661</td>\n",
       "      <td>6661</td>\n",
       "      <td>6661</td>\n",
       "    </tr>\n",
       "  </tbody>\n",
       "</table>\n",
       "<p>7 rows × 53 columns</p>\n",
       "</div>"
      ],
      "text/plain": [
       "                                                                                                                                                           url  \\\n",
       " weekday_is_monday  weekday_is_tuesday  weekday_is_wednesday  weekday_is_thursday  weekday_is_friday  weekday_is_saturday  weekday_is_sunday  is_weekend         \n",
       "0.0                0.0                 0.0                   0.0                  0.0                0.0                  1.0                1.0          2737   \n",
       "                                                                                                     1.0                  0.0                1.0          2453   \n",
       "                                                                                  1.0                0.0                  0.0                0.0          5701   \n",
       "                                                             1.0                  0.0                0.0                  0.0                0.0          7267   \n",
       "                                       1.0                   0.0                  0.0                0.0                  0.0                0.0          7435   \n",
       "                   1.0                 0.0                   0.0                  0.0                0.0                  0.0                0.0          7390   \n",
       "1.0                0.0                 0.0                   0.0                  0.0                0.0                  0.0                0.0          6661   \n",
       "\n",
       "                                                                                                                                                           timedelta  \\\n",
       " weekday_is_monday  weekday_is_tuesday  weekday_is_wednesday  weekday_is_thursday  weekday_is_friday  weekday_is_saturday  weekday_is_sunday  is_weekend               \n",
       "0.0                0.0                 0.0                   0.0                  0.0                0.0                  1.0                1.0                2737   \n",
       "                                                                                                     1.0                  0.0                1.0                2453   \n",
       "                                                                                  1.0                0.0                  0.0                0.0                5701   \n",
       "                                                             1.0                  0.0                0.0                  0.0                0.0                7267   \n",
       "                                       1.0                   0.0                  0.0                0.0                  0.0                0.0                7435   \n",
       "                   1.0                 0.0                   0.0                  0.0                0.0                  0.0                0.0                7390   \n",
       "1.0                0.0                 0.0                   0.0                  0.0                0.0                  0.0                0.0                6661   \n",
       "\n",
       "                                                                                                                                                           n_tokens_title  \\\n",
       " weekday_is_monday  weekday_is_tuesday  weekday_is_wednesday  weekday_is_thursday  weekday_is_friday  weekday_is_saturday  weekday_is_sunday  is_weekend                    \n",
       "0.0                0.0                 0.0                   0.0                  0.0                0.0                  1.0                1.0                     2737   \n",
       "                                                                                                     1.0                  0.0                1.0                     2453   \n",
       "                                                                                  1.0                0.0                  0.0                0.0                     5701   \n",
       "                                                             1.0                  0.0                0.0                  0.0                0.0                     7267   \n",
       "                                       1.0                   0.0                  0.0                0.0                  0.0                0.0                     7435   \n",
       "                   1.0                 0.0                   0.0                  0.0                0.0                  0.0                0.0                     7390   \n",
       "1.0                0.0                 0.0                   0.0                  0.0                0.0                  0.0                0.0                     6661   \n",
       "\n",
       "                                                                                                                                                           n_tokens_content  \\\n",
       " weekday_is_monday  weekday_is_tuesday  weekday_is_wednesday  weekday_is_thursday  weekday_is_friday  weekday_is_saturday  weekday_is_sunday  is_weekend                      \n",
       "0.0                0.0                 0.0                   0.0                  0.0                0.0                  1.0                1.0                       2737   \n",
       "                                                                                                     1.0                  0.0                1.0                       2453   \n",
       "                                                                                  1.0                0.0                  0.0                0.0                       5701   \n",
       "                                                             1.0                  0.0                0.0                  0.0                0.0                       7267   \n",
       "                                       1.0                   0.0                  0.0                0.0                  0.0                0.0                       7435   \n",
       "                   1.0                 0.0                   0.0                  0.0                0.0                  0.0                0.0                       7390   \n",
       "1.0                0.0                 0.0                   0.0                  0.0                0.0                  0.0                0.0                       6661   \n",
       "\n",
       "                                                                                                                                                           n_unique_tokens  \\\n",
       " weekday_is_monday  weekday_is_tuesday  weekday_is_wednesday  weekday_is_thursday  weekday_is_friday  weekday_is_saturday  weekday_is_sunday  is_weekend                     \n",
       "0.0                0.0                 0.0                   0.0                  0.0                0.0                  1.0                1.0                      2737   \n",
       "                                                                                                     1.0                  0.0                1.0                      2453   \n",
       "                                                                                  1.0                0.0                  0.0                0.0                      5701   \n",
       "                                                             1.0                  0.0                0.0                  0.0                0.0                      7267   \n",
       "                                       1.0                   0.0                  0.0                0.0                  0.0                0.0                      7435   \n",
       "                   1.0                 0.0                   0.0                  0.0                0.0                  0.0                0.0                      7390   \n",
       "1.0                0.0                 0.0                   0.0                  0.0                0.0                  0.0                0.0                      6661   \n",
       "\n",
       "                                                                                                                                                           n_non_stop_words  \\\n",
       " weekday_is_monday  weekday_is_tuesday  weekday_is_wednesday  weekday_is_thursday  weekday_is_friday  weekday_is_saturday  weekday_is_sunday  is_weekend                      \n",
       "0.0                0.0                 0.0                   0.0                  0.0                0.0                  1.0                1.0                       2737   \n",
       "                                                                                                     1.0                  0.0                1.0                       2453   \n",
       "                                                                                  1.0                0.0                  0.0                0.0                       5701   \n",
       "                                                             1.0                  0.0                0.0                  0.0                0.0                       7267   \n",
       "                                       1.0                   0.0                  0.0                0.0                  0.0                0.0                       7435   \n",
       "                   1.0                 0.0                   0.0                  0.0                0.0                  0.0                0.0                       7390   \n",
       "1.0                0.0                 0.0                   0.0                  0.0                0.0                  0.0                0.0                       6661   \n",
       "\n",
       "                                                                                                                                                           n_non_stop_unique_tokens  \\\n",
       " weekday_is_monday  weekday_is_tuesday  weekday_is_wednesday  weekday_is_thursday  weekday_is_friday  weekday_is_saturday  weekday_is_sunday  is_weekend                              \n",
       "0.0                0.0                 0.0                   0.0                  0.0                0.0                  1.0                1.0                               2737   \n",
       "                                                                                                     1.0                  0.0                1.0                               2453   \n",
       "                                                                                  1.0                0.0                  0.0                0.0                               5701   \n",
       "                                                             1.0                  0.0                0.0                  0.0                0.0                               7267   \n",
       "                                       1.0                   0.0                  0.0                0.0                  0.0                0.0                               7435   \n",
       "                   1.0                 0.0                   0.0                  0.0                0.0                  0.0                0.0                               7390   \n",
       "1.0                0.0                 0.0                   0.0                  0.0                0.0                  0.0                0.0                               6661   \n",
       "\n",
       "                                                                                                                                                           num_hrefs  \\\n",
       " weekday_is_monday  weekday_is_tuesday  weekday_is_wednesday  weekday_is_thursday  weekday_is_friday  weekday_is_saturday  weekday_is_sunday  is_weekend               \n",
       "0.0                0.0                 0.0                   0.0                  0.0                0.0                  1.0                1.0                2737   \n",
       "                                                                                                     1.0                  0.0                1.0                2453   \n",
       "                                                                                  1.0                0.0                  0.0                0.0                5701   \n",
       "                                                             1.0                  0.0                0.0                  0.0                0.0                7267   \n",
       "                                       1.0                   0.0                  0.0                0.0                  0.0                0.0                7435   \n",
       "                   1.0                 0.0                   0.0                  0.0                0.0                  0.0                0.0                7390   \n",
       "1.0                0.0                 0.0                   0.0                  0.0                0.0                  0.0                0.0                6661   \n",
       "\n",
       "                                                                                                                                                           num_self_hrefs  \\\n",
       " weekday_is_monday  weekday_is_tuesday  weekday_is_wednesday  weekday_is_thursday  weekday_is_friday  weekday_is_saturday  weekday_is_sunday  is_weekend                    \n",
       "0.0                0.0                 0.0                   0.0                  0.0                0.0                  1.0                1.0                     2737   \n",
       "                                                                                                     1.0                  0.0                1.0                     2453   \n",
       "                                                                                  1.0                0.0                  0.0                0.0                     5701   \n",
       "                                                             1.0                  0.0                0.0                  0.0                0.0                     7267   \n",
       "                                       1.0                   0.0                  0.0                0.0                  0.0                0.0                     7435   \n",
       "                   1.0                 0.0                   0.0                  0.0                0.0                  0.0                0.0                     7390   \n",
       "1.0                0.0                 0.0                   0.0                  0.0                0.0                  0.0                0.0                     6661   \n",
       "\n",
       "                                                                                                                                                           num_imgs  \\\n",
       " weekday_is_monday  weekday_is_tuesday  weekday_is_wednesday  weekday_is_thursday  weekday_is_friday  weekday_is_saturday  weekday_is_sunday  is_weekend              \n",
       "0.0                0.0                 0.0                   0.0                  0.0                0.0                  1.0                1.0               2737   \n",
       "                                                                                                     1.0                  0.0                1.0               2453   \n",
       "                                                                                  1.0                0.0                  0.0                0.0               5701   \n",
       "                                                             1.0                  0.0                0.0                  0.0                0.0               7267   \n",
       "                                       1.0                   0.0                  0.0                0.0                  0.0                0.0               7435   \n",
       "                   1.0                 0.0                   0.0                  0.0                0.0                  0.0                0.0               7390   \n",
       "1.0                0.0                 0.0                   0.0                  0.0                0.0                  0.0                0.0               6661   \n",
       "\n",
       "                                                                                                                                                          ...  \\\n",
       " weekday_is_monday  weekday_is_tuesday  weekday_is_wednesday  weekday_is_thursday  weekday_is_friday  weekday_is_saturday  weekday_is_sunday  is_weekend  ...   \n",
       "0.0                0.0                 0.0                   0.0                  0.0                0.0                  1.0                1.0          ...   \n",
       "                                                                                                     1.0                  0.0                1.0          ...   \n",
       "                                                                                  1.0                0.0                  0.0                0.0          ...   \n",
       "                                                             1.0                  0.0                0.0                  0.0                0.0          ...   \n",
       "                                       1.0                   0.0                  0.0                0.0                  0.0                0.0          ...   \n",
       "                   1.0                 0.0                   0.0                  0.0                0.0                  0.0                0.0          ...   \n",
       "1.0                0.0                 0.0                   0.0                  0.0                0.0                  0.0                0.0          ...   \n",
       "\n",
       "                                                                                                                                                           min_positive_polarity  \\\n",
       " weekday_is_monday  weekday_is_tuesday  weekday_is_wednesday  weekday_is_thursday  weekday_is_friday  weekday_is_saturday  weekday_is_sunday  is_weekend                           \n",
       "0.0                0.0                 0.0                   0.0                  0.0                0.0                  1.0                1.0                            2737   \n",
       "                                                                                                     1.0                  0.0                1.0                            2453   \n",
       "                                                                                  1.0                0.0                  0.0                0.0                            5701   \n",
       "                                                             1.0                  0.0                0.0                  0.0                0.0                            7267   \n",
       "                                       1.0                   0.0                  0.0                0.0                  0.0                0.0                            7435   \n",
       "                   1.0                 0.0                   0.0                  0.0                0.0                  0.0                0.0                            7390   \n",
       "1.0                0.0                 0.0                   0.0                  0.0                0.0                  0.0                0.0                            6661   \n",
       "\n",
       "                                                                                                                                                           max_positive_polarity  \\\n",
       " weekday_is_monday  weekday_is_tuesday  weekday_is_wednesday  weekday_is_thursday  weekday_is_friday  weekday_is_saturday  weekday_is_sunday  is_weekend                           \n",
       "0.0                0.0                 0.0                   0.0                  0.0                0.0                  1.0                1.0                            2737   \n",
       "                                                                                                     1.0                  0.0                1.0                            2453   \n",
       "                                                                                  1.0                0.0                  0.0                0.0                            5701   \n",
       "                                                             1.0                  0.0                0.0                  0.0                0.0                            7267   \n",
       "                                       1.0                   0.0                  0.0                0.0                  0.0                0.0                            7435   \n",
       "                   1.0                 0.0                   0.0                  0.0                0.0                  0.0                0.0                            7390   \n",
       "1.0                0.0                 0.0                   0.0                  0.0                0.0                  0.0                0.0                            6661   \n",
       "\n",
       "                                                                                                                                                           avg_negative_polarity  \\\n",
       " weekday_is_monday  weekday_is_tuesday  weekday_is_wednesday  weekday_is_thursday  weekday_is_friday  weekday_is_saturday  weekday_is_sunday  is_weekend                           \n",
       "0.0                0.0                 0.0                   0.0                  0.0                0.0                  1.0                1.0                            2737   \n",
       "                                                                                                     1.0                  0.0                1.0                            2453   \n",
       "                                                                                  1.0                0.0                  0.0                0.0                            5701   \n",
       "                                                             1.0                  0.0                0.0                  0.0                0.0                            7267   \n",
       "                                       1.0                   0.0                  0.0                0.0                  0.0                0.0                            7435   \n",
       "                   1.0                 0.0                   0.0                  0.0                0.0                  0.0                0.0                            7390   \n",
       "1.0                0.0                 0.0                   0.0                  0.0                0.0                  0.0                0.0                            6661   \n",
       "\n",
       "                                                                                                                                                           min_negative_polarity  \\\n",
       " weekday_is_monday  weekday_is_tuesday  weekday_is_wednesday  weekday_is_thursday  weekday_is_friday  weekday_is_saturday  weekday_is_sunday  is_weekend                           \n",
       "0.0                0.0                 0.0                   0.0                  0.0                0.0                  1.0                1.0                            2737   \n",
       "                                                                                                     1.0                  0.0                1.0                            2453   \n",
       "                                                                                  1.0                0.0                  0.0                0.0                            5701   \n",
       "                                                             1.0                  0.0                0.0                  0.0                0.0                            7267   \n",
       "                                       1.0                   0.0                  0.0                0.0                  0.0                0.0                            7435   \n",
       "                   1.0                 0.0                   0.0                  0.0                0.0                  0.0                0.0                            7390   \n",
       "1.0                0.0                 0.0                   0.0                  0.0                0.0                  0.0                0.0                            6661   \n",
       "\n",
       "                                                                                                                                                           max_negative_polarity  \\\n",
       " weekday_is_monday  weekday_is_tuesday  weekday_is_wednesday  weekday_is_thursday  weekday_is_friday  weekday_is_saturday  weekday_is_sunday  is_weekend                           \n",
       "0.0                0.0                 0.0                   0.0                  0.0                0.0                  1.0                1.0                            2737   \n",
       "                                                                                                     1.0                  0.0                1.0                            2453   \n",
       "                                                                                  1.0                0.0                  0.0                0.0                            5701   \n",
       "                                                             1.0                  0.0                0.0                  0.0                0.0                            7267   \n",
       "                                       1.0                   0.0                  0.0                0.0                  0.0                0.0                            7435   \n",
       "                   1.0                 0.0                   0.0                  0.0                0.0                  0.0                0.0                            7390   \n",
       "1.0                0.0                 0.0                   0.0                  0.0                0.0                  0.0                0.0                            6661   \n",
       "\n",
       "                                                                                                                                                           title_subjectivity  \\\n",
       " weekday_is_monday  weekday_is_tuesday  weekday_is_wednesday  weekday_is_thursday  weekday_is_friday  weekday_is_saturday  weekday_is_sunday  is_weekend                        \n",
       "0.0                0.0                 0.0                   0.0                  0.0                0.0                  1.0                1.0                         2737   \n",
       "                                                                                                     1.0                  0.0                1.0                         2453   \n",
       "                                                                                  1.0                0.0                  0.0                0.0                         5701   \n",
       "                                                             1.0                  0.0                0.0                  0.0                0.0                         7267   \n",
       "                                       1.0                   0.0                  0.0                0.0                  0.0                0.0                         7435   \n",
       "                   1.0                 0.0                   0.0                  0.0                0.0                  0.0                0.0                         7390   \n",
       "1.0                0.0                 0.0                   0.0                  0.0                0.0                  0.0                0.0                         6661   \n",
       "\n",
       "                                                                                                                                                           title_sentiment_polarity  \\\n",
       " weekday_is_monday  weekday_is_tuesday  weekday_is_wednesday  weekday_is_thursday  weekday_is_friday  weekday_is_saturday  weekday_is_sunday  is_weekend                              \n",
       "0.0                0.0                 0.0                   0.0                  0.0                0.0                  1.0                1.0                               2737   \n",
       "                                                                                                     1.0                  0.0                1.0                               2453   \n",
       "                                                                                  1.0                0.0                  0.0                0.0                               5701   \n",
       "                                                             1.0                  0.0                0.0                  0.0                0.0                               7267   \n",
       "                                       1.0                   0.0                  0.0                0.0                  0.0                0.0                               7435   \n",
       "                   1.0                 0.0                   0.0                  0.0                0.0                  0.0                0.0                               7390   \n",
       "1.0                0.0                 0.0                   0.0                  0.0                0.0                  0.0                0.0                               6661   \n",
       "\n",
       "                                                                                                                                                           abs_title_subjectivity  \\\n",
       " weekday_is_monday  weekday_is_tuesday  weekday_is_wednesday  weekday_is_thursday  weekday_is_friday  weekday_is_saturday  weekday_is_sunday  is_weekend                            \n",
       "0.0                0.0                 0.0                   0.0                  0.0                0.0                  1.0                1.0                             2737   \n",
       "                                                                                                     1.0                  0.0                1.0                             2453   \n",
       "                                                                                  1.0                0.0                  0.0                0.0                             5701   \n",
       "                                                             1.0                  0.0                0.0                  0.0                0.0                             7267   \n",
       "                                       1.0                   0.0                  0.0                0.0                  0.0                0.0                             7435   \n",
       "                   1.0                 0.0                   0.0                  0.0                0.0                  0.0                0.0                             7390   \n",
       "1.0                0.0                 0.0                   0.0                  0.0                0.0                  0.0                0.0                             6661   \n",
       "\n",
       "                                                                                                                                                           abs_title_sentiment_polarity  \\\n",
       " weekday_is_monday  weekday_is_tuesday  weekday_is_wednesday  weekday_is_thursday  weekday_is_friday  weekday_is_saturday  weekday_is_sunday  is_weekend                                  \n",
       "0.0                0.0                 0.0                   0.0                  0.0                0.0                  1.0                1.0                                   2737   \n",
       "                                                                                                     1.0                  0.0                1.0                                   2453   \n",
       "                                                                                  1.0                0.0                  0.0                0.0                                   5701   \n",
       "                                                             1.0                  0.0                0.0                  0.0                0.0                                   7267   \n",
       "                                       1.0                   0.0                  0.0                0.0                  0.0                0.0                                   7435   \n",
       "                   1.0                 0.0                   0.0                  0.0                0.0                  0.0                0.0                                   7390   \n",
       "1.0                0.0                 0.0                   0.0                  0.0                0.0                  0.0                0.0                                   6661   \n",
       "\n",
       "                                                                                                                                                           shares  \n",
       " weekday_is_monday  weekday_is_tuesday  weekday_is_wednesday  weekday_is_thursday  weekday_is_friday  weekday_is_saturday  weekday_is_sunday  is_weekend           \n",
       "0.0                0.0                 0.0                   0.0                  0.0                0.0                  1.0                1.0             2737  \n",
       "                                                                                                     1.0                  0.0                1.0             2453  \n",
       "                                                                                  1.0                0.0                  0.0                0.0             5701  \n",
       "                                                             1.0                  0.0                0.0                  0.0                0.0             7267  \n",
       "                                       1.0                   0.0                  0.0                0.0                  0.0                0.0             7435  \n",
       "                   1.0                 0.0                   0.0                  0.0                0.0                  0.0                0.0             7390  \n",
       "1.0                0.0                 0.0                   0.0                  0.0                0.0                  0.0                0.0             6661  \n",
       "\n",
       "[7 rows x 53 columns]"
      ]
     },
     "execution_count": 34,
     "metadata": {},
     "output_type": "execute_result"
    }
   ],
   "source": [
    "df.groupby([' weekday_is_monday', ' weekday_is_tuesday', ' weekday_is_wednesday',\n",
    "       ' weekday_is_thursday', ' weekday_is_friday', ' weekday_is_saturday',\n",
    "       ' weekday_is_sunday', ' is_weekend']).count()"
   ]
  },
  {
   "cell_type": "code",
   "execution_count": null,
   "metadata": {},
   "outputs": [],
   "source": []
  },
  {
   "cell_type": "code",
   "execution_count": null,
   "metadata": {},
   "outputs": [],
   "source": []
  },
  {
   "cell_type": "code",
   "execution_count": 35,
   "metadata": {},
   "outputs": [
    {
     "data": {
      "image/png": "[encoded data removed]",
      "text/plain": [
       "<Figure size 1800x1800 with 20 Axes>"
      ]
     },
     "metadata": {
      "needs_background": "light"
     },
     "output_type": "display_data"
    }
   ],
   "source": [
    "df.iloc[:,[2,3,7,8,9,10,11,12,44,45,46,47,48,49,50,53,55]].hist(figsize=(25,25),bins=50);"
   ]
  },
  {
   "cell_type": "code",
   "execution_count": 36,
   "metadata": {},
   "outputs": [],
   "source": [
    "# pd.plotting.scatter_matrix(df, figsize = (10,10), alpha=0.2)"
   ]
  },
  {
   "cell_type": "code",
   "execution_count": 37,
   "metadata": {},
   "outputs": [
    {
     "data": {
      "image/png": "[encoded data removed]",
      "text/plain": [
       "<Figure size 900x900 with 30 Axes>"
      ]
     },
     "metadata": {
      "needs_background": "light"
     },
     "output_type": "display_data"
    }
   ],
   "source": [
    "g = sns.pairplot(df.iloc[:500,[3,7,8,9,10]])"
   ]
  },
  {
   "cell_type": "code",
   "execution_count": 38,
   "metadata": {},
   "outputs": [],
   "source": [
    "X = df.iloc[:,1:-1].values\n",
    "y = df.iloc[:,-1].values"
   ]
  },
  {
   "cell_type": "code",
   "execution_count": 39,
   "metadata": {},
   "outputs": [
    {
     "data": {
      "text/plain": [
       "(39644, 59)"
      ]
     },
     "execution_count": 39,
     "metadata": {},
     "output_type": "execute_result"
    }
   ],
   "source": [
    "X.shape"
   ]
  },
  {
   "cell_type": "code",
   "execution_count": 40,
   "metadata": {},
   "outputs": [
    {
     "data": {
      "text/plain": [
       "(39644,)"
      ]
     },
     "execution_count": 40,
     "metadata": {},
     "output_type": "execute_result"
    }
   ],
   "source": [
    "y.shape"
   ]
  },
  {
   "cell_type": "code",
   "execution_count": 144,
   "metadata": {},
   "outputs": [
    {
     "data": {
      "text/html": [
       "<div>\n",
       "<style scoped>\n",
       "    .dataframe tbody tr th:only-of-type {\n",
       "        vertical-align: middle;\n",
       "    }\n",
       "\n",
       "    .dataframe tbody tr th {\n",
       "        vertical-align: top;\n",
       "    }\n",
       "\n",
       "    .dataframe thead th {\n",
       "        text-align: right;\n",
       "    }\n",
       "</style>\n",
       "<table border=\"1\" class=\"dataframe\">\n",
       "  <thead>\n",
       "    <tr style=\"text-align: right;\">\n",
       "      <th></th>\n",
       "      <th>url</th>\n",
       "      <th>timedelta</th>\n",
       "      <th>n_tokens_title</th>\n",
       "      <th>n_tokens_content</th>\n",
       "      <th>n_unique_tokens</th>\n",
       "      <th>n_non_stop_words</th>\n",
       "      <th>n_non_stop_unique_tokens</th>\n",
       "      <th>num_hrefs</th>\n",
       "      <th>num_self_hrefs</th>\n",
       "      <th>num_imgs</th>\n",
       "      <th>...</th>\n",
       "      <th>min_positive_polarity</th>\n",
       "      <th>max_positive_polarity</th>\n",
       "      <th>avg_negative_polarity</th>\n",
       "      <th>min_negative_polarity</th>\n",
       "      <th>max_negative_polarity</th>\n",
       "      <th>title_subjectivity</th>\n",
       "      <th>title_sentiment_polarity</th>\n",
       "      <th>abs_title_subjectivity</th>\n",
       "      <th>abs_title_sentiment_polarity</th>\n",
       "      <th>shares</th>\n",
       "    </tr>\n",
       "  </thead>\n",
       "  <tbody>\n",
       "    <tr>\n",
       "      <td>0</td>\n",
       "      <td>http://mashable.com/2013/01/07/amazon-instant-...</td>\n",
       "      <td>731.0</td>\n",
       "      <td>12.0</td>\n",
       "      <td>219.0</td>\n",
       "      <td>0.663594</td>\n",
       "      <td>1.0</td>\n",
       "      <td>0.815385</td>\n",
       "      <td>4.0</td>\n",
       "      <td>2.0</td>\n",
       "      <td>1.0</td>\n",
       "      <td>...</td>\n",
       "      <td>0.100000</td>\n",
       "      <td>0.7</td>\n",
       "      <td>-0.350000</td>\n",
       "      <td>-0.600</td>\n",
       "      <td>-0.200000</td>\n",
       "      <td>0.500000</td>\n",
       "      <td>-0.187500</td>\n",
       "      <td>0.000000</td>\n",
       "      <td>0.187500</td>\n",
       "      <td>593</td>\n",
       "    </tr>\n",
       "    <tr>\n",
       "      <td>1</td>\n",
       "      <td>http://mashable.com/2013/01/07/ap-samsung-spon...</td>\n",
       "      <td>731.0</td>\n",
       "      <td>9.0</td>\n",
       "      <td>255.0</td>\n",
       "      <td>0.604743</td>\n",
       "      <td>1.0</td>\n",
       "      <td>0.791946</td>\n",
       "      <td>3.0</td>\n",
       "      <td>1.0</td>\n",
       "      <td>1.0</td>\n",
       "      <td>...</td>\n",
       "      <td>0.033333</td>\n",
       "      <td>0.7</td>\n",
       "      <td>-0.118750</td>\n",
       "      <td>-0.125</td>\n",
       "      <td>-0.100000</td>\n",
       "      <td>0.000000</td>\n",
       "      <td>0.000000</td>\n",
       "      <td>0.500000</td>\n",
       "      <td>0.000000</td>\n",
       "      <td>711</td>\n",
       "    </tr>\n",
       "    <tr>\n",
       "      <td>2</td>\n",
       "      <td>http://mashable.com/2013/01/07/apple-40-billio...</td>\n",
       "      <td>731.0</td>\n",
       "      <td>9.0</td>\n",
       "      <td>211.0</td>\n",
       "      <td>0.575130</td>\n",
       "      <td>1.0</td>\n",
       "      <td>0.663866</td>\n",
       "      <td>3.0</td>\n",
       "      <td>1.0</td>\n",
       "      <td>1.0</td>\n",
       "      <td>...</td>\n",
       "      <td>0.100000</td>\n",
       "      <td>1.0</td>\n",
       "      <td>-0.466667</td>\n",
       "      <td>-0.800</td>\n",
       "      <td>-0.133333</td>\n",
       "      <td>0.000000</td>\n",
       "      <td>0.000000</td>\n",
       "      <td>0.500000</td>\n",
       "      <td>0.000000</td>\n",
       "      <td>1500</td>\n",
       "    </tr>\n",
       "    <tr>\n",
       "      <td>3</td>\n",
       "      <td>http://mashable.com/2013/01/07/astronaut-notre...</td>\n",
       "      <td>731.0</td>\n",
       "      <td>9.0</td>\n",
       "      <td>531.0</td>\n",
       "      <td>0.503788</td>\n",
       "      <td>1.0</td>\n",
       "      <td>0.665635</td>\n",
       "      <td>9.0</td>\n",
       "      <td>0.0</td>\n",
       "      <td>1.0</td>\n",
       "      <td>...</td>\n",
       "      <td>0.136364</td>\n",
       "      <td>0.8</td>\n",
       "      <td>-0.369697</td>\n",
       "      <td>-0.600</td>\n",
       "      <td>-0.166667</td>\n",
       "      <td>0.000000</td>\n",
       "      <td>0.000000</td>\n",
       "      <td>0.500000</td>\n",
       "      <td>0.000000</td>\n",
       "      <td>1200</td>\n",
       "    </tr>\n",
       "    <tr>\n",
       "      <td>4</td>\n",
       "      <td>http://mashable.com/2013/01/07/att-u-verse-apps/</td>\n",
       "      <td>731.0</td>\n",
       "      <td>13.0</td>\n",
       "      <td>1072.0</td>\n",
       "      <td>0.415646</td>\n",
       "      <td>1.0</td>\n",
       "      <td>0.540890</td>\n",
       "      <td>19.0</td>\n",
       "      <td>19.0</td>\n",
       "      <td>20.0</td>\n",
       "      <td>...</td>\n",
       "      <td>0.033333</td>\n",
       "      <td>1.0</td>\n",
       "      <td>-0.220192</td>\n",
       "      <td>-0.500</td>\n",
       "      <td>-0.050000</td>\n",
       "      <td>0.454545</td>\n",
       "      <td>0.136364</td>\n",
       "      <td>0.045455</td>\n",
       "      <td>0.136364</td>\n",
       "      <td>505</td>\n",
       "    </tr>\n",
       "  </tbody>\n",
       "</table>\n",
       "<p>5 rows × 61 columns</p>\n",
       "</div>"
      ],
      "text/plain": [
       "                                                 url   timedelta  \\\n",
       "0  http://mashable.com/2013/01/07/amazon-instant-...       731.0   \n",
       "1  http://mashable.com/2013/01/07/ap-samsung-spon...       731.0   \n",
       "2  http://mashable.com/2013/01/07/apple-40-billio...       731.0   \n",
       "3  http://mashable.com/2013/01/07/astronaut-notre...       731.0   \n",
       "4   http://mashable.com/2013/01/07/att-u-verse-apps/       731.0   \n",
       "\n",
       "    n_tokens_title   n_tokens_content   n_unique_tokens   n_non_stop_words  \\\n",
       "0             12.0              219.0          0.663594                1.0   \n",
       "1              9.0              255.0          0.604743                1.0   \n",
       "2              9.0              211.0          0.575130                1.0   \n",
       "3              9.0              531.0          0.503788                1.0   \n",
       "4             13.0             1072.0          0.415646                1.0   \n",
       "\n",
       "    n_non_stop_unique_tokens   num_hrefs   num_self_hrefs   num_imgs  ...  \\\n",
       "0                   0.815385         4.0              2.0        1.0  ...   \n",
       "1                   0.791946         3.0              1.0        1.0  ...   \n",
       "2                   0.663866         3.0              1.0        1.0  ...   \n",
       "3                   0.665635         9.0              0.0        1.0  ...   \n",
       "4                   0.540890        19.0             19.0       20.0  ...   \n",
       "\n",
       "    min_positive_polarity   max_positive_polarity   avg_negative_polarity  \\\n",
       "0                0.100000                     0.7               -0.350000   \n",
       "1                0.033333                     0.7               -0.118750   \n",
       "2                0.100000                     1.0               -0.466667   \n",
       "3                0.136364                     0.8               -0.369697   \n",
       "4                0.033333                     1.0               -0.220192   \n",
       "\n",
       "    min_negative_polarity   max_negative_polarity   title_subjectivity  \\\n",
       "0                  -0.600               -0.200000             0.500000   \n",
       "1                  -0.125               -0.100000             0.000000   \n",
       "2                  -0.800               -0.133333             0.000000   \n",
       "3                  -0.600               -0.166667             0.000000   \n",
       "4                  -0.500               -0.050000             0.454545   \n",
       "\n",
       "    title_sentiment_polarity   abs_title_subjectivity  \\\n",
       "0                  -0.187500                 0.000000   \n",
       "1                   0.000000                 0.500000   \n",
       "2                   0.000000                 0.500000   \n",
       "3                   0.000000                 0.500000   \n",
       "4                   0.136364                 0.045455   \n",
       "\n",
       "    abs_title_sentiment_polarity   shares  \n",
       "0                       0.187500      593  \n",
       "1                       0.000000      711  \n",
       "2                       0.000000     1500  \n",
       "3                       0.000000     1200  \n",
       "4                       0.136364      505  \n",
       "\n",
       "[5 rows x 61 columns]"
      ]
     },
     "execution_count": 144,
     "metadata": {},
     "output_type": "execute_result"
    }
   ],
   "source": [
    "df.head()"
   ]
  },
  {
   "cell_type": "code",
   "execution_count": 126,
   "metadata": {},
   "outputs": [],
   "source": [
    "X_train, X_test, y_train, y_test = train_test_split(X, y, test_size=.33)"
   ]
  },
  {
   "cell_type": "code",
   "execution_count": 132,
   "metadata": {},
   "outputs": [
    {
     "data": {
      "text/plain": [
       "RandomForestRegressor(bootstrap=True, criterion='mse', max_depth=5,\n",
       "                      max_features=5, max_leaf_nodes=None,\n",
       "                      min_impurity_decrease=0.0, min_impurity_split=None,\n",
       "                      min_samples_leaf=1, min_samples_split=2,\n",
       "                      min_weight_fraction_leaf=0.0, n_estimators=100,\n",
       "                      n_jobs=None, oob_score=False, random_state=0, verbose=0,\n",
       "                      warm_start=False)"
      ]
     },
     "execution_count": 132,
     "metadata": {},
     "output_type": "execute_result"
    }
   ],
   "source": [
    "rf = RandomForestRegressor(n_estimators =100, max_depth=5, max_features = 5,criterion='mse',random_state=0)\n",
    "rf.fit(X_train, y_train)"
   ]
  },
  {
   "cell_type": "code",
   "execution_count": 145,
   "metadata": {},
   "outputs": [],
   "source": [
    "y_pred = rf.predict(X_test)"
   ]
  },
  {
   "cell_type": "code",
   "execution_count": 147,
   "metadata": {},
   "outputs": [
    {
     "data": {
      "text/plain": [
       "array([2271.08593453, 2635.81224995, 2576.96145199, ..., 4069.02523425,\n",
       "       6998.69953179, 2924.66058889])"
      ]
     },
     "execution_count": 147,
     "metadata": {},
     "output_type": "execute_result"
    }
   ],
   "source": [
    "y_pred"
   ]
  },
  {
   "cell_type": "code",
   "execution_count": 148,
   "metadata": {},
   "outputs": [
    {
     "data": {
      "text/plain": [
       "array([ 863, 3000, 7200, ..., 3600, 5600,  262])"
      ]
     },
     "execution_count": 148,
     "metadata": {},
     "output_type": "execute_result"
    }
   ],
   "source": [
    "y_test"
   ]
  },
  {
   "cell_type": "code",
   "execution_count": 136,
   "metadata": {},
   "outputs": [
    {
     "data": {
      "text/plain": [
       "0.031212285200204803"
      ]
     },
     "execution_count": 136,
     "metadata": {},
     "output_type": "execute_result"
    }
   ],
   "source": [
    "from sklearn.metrics import r2_score\n",
    "r2_score(y_test, y_pred)"
   ]
  },
  {
   "cell_type": "code",
   "execution_count": 143,
   "metadata": {},
   "outputs": [
    {
     "data": {
      "text/plain": [
       "0.22876472237178402"
      ]
     },
     "execution_count": 143,
     "metadata": {},
     "output_type": "execute_result"
    }
   ],
   "source": [
    "rf.score(X_train,y_train)"
   ]
  },
  {
   "cell_type": "code",
   "execution_count": 46,
   "metadata": {},
   "outputs": [],
   "source": [
    "scaler = StandardScaler()\n",
    "scaler.fit(X_train)\n",
    "X_train = scaler.transform(X_train)\n",
    "X_test = scaler.transform(X_test)"
   ]
  },
  {
   "cell_type": "code",
   "execution_count": 47,
   "metadata": {},
   "outputs": [],
   "source": [
    "# all cpus are being used by setting n_jobs = -1\n",
    "model = RandomForestRegressor(n_jobs=-1)"
   ]
  },
  {
   "cell_type": "code",
   "execution_count": 48,
   "metadata": {},
   "outputs": [
    {
     "data": {
      "text/plain": [
       "[<matplotlib.lines.Line2D at 0x7fec64a70550>]"
      ]
     },
     "execution_count": 48,
     "metadata": {},
     "output_type": "execute_result"
    },
    {
     "data": {
      "image/png": "[encoded data removed]",
      "text/plain": [
       "<Figure size 432x288 with 1 Axes>"
      ]
     },
     "metadata": {
      "needs_background": "light"
     },
     "output_type": "display_data"
    }
   ],
   "source": [
    "# estimators = np.arange(10, 200, 10)\n",
    "# scores = []\n",
    "# for n in estimators:\n",
    "#     model.set_params(n_estimators=n)\n",
    "#     model.fit(X_train, y_train)\n",
    "#     scores.append(model.score(X_test, y_test))\n",
    "# plt.title(\"Effect of n_estimators\")\n",
    "# plt.xlabel(\"n_estimator\")\n",
    "# plt.ylabel(\"score\")\n",
    "# plt.plot(estimators, scores)"
   ]
  },
  {
   "cell_type": "code",
   "execution_count": 51,
   "metadata": {},
   "outputs": [
    {
     "data": {
      "text/plain": [
       "75327996.72710508"
      ]
     },
     "execution_count": 51,
     "metadata": {},
     "output_type": "execute_result"
    }
   ],
   "source": [
    "mse_test = mean_squared_error(y_test, model.predict(X_test))\n",
    "mse_test"
   ]
  },
  {
   "cell_type": "code",
   "execution_count": 52,
   "metadata": {},
   "outputs": [],
   "source": [
    "model2 = RandomForestRegressor(n_jobs=-1, n_estimators=100)"
   ]
  },
  {
   "cell_type": "code",
   "execution_count": 56,
   "metadata": {},
   "outputs": [
    {
     "data": {
      "text/plain": [
       "[<matplotlib.lines.Line2D at 0x7fec5ee88390>]"
      ]
     },
     "execution_count": 56,
     "metadata": {},
     "output_type": "execute_result"
    },
    {
     "data": {
      "image/png": "[encoded data removed]",
      "text/plain": [
       "<Figure size 432x288 with 1 Axes>"
      ]
     },
     "metadata": {
      "needs_background": "light"
     },
     "output_type": "display_data"
    }
   ],
   "source": [
    "max_depth = np.arange(1, 8)\n",
    "scores = []\n",
    "for n in max_depth:\n",
    "    model2.set_params(max_depth=n)\n",
    "    model2.fit(X_train, y_train)\n",
    "    scores.append(model2.score(X_test, y_test))\n",
    "plt.title(\"Effect of max_depth\")\n",
    "plt.xlabel(\"max_depth\")\n",
    "plt.ylabel(\"score\")\n",
    "plt.plot(max_depth, scores)"
   ]
  },
  {
   "cell_type": "code",
   "execution_count": 57,
   "metadata": {},
   "outputs": [],
   "source": [
    "model3 = RandomForestRegressor(n_jobs=-1, n_estimators=100,max_depth =3)"
   ]
  },
  {
   "cell_type": "code",
   "execution_count": 61,
   "metadata": {},
   "outputs": [
    {
     "data": {
      "text/plain": [
       "[<matplotlib.lines.Line2D at 0x7fec5ebcaa90>]"
      ]
     },
     "execution_count": 61,
     "metadata": {},
     "output_type": "execute_result"
    },
    {
     "data": {
      "image/png": "[encoded data removed]",
      "text/plain": [
       "<Figure size 432x288 with 1 Axes>"
      ]
     },
     "metadata": {
      "needs_background": "light"
     },
     "output_type": "display_data"
    }
   ],
   "source": [
    "min_sample_leaf = np.arange(10, 210, 10)\n",
    "scores = []\n",
    "for n in min_sample_leaf:\n",
    "    model3.set_params(min_samples_leaf=n)\n",
    "    model3.fit(X_train, y_train)\n",
    "    scores.append(model3.score(X_test, y_test))\n",
    "plt.title(\"Effect of min_samples_leaf\")\n",
    "plt.xlabel(\"min_samples_leaf\")\n",
    "plt.ylabel(\"score\")\n",
    "plt.plot(min_sample_leaf, scores)"
   ]
  },
  {
   "cell_type": "code",
   "execution_count": 62,
   "metadata": {},
   "outputs": [],
   "source": [
    "model4 = RandomForestRegressor(n_jobs=-1, max_depth=3, n_estimators=1000, min_samples_leaf=50)"
   ]
  },
  {
   "cell_type": "code",
   "execution_count": null,
   "metadata": {},
   "outputs": [],
   "source": [
    "# model4.fit(X_train, y_train)"
   ]
  },
  {
   "cell_type": "code",
   "execution_count": 64,
   "metadata": {},
   "outputs": [
    {
     "data": {
      "text/plain": [
       "0.027882432285132097"
      ]
     },
     "execution_count": 64,
     "metadata": {},
     "output_type": "execute_result"
    }
   ],
   "source": [
    "model4.score(X_test, y_test)"
   ]
  },
  {
   "cell_type": "code",
   "execution_count": 76,
   "metadata": {},
   "outputs": [],
   "source": [
    "model5 = RandomForestRegressor(n_jobs=-1, max_depth=3,max_features= 10, n_estimators=1000, min_samples_leaf=50, min_samples_split=20)"
   ]
  },
  {
   "cell_type": "code",
   "execution_count": 77,
   "metadata": {},
   "outputs": [
    {
     "data": {
      "text/plain": [
       "RandomForestRegressor(bootstrap=True, criterion='mse', max_depth=3,\n",
       "                      max_features=10, max_leaf_nodes=None,\n",
       "                      min_impurity_decrease=0.0, min_impurity_split=None,\n",
       "                      min_samples_leaf=50, min_samples_split=20,\n",
       "                      min_weight_fraction_leaf=0.0, n_estimators=1000,\n",
       "                      n_jobs=-1, oob_score=False, random_state=None, verbose=0,\n",
       "                      warm_start=False)"
      ]
     },
     "execution_count": 77,
     "metadata": {},
     "output_type": "execute_result"
    }
   ],
   "source": [
    "model5.fit(X_train, y_train)"
   ]
  },
  {
   "cell_type": "code",
   "execution_count": 78,
   "metadata": {},
   "outputs": [
    {
     "data": {
      "text/plain": [
       "0.030178904006796792"
      ]
     },
     "execution_count": 78,
     "metadata": {},
     "output_type": "execute_result"
    }
   ],
   "source": [
    "model5.score(X_test,y_test)"
   ]
  },
  {
   "cell_type": "code",
   "execution_count": 79,
   "metadata": {},
   "outputs": [
    {
     "data": {
      "text/plain": [
       "0.028312423040090073"
      ]
     },
     "execution_count": 79,
     "metadata": {},
     "output_type": "execute_result"
    }
   ],
   "source": [
    "model5.score(X_train, y_train)"
   ]
  },
  {
   "cell_type": "code",
   "execution_count": 82,
   "metadata": {},
   "outputs": [
    {
     "data": {
      "text/html": [
       "<div>\n",
       "<style scoped>\n",
       "    .dataframe tbody tr th:only-of-type {\n",
       "        vertical-align: middle;\n",
       "    }\n",
       "\n",
       "    .dataframe tbody tr th {\n",
       "        vertical-align: top;\n",
       "    }\n",
       "\n",
       "    .dataframe thead th {\n",
       "        text-align: right;\n",
       "    }\n",
       "</style>\n",
       "<table border=\"1\" class=\"dataframe\">\n",
       "  <thead>\n",
       "    <tr style=\"text-align: right;\">\n",
       "      <th></th>\n",
       "      <th>timedelta</th>\n",
       "      <th>n_tokens_title</th>\n",
       "      <th>n_tokens_content</th>\n",
       "      <th>n_unique_tokens</th>\n",
       "      <th>n_non_stop_words</th>\n",
       "      <th>n_non_stop_unique_tokens</th>\n",
       "      <th>num_hrefs</th>\n",
       "      <th>num_self_hrefs</th>\n",
       "      <th>num_imgs</th>\n",
       "      <th>num_videos</th>\n",
       "      <th>...</th>\n",
       "      <th>avg_positive_polarity</th>\n",
       "      <th>min_positive_polarity</th>\n",
       "      <th>max_positive_polarity</th>\n",
       "      <th>avg_negative_polarity</th>\n",
       "      <th>min_negative_polarity</th>\n",
       "      <th>max_negative_polarity</th>\n",
       "      <th>title_subjectivity</th>\n",
       "      <th>title_sentiment_polarity</th>\n",
       "      <th>abs_title_subjectivity</th>\n",
       "      <th>abs_title_sentiment_polarity</th>\n",
       "    </tr>\n",
       "  </thead>\n",
       "  <tbody>\n",
       "    <tr>\n",
       "      <td>0</td>\n",
       "      <td>731.0</td>\n",
       "      <td>12.0</td>\n",
       "      <td>219.0</td>\n",
       "      <td>0.663594</td>\n",
       "      <td>1.0</td>\n",
       "      <td>0.815385</td>\n",
       "      <td>4.0</td>\n",
       "      <td>2.0</td>\n",
       "      <td>1.0</td>\n",
       "      <td>0.0</td>\n",
       "      <td>...</td>\n",
       "      <td>0.378636</td>\n",
       "      <td>0.100000</td>\n",
       "      <td>0.70</td>\n",
       "      <td>-0.350000</td>\n",
       "      <td>-0.600</td>\n",
       "      <td>-0.200000</td>\n",
       "      <td>0.500000</td>\n",
       "      <td>-0.187500</td>\n",
       "      <td>0.000000</td>\n",
       "      <td>0.187500</td>\n",
       "    </tr>\n",
       "    <tr>\n",
       "      <td>1</td>\n",
       "      <td>731.0</td>\n",
       "      <td>9.0</td>\n",
       "      <td>255.0</td>\n",
       "      <td>0.604743</td>\n",
       "      <td>1.0</td>\n",
       "      <td>0.791946</td>\n",
       "      <td>3.0</td>\n",
       "      <td>1.0</td>\n",
       "      <td>1.0</td>\n",
       "      <td>0.0</td>\n",
       "      <td>...</td>\n",
       "      <td>0.286915</td>\n",
       "      <td>0.033333</td>\n",
       "      <td>0.70</td>\n",
       "      <td>-0.118750</td>\n",
       "      <td>-0.125</td>\n",
       "      <td>-0.100000</td>\n",
       "      <td>0.000000</td>\n",
       "      <td>0.000000</td>\n",
       "      <td>0.500000</td>\n",
       "      <td>0.000000</td>\n",
       "    </tr>\n",
       "    <tr>\n",
       "      <td>2</td>\n",
       "      <td>731.0</td>\n",
       "      <td>9.0</td>\n",
       "      <td>211.0</td>\n",
       "      <td>0.575130</td>\n",
       "      <td>1.0</td>\n",
       "      <td>0.663866</td>\n",
       "      <td>3.0</td>\n",
       "      <td>1.0</td>\n",
       "      <td>1.0</td>\n",
       "      <td>0.0</td>\n",
       "      <td>...</td>\n",
       "      <td>0.495833</td>\n",
       "      <td>0.100000</td>\n",
       "      <td>1.00</td>\n",
       "      <td>-0.466667</td>\n",
       "      <td>-0.800</td>\n",
       "      <td>-0.133333</td>\n",
       "      <td>0.000000</td>\n",
       "      <td>0.000000</td>\n",
       "      <td>0.500000</td>\n",
       "      <td>0.000000</td>\n",
       "    </tr>\n",
       "    <tr>\n",
       "      <td>3</td>\n",
       "      <td>731.0</td>\n",
       "      <td>9.0</td>\n",
       "      <td>531.0</td>\n",
       "      <td>0.503788</td>\n",
       "      <td>1.0</td>\n",
       "      <td>0.665635</td>\n",
       "      <td>9.0</td>\n",
       "      <td>0.0</td>\n",
       "      <td>1.0</td>\n",
       "      <td>0.0</td>\n",
       "      <td>...</td>\n",
       "      <td>0.385965</td>\n",
       "      <td>0.136364</td>\n",
       "      <td>0.80</td>\n",
       "      <td>-0.369697</td>\n",
       "      <td>-0.600</td>\n",
       "      <td>-0.166667</td>\n",
       "      <td>0.000000</td>\n",
       "      <td>0.000000</td>\n",
       "      <td>0.500000</td>\n",
       "      <td>0.000000</td>\n",
       "    </tr>\n",
       "    <tr>\n",
       "      <td>4</td>\n",
       "      <td>731.0</td>\n",
       "      <td>13.0</td>\n",
       "      <td>1072.0</td>\n",
       "      <td>0.415646</td>\n",
       "      <td>1.0</td>\n",
       "      <td>0.540890</td>\n",
       "      <td>19.0</td>\n",
       "      <td>19.0</td>\n",
       "      <td>20.0</td>\n",
       "      <td>0.0</td>\n",
       "      <td>...</td>\n",
       "      <td>0.411127</td>\n",
       "      <td>0.033333</td>\n",
       "      <td>1.00</td>\n",
       "      <td>-0.220192</td>\n",
       "      <td>-0.500</td>\n",
       "      <td>-0.050000</td>\n",
       "      <td>0.454545</td>\n",
       "      <td>0.136364</td>\n",
       "      <td>0.045455</td>\n",
       "      <td>0.136364</td>\n",
       "    </tr>\n",
       "    <tr>\n",
       "      <td>...</td>\n",
       "      <td>...</td>\n",
       "      <td>...</td>\n",
       "      <td>...</td>\n",
       "      <td>...</td>\n",
       "      <td>...</td>\n",
       "      <td>...</td>\n",
       "      <td>...</td>\n",
       "      <td>...</td>\n",
       "      <td>...</td>\n",
       "      <td>...</td>\n",
       "      <td>...</td>\n",
       "      <td>...</td>\n",
       "      <td>...</td>\n",
       "      <td>...</td>\n",
       "      <td>...</td>\n",
       "      <td>...</td>\n",
       "      <td>...</td>\n",
       "      <td>...</td>\n",
       "      <td>...</td>\n",
       "      <td>...</td>\n",
       "      <td>...</td>\n",
       "    </tr>\n",
       "    <tr>\n",
       "      <td>39639</td>\n",
       "      <td>8.0</td>\n",
       "      <td>11.0</td>\n",
       "      <td>346.0</td>\n",
       "      <td>0.529052</td>\n",
       "      <td>1.0</td>\n",
       "      <td>0.684783</td>\n",
       "      <td>9.0</td>\n",
       "      <td>7.0</td>\n",
       "      <td>1.0</td>\n",
       "      <td>1.0</td>\n",
       "      <td>...</td>\n",
       "      <td>0.333791</td>\n",
       "      <td>0.100000</td>\n",
       "      <td>0.75</td>\n",
       "      <td>-0.260000</td>\n",
       "      <td>-0.500</td>\n",
       "      <td>-0.125000</td>\n",
       "      <td>0.100000</td>\n",
       "      <td>0.000000</td>\n",
       "      <td>0.400000</td>\n",
       "      <td>0.000000</td>\n",
       "    </tr>\n",
       "    <tr>\n",
       "      <td>39640</td>\n",
       "      <td>8.0</td>\n",
       "      <td>12.0</td>\n",
       "      <td>328.0</td>\n",
       "      <td>0.696296</td>\n",
       "      <td>1.0</td>\n",
       "      <td>0.885057</td>\n",
       "      <td>9.0</td>\n",
       "      <td>7.0</td>\n",
       "      <td>3.0</td>\n",
       "      <td>48.0</td>\n",
       "      <td>...</td>\n",
       "      <td>0.374825</td>\n",
       "      <td>0.136364</td>\n",
       "      <td>0.70</td>\n",
       "      <td>-0.211111</td>\n",
       "      <td>-0.400</td>\n",
       "      <td>-0.100000</td>\n",
       "      <td>0.300000</td>\n",
       "      <td>1.000000</td>\n",
       "      <td>0.200000</td>\n",
       "      <td>1.000000</td>\n",
       "    </tr>\n",
       "    <tr>\n",
       "      <td>39641</td>\n",
       "      <td>8.0</td>\n",
       "      <td>10.0</td>\n",
       "      <td>442.0</td>\n",
       "      <td>0.516355</td>\n",
       "      <td>1.0</td>\n",
       "      <td>0.644128</td>\n",
       "      <td>24.0</td>\n",
       "      <td>1.0</td>\n",
       "      <td>12.0</td>\n",
       "      <td>1.0</td>\n",
       "      <td>...</td>\n",
       "      <td>0.307273</td>\n",
       "      <td>0.136364</td>\n",
       "      <td>0.50</td>\n",
       "      <td>-0.356439</td>\n",
       "      <td>-0.800</td>\n",
       "      <td>-0.166667</td>\n",
       "      <td>0.454545</td>\n",
       "      <td>0.136364</td>\n",
       "      <td>0.045455</td>\n",
       "      <td>0.136364</td>\n",
       "    </tr>\n",
       "    <tr>\n",
       "      <td>39642</td>\n",
       "      <td>8.0</td>\n",
       "      <td>6.0</td>\n",
       "      <td>682.0</td>\n",
       "      <td>0.539493</td>\n",
       "      <td>1.0</td>\n",
       "      <td>0.692661</td>\n",
       "      <td>10.0</td>\n",
       "      <td>1.0</td>\n",
       "      <td>1.0</td>\n",
       "      <td>0.0</td>\n",
       "      <td>...</td>\n",
       "      <td>0.236851</td>\n",
       "      <td>0.062500</td>\n",
       "      <td>0.50</td>\n",
       "      <td>-0.205246</td>\n",
       "      <td>-0.500</td>\n",
       "      <td>-0.012500</td>\n",
       "      <td>0.000000</td>\n",
       "      <td>0.000000</td>\n",
       "      <td>0.500000</td>\n",
       "      <td>0.000000</td>\n",
       "    </tr>\n",
       "    <tr>\n",
       "      <td>39643</td>\n",
       "      <td>8.0</td>\n",
       "      <td>10.0</td>\n",
       "      <td>157.0</td>\n",
       "      <td>0.701987</td>\n",
       "      <td>1.0</td>\n",
       "      <td>0.846154</td>\n",
       "      <td>1.0</td>\n",
       "      <td>1.0</td>\n",
       "      <td>0.0</td>\n",
       "      <td>2.0</td>\n",
       "      <td>...</td>\n",
       "      <td>0.247338</td>\n",
       "      <td>0.100000</td>\n",
       "      <td>0.50</td>\n",
       "      <td>-0.200000</td>\n",
       "      <td>-0.200</td>\n",
       "      <td>-0.200000</td>\n",
       "      <td>0.333333</td>\n",
       "      <td>0.250000</td>\n",
       "      <td>0.166667</td>\n",
       "      <td>0.250000</td>\n",
       "    </tr>\n",
       "  </tbody>\n",
       "</table>\n",
       "<p>39644 rows × 59 columns</p>\n",
       "</div>"
      ],
      "text/plain": [
       "        timedelta   n_tokens_title   n_tokens_content   n_unique_tokens  \\\n",
       "0           731.0             12.0              219.0          0.663594   \n",
       "1           731.0              9.0              255.0          0.604743   \n",
       "2           731.0              9.0              211.0          0.575130   \n",
       "3           731.0              9.0              531.0          0.503788   \n",
       "4           731.0             13.0             1072.0          0.415646   \n",
       "...           ...              ...                ...               ...   \n",
       "39639         8.0             11.0              346.0          0.529052   \n",
       "39640         8.0             12.0              328.0          0.696296   \n",
       "39641         8.0             10.0              442.0          0.516355   \n",
       "39642         8.0              6.0              682.0          0.539493   \n",
       "39643         8.0             10.0              157.0          0.701987   \n",
       "\n",
       "        n_non_stop_words   n_non_stop_unique_tokens   num_hrefs  \\\n",
       "0                    1.0                   0.815385         4.0   \n",
       "1                    1.0                   0.791946         3.0   \n",
       "2                    1.0                   0.663866         3.0   \n",
       "3                    1.0                   0.665635         9.0   \n",
       "4                    1.0                   0.540890        19.0   \n",
       "...                  ...                        ...         ...   \n",
       "39639                1.0                   0.684783         9.0   \n",
       "39640                1.0                   0.885057         9.0   \n",
       "39641                1.0                   0.644128        24.0   \n",
       "39642                1.0                   0.692661        10.0   \n",
       "39643                1.0                   0.846154         1.0   \n",
       "\n",
       "        num_self_hrefs   num_imgs   num_videos  ...   avg_positive_polarity  \\\n",
       "0                  2.0        1.0          0.0  ...                0.378636   \n",
       "1                  1.0        1.0          0.0  ...                0.286915   \n",
       "2                  1.0        1.0          0.0  ...                0.495833   \n",
       "3                  0.0        1.0          0.0  ...                0.385965   \n",
       "4                 19.0       20.0          0.0  ...                0.411127   \n",
       "...                ...        ...          ...  ...                     ...   \n",
       "39639              7.0        1.0          1.0  ...                0.333791   \n",
       "39640              7.0        3.0         48.0  ...                0.374825   \n",
       "39641              1.0       12.0          1.0  ...                0.307273   \n",
       "39642              1.0        1.0          0.0  ...                0.236851   \n",
       "39643              1.0        0.0          2.0  ...                0.247338   \n",
       "\n",
       "        min_positive_polarity   max_positive_polarity   avg_negative_polarity  \\\n",
       "0                    0.100000                    0.70               -0.350000   \n",
       "1                    0.033333                    0.70               -0.118750   \n",
       "2                    0.100000                    1.00               -0.466667   \n",
       "3                    0.136364                    0.80               -0.369697   \n",
       "4                    0.033333                    1.00               -0.220192   \n",
       "...                       ...                     ...                     ...   \n",
       "39639                0.100000                    0.75               -0.260000   \n",
       "39640                0.136364                    0.70               -0.211111   \n",
       "39641                0.136364                    0.50               -0.356439   \n",
       "39642                0.062500                    0.50               -0.205246   \n",
       "39643                0.100000                    0.50               -0.200000   \n",
       "\n",
       "        min_negative_polarity   max_negative_polarity   title_subjectivity  \\\n",
       "0                      -0.600               -0.200000             0.500000   \n",
       "1                      -0.125               -0.100000             0.000000   \n",
       "2                      -0.800               -0.133333             0.000000   \n",
       "3                      -0.600               -0.166667             0.000000   \n",
       "4                      -0.500               -0.050000             0.454545   \n",
       "...                       ...                     ...                  ...   \n",
       "39639                  -0.500               -0.125000             0.100000   \n",
       "39640                  -0.400               -0.100000             0.300000   \n",
       "39641                  -0.800               -0.166667             0.454545   \n",
       "39642                  -0.500               -0.012500             0.000000   \n",
       "39643                  -0.200               -0.200000             0.333333   \n",
       "\n",
       "        title_sentiment_polarity   abs_title_subjectivity  \\\n",
       "0                      -0.187500                 0.000000   \n",
       "1                       0.000000                 0.500000   \n",
       "2                       0.000000                 0.500000   \n",
       "3                       0.000000                 0.500000   \n",
       "4                       0.136364                 0.045455   \n",
       "...                          ...                      ...   \n",
       "39639                   0.000000                 0.400000   \n",
       "39640                   1.000000                 0.200000   \n",
       "39641                   0.136364                 0.045455   \n",
       "39642                   0.000000                 0.500000   \n",
       "39643                   0.250000                 0.166667   \n",
       "\n",
       "        abs_title_sentiment_polarity  \n",
       "0                           0.187500  \n",
       "1                           0.000000  \n",
       "2                           0.000000  \n",
       "3                           0.000000  \n",
       "4                           0.136364  \n",
       "...                              ...  \n",
       "39639                       0.000000  \n",
       "39640                       1.000000  \n",
       "39641                       0.136364  \n",
       "39642                       0.000000  \n",
       "39643                       0.250000  \n",
       "\n",
       "[39644 rows x 59 columns]"
      ]
     },
     "execution_count": 82,
     "metadata": {},
     "output_type": "execute_result"
    }
   ],
   "source": [
    "df.iloc[:,1:-1]"
   ]
  },
  {
   "cell_type": "code",
   "execution_count": 90,
   "metadata": {},
   "outputs": [
    {
     "data": {
      "text/plain": [
       "(26561, 59)"
      ]
     },
     "execution_count": 90,
     "metadata": {},
     "output_type": "execute_result"
    }
   ],
   "source": [
    "X_train.shape"
   ]
  },
  {
   "cell_type": "code",
   "execution_count": 103,
   "metadata": {},
   "outputs": [],
   "source": [
    "X1 = df.iloc[:3000,1:7]\n",
    "y1 = df.iloc[:3000,-1]"
   ]
  },
  {
   "cell_type": "code",
   "execution_count": 104,
   "metadata": {},
   "outputs": [],
   "source": [
    "X1 = X1.values\n",
    "y1 = y1.values"
   ]
  },
  {
   "cell_type": "code",
   "execution_count": 105,
   "metadata": {},
   "outputs": [],
   "source": [
    "X_train, X_test, y_train, y_test = train_test_split(X, y, \n",
    "                                                    test_size=.33,\n",
    "                                                    random_state=0)"
   ]
  },
  {
   "cell_type": "code",
   "execution_count": 106,
   "metadata": {},
   "outputs": [],
   "source": [
    "scaler = StandardScaler()\n",
    "scaler.fit(X_train)\n",
    "X_train = scaler.transform(X_train)\n",
    "X_test = scaler.transform(X_test)"
   ]
  },
  {
   "cell_type": "code",
   "execution_count": 114,
   "metadata": {},
   "outputs": [],
   "source": [
    "model5 = RandomForestRegressor(n_jobs=-1, max_depth=3,max_features= 20,\n",
    "                               n_estimators=100, min_samples_leaf=5,\n",
    "                               min_samples_split=5)"
   ]
  },
  {
   "cell_type": "code",
   "execution_count": 115,
   "metadata": {},
   "outputs": [
    {
     "data": {
      "text/plain": [
       "0.020973745054550297"
      ]
     },
     "execution_count": 115,
     "metadata": {},
     "output_type": "execute_result"
    }
   ],
   "source": [
    "model5.fit(X_train, y_train)\n",
    "model5.score(X_test,y_test)"
   ]
  },
  {
   "cell_type": "code",
   "execution_count": 110,
   "metadata": {},
   "outputs": [
    {
     "data": {
      "text/plain": [
       "(3000, 6)"
      ]
     },
     "execution_count": 110,
     "metadata": {},
     "output_type": "execute_result"
    }
   ],
   "source": [
    "X1.shape"
   ]
  },
  {
   "cell_type": "code",
   "execution_count": 111,
   "metadata": {},
   "outputs": [
    {
     "data": {
      "text/plain": [
       "array([[7.31000000e+02, 1.20000000e+01, 2.19000000e+02, 6.63594467e-01,\n",
       "        9.99999992e-01, 8.15384609e-01],\n",
       "       [7.31000000e+02, 9.00000000e+00, 2.55000000e+02, 6.04743081e-01,\n",
       "        9.99999993e-01, 7.91946303e-01],\n",
       "       [7.31000000e+02, 9.00000000e+00, 2.11000000e+02, 5.75129531e-01,\n",
       "        9.99999992e-01, 6.63865541e-01],\n",
       "       ...,\n",
       "       [6.80000000e+02, 6.00000000e+00, 2.63400000e+03, 2.27949599e-01,\n",
       "        9.99999999e-01, 3.47645429e-01],\n",
       "       [6.80000000e+02, 1.00000000e+01, 3.11000000e+02, 5.77419353e-01,\n",
       "        9.99999994e-01, 7.74566470e-01],\n",
       "       [6.80000000e+02, 1.50000000e+01, 3.02000000e+02, 5.85858584e-01,\n",
       "        9.99999994e-01, 7.49999996e-01]])"
      ]
     },
     "execution_count": 111,
     "metadata": {},
     "output_type": "execute_result"
    }
   ],
   "source": [
    "X1"
   ]
  },
  {
   "cell_type": "code",
   "execution_count": 239,
   "metadata": {},
   "outputs": [],
   "source": [
    "from sklearn.decomposition import PCA"
   ]
  },
  {
   "cell_type": "code",
   "execution_count": 243,
   "metadata": {},
   "outputs": [
    {
     "data": {
      "text/plain": [
       "array([0.76282388, 0.16383036])"
      ]
     },
     "execution_count": 243,
     "metadata": {},
     "output_type": "execute_result"
    }
   ],
   "source": [
    "pcd = PCA(2).fit(X)\n",
    "pcd.explained_variance_ratio_"
   ]
  },
  {
   "cell_type": "code",
   "execution_count": 244,
   "metadata": {},
   "outputs": [
    {
     "data": {
      "text/plain": [
       "(39644, 59)"
      ]
     },
     "execution_count": 244,
     "metadata": {},
     "output_type": "execute_result"
    }
   ],
   "source": [
    "X.shape"
   ]
  },
  {
   "cell_type": "code",
   "execution_count": 245,
   "metadata": {},
   "outputs": [],
   "source": [
    "X_reduced = X @ pcd.components_.T"
   ]
  },
  {
   "cell_type": "code",
   "execution_count": 246,
   "metadata": {},
   "outputs": [
    {
     "data": {
      "text/plain": [
       "(39644, 2)"
      ]
     },
     "execution_count": 246,
     "metadata": {},
     "output_type": "execute_result"
    }
   ],
   "source": [
    "X_reduced.shape"
   ]
  },
  {
   "cell_type": "code",
   "execution_count": 257,
   "metadata": {},
   "outputs": [
    {
     "data": {
      "text/plain": [
       "Text(0, 0.5, 'Second Principal Component')"
      ]
     },
     "execution_count": 257,
     "metadata": {},
     "output_type": "execute_result"
    },
    {
     "data": {
      "image/png": "[encoded data removed]",
      "text/plain": [
       "<Figure size 576x432 with 1 Axes>"
      ]
     },
     "metadata": {
      "needs_background": "light"
     },
     "output_type": "display_data"
    }
   ],
   "source": [
    "fig, ax = plt.subplots(1, figsize=(8, 6))\n",
    "\n",
    "ax.scatter(X_reduced[:, 0], X_reduced[:, 1])\n",
    "ax.set_xlabel(\"First Principal Component\")\n",
    "ax.set_ylabel(\"Second Principal Component\")"
   ]
  },
  {
   "cell_type": "code",
   "execution_count": 250,
   "metadata": {},
   "outputs": [
    {
     "data": {
      "text/plain": [
       "Index(['url', ' timedelta', ' n_tokens_title', ' n_tokens_content',\n",
       "       ' n_unique_tokens', ' n_non_stop_words', ' n_non_stop_unique_tokens',\n",
       "       ' num_hrefs', ' num_self_hrefs', ' num_imgs', ' num_videos',\n",
       "       ' average_token_length', ' num_keywords', ' data_channel_is_lifestyle',\n",
       "       ' data_channel_is_entertainment', ' data_channel_is_bus',\n",
       "       ' data_channel_is_socmed', ' data_channel_is_tech',\n",
       "       ' data_channel_is_world', ' kw_min_min', ' kw_max_min', ' kw_avg_min',\n",
       "       ' kw_min_max', ' kw_max_max', ' kw_avg_max', ' kw_min_avg',\n",
       "       ' kw_max_avg', ' kw_avg_avg', ' self_reference_min_shares',\n",
       "       ' self_reference_max_shares', ' self_reference_avg_sharess',\n",
       "       ' weekday_is_monday', ' weekday_is_tuesday', ' weekday_is_wednesday',\n",
       "       ' weekday_is_thursday', ' weekday_is_friday', ' weekday_is_saturday',\n",
       "       ' weekday_is_sunday', ' is_weekend', ' LDA_00', ' LDA_01', ' LDA_02',\n",
       "       ' LDA_03', ' LDA_04', ' global_subjectivity',\n",
       "       ' global_sentiment_polarity', ' global_rate_positive_words',\n",
       "       ' global_rate_negative_words', ' rate_positive_words',\n",
       "       ' rate_negative_words', ' avg_positive_polarity',\n",
       "       ' min_positive_polarity', ' max_positive_polarity',\n",
       "       ' avg_negative_polarity', ' min_negative_polarity',\n",
       "       ' max_negative_polarity', ' title_subjectivity',\n",
       "       ' title_sentiment_polarity', ' abs_title_subjectivity',\n",
       "       ' abs_title_sentiment_polarity', ' shares'],\n",
       "      dtype='object')"
      ]
     },
     "execution_count": 250,
     "metadata": {},
     "output_type": "execute_result"
    }
   ],
   "source": [
    "df.columns"
   ]
  },
  {
   "cell_type": "code",
   "execution_count": 262,
   "metadata": {},
   "outputs": [],
   "source": [
    "df_only_days = df.iloc[:,[31,32,33,34,35,36,37,38,-1]]"
   ]
  },
  {
   "cell_type": "code",
   "execution_count": 263,
   "metadata": {},
   "outputs": [
    {
     "data": {
      "text/html": [
       "<div>\n",
       "<style scoped>\n",
       "    .dataframe tbody tr th:only-of-type {\n",
       "        vertical-align: middle;\n",
       "    }\n",
       "\n",
       "    .dataframe tbody tr th {\n",
       "        vertical-align: top;\n",
       "    }\n",
       "\n",
       "    .dataframe thead th {\n",
       "        text-align: right;\n",
       "    }\n",
       "</style>\n",
       "<table border=\"1\" class=\"dataframe\">\n",
       "  <thead>\n",
       "    <tr style=\"text-align: right;\">\n",
       "      <th></th>\n",
       "      <th>weekday_is_monday</th>\n",
       "      <th>weekday_is_tuesday</th>\n",
       "      <th>weekday_is_wednesday</th>\n",
       "      <th>weekday_is_thursday</th>\n",
       "      <th>weekday_is_friday</th>\n",
       "      <th>weekday_is_saturday</th>\n",
       "      <th>weekday_is_sunday</th>\n",
       "      <th>is_weekend</th>\n",
       "      <th>shares</th>\n",
       "    </tr>\n",
       "  </thead>\n",
       "  <tbody>\n",
       "    <tr>\n",
       "      <td>0</td>\n",
       "      <td>1.0</td>\n",
       "      <td>0.0</td>\n",
       "      <td>0.0</td>\n",
       "      <td>0.0</td>\n",
       "      <td>0.0</td>\n",
       "      <td>0.0</td>\n",
       "      <td>0.0</td>\n",
       "      <td>0.0</td>\n",
       "      <td>593</td>\n",
       "    </tr>\n",
       "    <tr>\n",
       "      <td>1</td>\n",
       "      <td>1.0</td>\n",
       "      <td>0.0</td>\n",
       "      <td>0.0</td>\n",
       "      <td>0.0</td>\n",
       "      <td>0.0</td>\n",
       "      <td>0.0</td>\n",
       "      <td>0.0</td>\n",
       "      <td>0.0</td>\n",
       "      <td>711</td>\n",
       "    </tr>\n",
       "    <tr>\n",
       "      <td>2</td>\n",
       "      <td>1.0</td>\n",
       "      <td>0.0</td>\n",
       "      <td>0.0</td>\n",
       "      <td>0.0</td>\n",
       "      <td>0.0</td>\n",
       "      <td>0.0</td>\n",
       "      <td>0.0</td>\n",
       "      <td>0.0</td>\n",
       "      <td>1500</td>\n",
       "    </tr>\n",
       "    <tr>\n",
       "      <td>3</td>\n",
       "      <td>1.0</td>\n",
       "      <td>0.0</td>\n",
       "      <td>0.0</td>\n",
       "      <td>0.0</td>\n",
       "      <td>0.0</td>\n",
       "      <td>0.0</td>\n",
       "      <td>0.0</td>\n",
       "      <td>0.0</td>\n",
       "      <td>1200</td>\n",
       "    </tr>\n",
       "    <tr>\n",
       "      <td>4</td>\n",
       "      <td>1.0</td>\n",
       "      <td>0.0</td>\n",
       "      <td>0.0</td>\n",
       "      <td>0.0</td>\n",
       "      <td>0.0</td>\n",
       "      <td>0.0</td>\n",
       "      <td>0.0</td>\n",
       "      <td>0.0</td>\n",
       "      <td>505</td>\n",
       "    </tr>\n",
       "    <tr>\n",
       "      <td>...</td>\n",
       "      <td>...</td>\n",
       "      <td>...</td>\n",
       "      <td>...</td>\n",
       "      <td>...</td>\n",
       "      <td>...</td>\n",
       "      <td>...</td>\n",
       "      <td>...</td>\n",
       "      <td>...</td>\n",
       "      <td>...</td>\n",
       "    </tr>\n",
       "    <tr>\n",
       "      <td>39639</td>\n",
       "      <td>0.0</td>\n",
       "      <td>0.0</td>\n",
       "      <td>1.0</td>\n",
       "      <td>0.0</td>\n",
       "      <td>0.0</td>\n",
       "      <td>0.0</td>\n",
       "      <td>0.0</td>\n",
       "      <td>0.0</td>\n",
       "      <td>1800</td>\n",
       "    </tr>\n",
       "    <tr>\n",
       "      <td>39640</td>\n",
       "      <td>0.0</td>\n",
       "      <td>0.0</td>\n",
       "      <td>1.0</td>\n",
       "      <td>0.0</td>\n",
       "      <td>0.0</td>\n",
       "      <td>0.0</td>\n",
       "      <td>0.0</td>\n",
       "      <td>0.0</td>\n",
       "      <td>1900</td>\n",
       "    </tr>\n",
       "    <tr>\n",
       "      <td>39641</td>\n",
       "      <td>0.0</td>\n",
       "      <td>0.0</td>\n",
       "      <td>1.0</td>\n",
       "      <td>0.0</td>\n",
       "      <td>0.0</td>\n",
       "      <td>0.0</td>\n",
       "      <td>0.0</td>\n",
       "      <td>0.0</td>\n",
       "      <td>1900</td>\n",
       "    </tr>\n",
       "    <tr>\n",
       "      <td>39642</td>\n",
       "      <td>0.0</td>\n",
       "      <td>0.0</td>\n",
       "      <td>1.0</td>\n",
       "      <td>0.0</td>\n",
       "      <td>0.0</td>\n",
       "      <td>0.0</td>\n",
       "      <td>0.0</td>\n",
       "      <td>0.0</td>\n",
       "      <td>1100</td>\n",
       "    </tr>\n",
       "    <tr>\n",
       "      <td>39643</td>\n",
       "      <td>0.0</td>\n",
       "      <td>0.0</td>\n",
       "      <td>1.0</td>\n",
       "      <td>0.0</td>\n",
       "      <td>0.0</td>\n",
       "      <td>0.0</td>\n",
       "      <td>0.0</td>\n",
       "      <td>0.0</td>\n",
       "      <td>1300</td>\n",
       "    </tr>\n",
       "  </tbody>\n",
       "</table>\n",
       "<p>39644 rows × 9 columns</p>\n",
       "</div>"
      ],
      "text/plain": [
       "        weekday_is_monday   weekday_is_tuesday   weekday_is_wednesday  \\\n",
       "0                     1.0                  0.0                    0.0   \n",
       "1                     1.0                  0.0                    0.0   \n",
       "2                     1.0                  0.0                    0.0   \n",
       "3                     1.0                  0.0                    0.0   \n",
       "4                     1.0                  0.0                    0.0   \n",
       "...                   ...                  ...                    ...   \n",
       "39639                 0.0                  0.0                    1.0   \n",
       "39640                 0.0                  0.0                    1.0   \n",
       "39641                 0.0                  0.0                    1.0   \n",
       "39642                 0.0                  0.0                    1.0   \n",
       "39643                 0.0                  0.0                    1.0   \n",
       "\n",
       "        weekday_is_thursday   weekday_is_friday   weekday_is_saturday  \\\n",
       "0                       0.0                 0.0                   0.0   \n",
       "1                       0.0                 0.0                   0.0   \n",
       "2                       0.0                 0.0                   0.0   \n",
       "3                       0.0                 0.0                   0.0   \n",
       "4                       0.0                 0.0                   0.0   \n",
       "...                     ...                 ...                   ...   \n",
       "39639                   0.0                 0.0                   0.0   \n",
       "39640                   0.0                 0.0                   0.0   \n",
       "39641                   0.0                 0.0                   0.0   \n",
       "39642                   0.0                 0.0                   0.0   \n",
       "39643                   0.0                 0.0                   0.0   \n",
       "\n",
       "        weekday_is_sunday   is_weekend   shares  \n",
       "0                     0.0          0.0      593  \n",
       "1                     0.0          0.0      711  \n",
       "2                     0.0          0.0     1500  \n",
       "3                     0.0          0.0     1200  \n",
       "4                     0.0          0.0      505  \n",
       "...                   ...          ...      ...  \n",
       "39639                 0.0          0.0     1800  \n",
       "39640                 0.0          0.0     1900  \n",
       "39641                 0.0          0.0     1900  \n",
       "39642                 0.0          0.0     1100  \n",
       "39643                 0.0          0.0     1300  \n",
       "\n",
       "[39644 rows x 9 columns]"
      ]
     },
     "execution_count": 263,
     "metadata": {},
     "output_type": "execute_result"
    }
   ],
   "source": [
    "df_only_days"
   ]
  },
  {
   "cell_type": "code",
   "execution_count": null,
   "metadata": {},
   "outputs": [],
   "source": []
  }
 ],
 "metadata": {
  "kernelspec": {
   "display_name": "Python 3",
   "language": "python",
   "name": "python3"
  },
  "language_info": {
   "codemirror_mode": {
    "name": "ipython",
    "version": 3
   },
   "file_extension": ".py",
   "mimetype": "text/x-python",
   "name": "python",
   "nbconvert_exporter": "python",
   "pygments_lexer": "ipython3",
   "version": "3.7.4"
  }
 },
 "nbformat": 4,
 "nbformat_minor": 2
}
